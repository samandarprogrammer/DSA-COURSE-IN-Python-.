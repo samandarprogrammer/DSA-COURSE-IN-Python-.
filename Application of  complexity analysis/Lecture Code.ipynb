{
 "cells": [
  {
   "cell_type": "markdown",
   "metadata": {},
   "source": [
    "Program on power of n with time complaxity is O(logn) and space complexity is O(logn)"
   ]
  },
  {
   "cell_type": "code",
   "execution_count": 2,
   "metadata": {},
   "outputs": [
    {
     "name": "stdout",
     "output_type": "stream",
     "text": [
      "2 5\n",
      "32\n"
     ]
    }
   ],
   "source": [
    "def power(x, n):\n",
    "    if n==0:\n",
    "        return 1\n",
    "    small_op=power(x,n//2)\n",
    "    if n%2==0:\n",
    "        return small_op * small_op\n",
    "    else:\n",
    "        return small_op * small_op * x\n",
    "# Main\n",
    "from sys import setrecursionlimit\n",
    "setrecursionlimit(11000)\n",
    "x, n=list(int(i) for i in input().strip().split(' '))\n",
    "print(power(x, n))"
   ]
  },
  {
   "cell_type": "markdown",
   "metadata": {},
   "source": [
    "Program to find intersection between two arrays"
   ]
  },
  {
   "cell_type": "code",
   "execution_count": null,
   "metadata": {},
   "outputs": [],
   "source": [
    "from sys import stdin\n",
    "\n",
    "def merge(s1,s2,arr):\n",
    "    index=0\n",
    "    i=0\n",
    "    j=0\n",
    "    while i<len(s1) and j<len(s2):\n",
    "        if s1[i]<s2[j]:\n",
    "            arr[index]=s1[i]\n",
    "            i=i+1\n",
    "            index=index+1\n",
    "        else:\n",
    "            arr[index]=s2[j]\n",
    "            j=j+1\n",
    "            index=index+1\n",
    "    while j<len(s2):\n",
    "        arr[index]=s2[j]\n",
    "        index=index+1\n",
    "        j=j+1\n",
    "    while i<len(s1):\n",
    "        arr[index]=s1[i]\n",
    "        index=index+1\n",
    "        i=i+1\n",
    "        \n",
    "def mergeSort(arr):\n",
    "    mid=len(arr)//2\n",
    "    if len(arr)==0 or len(arr)==1:\n",
    "        return arr\n",
    "    s1=arr[0:mid]\n",
    "    s2=arr[mid:]\n",
    "    mergeSort(s1)\n",
    "    mergeSort(s2)\n",
    "    merge(s1,s2,arr)\n",
    "\n",
    "def intersection(arr1,arr2,n,m):\n",
    "    if n==0 or m==0:\n",
    "        return \n",
    "    mergeSort(arr1)\n",
    "    mergeSort(arr2)\n",
    "    i=0\n",
    "    j=0\n",
    "    while i<len(arr1):\n",
    "        if arr1[i]==arr2[j]:\n",
    "            print(arr1[i],end=' ')\n",
    "            i=i+1\n",
    "            j=j+1\n",
    "        elif arr1[i]<arr2[j]:\n",
    "            i=i+1\n",
    "        else:\n",
    "            j=j+1     \n",
    "\n",
    "\n",
    "\n",
    "# Taking input using fast I/O method\n",
    "def takeInput() :\n",
    "    n = int(stdin.readline().strip())\n",
    "    \n",
    "    if n == 0 :\n",
    "        return list(), 0\n",
    "\n",
    "    arr = list(map(int, stdin.readline().strip().split(\" \")))\n",
    "    return arr, n\n",
    "\n",
    "\n",
    "#main\n",
    "t = int(stdin.readline().strip())\n",
    "\n",
    "while t > 0 :\n",
    "\n",
    "    arr1, n = takeInput()\n",
    "    arr2, m = takeInput()\n",
    "    intersection(arr1, arr2, n, m)\n",
    "    print()\n",
    "\n",
    "    t -= 1"
   ]
  },
  {
   "cell_type": "code",
   "execution_count": 5,
   "metadata": {},
   "outputs": [
    {
     "name": "stdout",
     "output_type": "stream",
     "text": [
      "1 -1 4\n",
      "3\n",
      "2\n"
     ]
    }
   ],
   "source": [
    "def arrayEquilibriumIndex(arr, n) :\n",
    "    left_sum=0\n",
    "    right_sum=0\n",
    "    for i in arr:\n",
    "        right_sum=right_sum+i\n",
    "     \n",
    "    i=0\n",
    "    while i<n:\n",
    "        if left_sum==right_sum - arr[i]:\n",
    "            return i\n",
    "        else:\n",
    "            left_sum = left_sum + arr[i]\n",
    "            right_sum = right_sum - arr[i]\n",
    "            i=i+1\n",
    "    return -1\n",
    "\n",
    "arr=[int(i) for i in input().strip().split()]        \n",
    "n=int(input())\n",
    "ans=arrayEquilibriumIndex(arr,n)\n",
    "print(ans)"
   ]
  }
 ],
 "metadata": {
  "kernelspec": {
   "display_name": "Python 3",
   "language": "python",
   "name": "python3"
  },
  "language_info": {
   "codemirror_mode": {
    "name": "ipython",
    "version": 3
   },
   "file_extension": ".py",
   "mimetype": "text/x-python",
   "name": "python",
   "nbconvert_exporter": "python",
   "pygments_lexer": "ipython3",
   "version": "3.9.0"
  }
 },
 "nbformat": 4,
 "nbformat_minor": 4
}
