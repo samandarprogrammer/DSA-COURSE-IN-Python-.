{
 "cells": [
  {
   "cell_type": "code",
   "execution_count": 37,
   "metadata": {},
   "outputs": [
    {
     "name": "stdout",
     "output_type": "stream",
     "text": [
      "1 7 1 3 7\n",
      "5\n",
      "3\n"
     ]
    }
   ],
   "source": [
    "def Unique_Element(arr,n):  ##Time complexity = O(n^2)\n",
    "    for i in range(0,n-1):\n",
    "        j=0\n",
    "        while j<n:\n",
    "            if i==j:\n",
    "                j= j+1\n",
    "            if arr[i]==arr[j]:\n",
    "                uniq=-1\n",
    "                break\n",
    "            else:\n",
    "                uniq=arr[i]\n",
    "                j=j+1\n",
    "        if uniq==-1:\n",
    "            pass\n",
    "        else:\n",
    "            return uniq\n",
    "\n",
    "   \n",
    "arr=[int(i) for i in input().strip().split()]\n",
    "n=int(input())\n",
    "ans=Unique_Element(arr,n)\n",
    "print(ans)"
   ]
  },
  {
   "cell_type": "code",
   "execution_count": 40,
   "metadata": {},
   "outputs": [
    {
     "name": "stdout",
     "output_type": "stream",
     "text": [
      "2 2 3 3 4\n",
      "5\n",
      "4\n"
     ]
    }
   ],
   "source": [
    "def Merge(s1,s2,arr):\n",
    "    index=0\n",
    "    i=0\n",
    "    j=0\n",
    "    \n",
    "    while i< len(s1) and j<len(s2):\n",
    "        if s1[i]<s2[j]:\n",
    "            arr[index]=s1[i]\n",
    "            index=index+1\n",
    "            i=i+1\n",
    "        else:\n",
    "            arr[index]=s2[j]\n",
    "            index=index+1\n",
    "            j=j+1\n",
    "     \n",
    "    while i<len(s1):\n",
    "            arr[index]=s1[i]\n",
    "            index=index+1\n",
    "            i=i+1\n",
    "    while j<len(s2):\n",
    "            arr[index]=s2[j]\n",
    "            index=index+1\n",
    "            j=j+1\n",
    "             \n",
    "        \n",
    "def Merge_Sort(arr):\n",
    "    mid = len(arr)//2\n",
    "    if len(arr)==0 or len(arr)==1:\n",
    "        return arr\n",
    "    s1=arr[:mid]\n",
    "    s2=arr[mid:]\n",
    "    Merge_Sort(s1)\n",
    "    Merge_Sort(s2)\n",
    "    Merge(s1,s2,arr)\n",
    "    \n",
    "def Unique_Element_Sorted(arr,n):  #Time complexity =O(nlogn)\n",
    "    Merge_Sort(arr)\n",
    "    i=0\n",
    "    while i<n-1:\n",
    "        if arr[i]==arr[i+1]:\n",
    "            i=i+2\n",
    "        else:\n",
    "            return arr[i]\n",
    "    return arr[n-1]   \n",
    "\n",
    "arr=[int(i) for i in input().strip().split()]\n",
    "n=int(input())\n",
    "ans=Unique_Element_Sorted(arr,n)\n",
    "print(ans)"
   ]
  },
  {
   "cell_type": "code",
   "execution_count": 39,
   "metadata": {},
   "outputs": [
    {
     "name": "stdout",
     "output_type": "stream",
     "text": [
      "2\n",
      "1\n",
      "2\n"
     ]
    }
   ],
   "source": [
    "def Unique_Element_XOR(arr,n): #Time complexity = O(n)\n",
    "    if len(arr)==1:\n",
    "        return arr[0]\n",
    "    ans = arr[0]^ arr[1]\n",
    "    for i in range(2,n):\n",
    "        ans = ans^arr[i]\n",
    "    return ans\n",
    "\n",
    "arr=[int(i) for i in input().strip().split()]\n",
    "n=int(input())\n",
    "ans=Unique_Element_XOR(arr,n)\n",
    "print(ans)"
   ]
  },
  {
   "cell_type": "code",
   "execution_count": 43,
   "metadata": {},
   "outputs": [
    {
     "name": "stdout",
     "output_type": "stream",
     "text": [
      "1 2 2 3\n",
      "4\n",
      "2\n"
     ]
    }
   ],
   "source": [
    "def findDuplicate_Sort(arr, n) :\n",
    "    Merge_Sort(arr)\n",
    "    for i in range(0,n-1):\n",
    "        if arr[i]==arr[i+1]:\n",
    "            return arr[i]\n",
    "        else:\n",
    "            pass\n",
    "        \n",
    "arr=[int(i) for i in input().strip().split()]\n",
    "n=int(input())\n",
    "ans=findDuplicate_Sort(arr,n)\n",
    "print(ans)        "
   ]
  },
  {
   "cell_type": "code",
   "execution_count": 67,
   "metadata": {},
   "outputs": [
    {
     "name": "stdout",
     "output_type": "stream",
     "text": [
      "0 1 2 1 3\n",
      "5\n",
      "1\n"
     ]
    }
   ],
   "source": [
    "def findDuplicate_Add(arr,n):\n",
    "    sum_arr=0\n",
    "    for i in arr:\n",
    "        sum_arr = sum_arr + i\n",
    "    \n",
    "    sum_n_2=(n-2)*(n-1)//2\n",
    "    duplicate = sum_arr - sum_n_2\n",
    "    return duplicate\n",
    "\n",
    "\n",
    "arr=[int(i) for i in input().strip().split()]\n",
    "n=int(input())\n",
    "ans=findDuplicate_Add(arr,n)\n",
    "print(ans)"
   ]
  },
  {
   "cell_type": "code",
   "execution_count": 73,
   "metadata": {},
   "outputs": [
    {
     "name": "stdout",
     "output_type": "stream",
     "text": [
      "1 3 6 2 5 4 3 2 4\n",
      "9\n",
      "7\n",
      "7\n"
     ]
    }
   ],
   "source": [
    "def pairSum(arr, n, num) :\n",
    "    pair=0\n",
    "    for i in range(0,n-1):\n",
    "        j=i+1\n",
    "        while j<n:\n",
    "            if arr[i] + arr[j]==num:\n",
    "                pair = pair + 1\n",
    "                j=j+1\n",
    "            else:\n",
    "                j=j+1\n",
    "    return pair            \n",
    "\n",
    "arr=[int(i) for i in input().strip().split()]\n",
    "n=int(input())\n",
    "num = int(input())\n",
    "ans=pairSum(arr,n,num)\n",
    "print(ans)"
   ]
  },
  {
   "cell_type": "code",
   "execution_count": 34,
   "metadata": {},
   "outputs": [
    {
     "name": "stdout",
     "output_type": "stream",
     "text": [
      "2 3 3 3 3 3 4\n",
      "7\n",
      "6\n",
      "11\n"
     ]
    }
   ],
   "source": [
    "def pairSum(arr, n ,num):\n",
    "    arr.sort()\n",
    "    i=0\n",
    "    j=n-1\n",
    "    comb=0\n",
    "    while i<j:\n",
    "        if arr[i] + arr[j] < num:\n",
    "            i=i+1\n",
    "        elif arr[i] + arr[j] >num:\n",
    "            j=j-1\n",
    "        else:\n",
    "            if arr[i]==arr[j]:\n",
    "                total_ele = j-i +1\n",
    "                comb =comb+ total_ele*(total_ele-1)//2\n",
    "                return comb\n",
    "                \n",
    "            startele=arr[i]\n",
    "            endele=arr[j]\n",
    "            \n",
    "            tempstart=i+1\n",
    "            tempend=j-1\n",
    "            while tempstart <= tempend and arr[tempstart]==startele:\n",
    "                tempstart+=1\n",
    "             \n",
    "            while tempend >= tempstart and arr[tempend]==endele:\n",
    "                tempend = tempend-1\n",
    "                \n",
    "            totalelefromstart = tempstart -i\n",
    "            totalelefromend = j - tempend \n",
    "            comb += totalelefromstart * totalelefromend\n",
    "            i=tempstart\n",
    "            j=tempend\n",
    "    return comb\n",
    "                \n",
    "arr=[int(i) for i in input().strip().split()]\n",
    "n=int(input())\n",
    "num = int(input())\n",
    "ans=pairSum(arr,n,num)\n",
    "print(ans)               "
   ]
  },
  {
   "cell_type": "code",
   "execution_count": 39,
   "metadata": {},
   "outputs": [
    {
     "name": "stdout",
     "output_type": "stream",
     "text": [
      "6 1 6 5 3 2 5 0 5 6 0 \n",
      "11\n",
      "5\n",
      "5\n"
     ]
    }
   ],
   "source": [
    "def pairSum(arr, n ,num):\n",
    "    arr.sort()\n",
    "    i=0\n",
    "    j=n-1\n",
    "    comb=0\n",
    "    while i<j:\n",
    "        if arr[i] + arr[j] < num:\n",
    "            i=i+1\n",
    "        elif arr[i] + arr[j] >num:\n",
    "            j=j-1\n",
    "        else:\n",
    "            if arr[i]==arr[j]:\n",
    "                total_ele = j-i +1\n",
    "                comb =comb+ total_ele*(total_ele-1)//2\n",
    "                return comb\n",
    "                \n",
    "            startele=arr[i]\n",
    "            endele=arr[j]\n",
    "            \n",
    "            tempstart=i+1\n",
    "            tempend=j-1\n",
    "            while tempstart <= tempend and arr[tempstart]==startele:\n",
    "                tempstart+=1\n",
    "             \n",
    "            while tempend >= tempstart and arr[tempend]==endele:\n",
    "                tempend = tempend-1\n",
    "                \n",
    "            totalelefromstart = tempstart -i\n",
    "            totalelefromend = j - tempend \n",
    "            comb += totalelefromstart * totalelefromend\n",
    "            i=tempstart\n",
    "            j=tempend\n",
    "    return comb\n",
    "\n",
    "def tripletSum(arr, n, num) :\n",
    "    count=0\n",
    "    arr.sort()\n",
    "    for i in range(0,n):\n",
    "        new_num = num - arr[i]\n",
    "        new_arr=arr[i+1:]\n",
    "        n=len(new_arr)\n",
    "        count= count + pairSum(new_arr,n,new_num)\n",
    "    return count\n",
    "\n",
    "arr=[int(i) for i in input().strip().split()]\n",
    "n=int(input())\n",
    "num = int(input())\n",
    "ans=tripletSum(arr,n,num)\n",
    "print(ans)   "
   ]
  },
  {
   "cell_type": "code",
   "execution_count": 60,
   "metadata": {},
   "outputs": [
    {
     "name": "stdout",
     "output_type": "stream",
     "text": [
      "1 2 3 4 5 6 7\n",
      "7\n",
      "2\n",
      "[3, 4, 5, 6, 7, 1, 2]\n"
     ]
    }
   ],
   "source": [
    "def rotate(arr, n, d):\n",
    "    while d!=0:\n",
    "        arr.append(arr[0])\n",
    "        arr.pop(0)\n",
    "        d=d-1\n",
    "        \n",
    "arr=[int(i) for i in input().strip().split()]\n",
    "n=int(input())\n",
    "d = int(input())\n",
    "rotate(arr,n,d)\n",
    "print(arr)        "
   ]
  },
  {
   "cell_type": "code",
   "execution_count": 86,
   "metadata": {},
   "outputs": [
    {
     "name": "stdout",
     "output_type": "stream",
     "text": [
      "1 2 3 4\n",
      "4\n",
      "0\n",
      "[1, 2, 3, 4]\n"
     ]
    }
   ],
   "source": [
    "def rotate(arr, n, d):\n",
    "    temp_d=d\n",
    "    arr1=[]\n",
    "    for i in range(0,d):\n",
    "        arr1.append(arr[i])\n",
    "    \n",
    "    for i in range(0,n-d):\n",
    "        arr[i]=arr[i+d]\n",
    "    \n",
    "    j=0\n",
    "    for i in range(n-d,n):\n",
    "        arr[i]=arr1[j]\n",
    "        j=j+1\n",
    "        \n",
    "arr=[int(i) for i in input().strip().split()]\n",
    "n=int(input())\n",
    "d = int(input())\n",
    "rotate(arr,n,d)\n",
    "print(arr) "
   ]
  },
  {
   "cell_type": "code",
   "execution_count": 71,
   "metadata": {},
   "outputs": [
    {
     "name": "stdout",
     "output_type": "stream",
     "text": [
      "[3, 4, 1, 2]\n"
     ]
    }
   ],
   "source": [
    "arr=[3,4]\n",
    "arr1=[1,2]\n",
    "for i in arr1:\n",
    "    arr.append(i)\n",
    "print(arr)"
   ]
  },
  {
   "cell_type": "code",
   "execution_count": 75,
   "metadata": {},
   "outputs": [
    {
     "data": {
      "text/plain": [
       "[3, 4, 5, 4, 5, 6]"
      ]
     },
     "execution_count": 75,
     "metadata": {},
     "output_type": "execute_result"
    }
   ],
   "source": [
    "arr=[1,2,3,4,5,6]\n",
    "n=5\n",
    "d=2\n",
    "for i in range(0,n-d):\n",
    "    arr[i]=arr[i+d]\n",
    "    \n",
    "arr    "
   ]
  },
  {
   "cell_type": "code",
   "execution_count": 77,
   "metadata": {},
   "outputs": [
    {
     "data": {
      "text/plain": [
       "[4, 1, 2, 3]"
      ]
     },
     "execution_count": 77,
     "metadata": {},
     "output_type": "execute_result"
    }
   ],
   "source": [
    "arr=[1,2,3]\n",
    "arr.pop\n",
    "arr.insert(0,4)\n",
    "arr"
   ]
  },
  {
   "cell_type": "code",
   "execution_count": 84,
   "metadata": {},
   "outputs": [
    {
     "data": {
      "text/plain": [
       "[1]"
      ]
     },
     "execution_count": 84,
     "metadata": {},
     "output_type": "execute_result"
    }
   ],
   "source": [
    "arr=[1,2,3,4]\n",
    "arr1=[]\n",
    "arr1.append(arr[0])\n",
    "arr1"
   ]
  }
 ],
 "metadata": {
  "kernelspec": {
   "display_name": "Python 3",
   "language": "python",
   "name": "python3"
  },
  "language_info": {
   "codemirror_mode": {
    "name": "ipython",
    "version": 3
   },
   "file_extension": ".py",
   "mimetype": "text/x-python",
   "name": "python",
   "nbconvert_exporter": "python",
   "pygments_lexer": "ipython3",
   "version": "3.9.0"
  }
 },
 "nbformat": 4,
 "nbformat_minor": 4
}
