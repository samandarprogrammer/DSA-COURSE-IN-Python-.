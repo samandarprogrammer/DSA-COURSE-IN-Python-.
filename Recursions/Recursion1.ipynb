{
 "cells": [
  {
   "cell_type": "code",
   "execution_count": 3,
   "metadata": {},
   "outputs": [
    {
     "name": "stdout",
     "output_type": "stream",
     "text": [
      "5\n",
      "120\n"
     ]
    }
   ],
   "source": [
    "def fact(n):\n",
    "    if n==1 or n==0:\n",
    "        return 1\n",
    "    small_ip=(n-1)\n",
    "    output=n*fact(small_ip)\n",
    "    return output\n",
    "import sys\n",
    "sys.setrecursionlimit(3000)\n",
    "n=int(input())\n",
    "print(fact(n))"
   ]
  },
  {
   "cell_type": "code",
   "execution_count": 8,
   "metadata": {},
   "outputs": [
    {
     "name": "stdout",
     "output_type": "stream",
     "text": [
      "5\n"
     ]
    },
    {
     "data": {
      "text/plain": [
       "15"
      ]
     },
     "execution_count": 8,
     "metadata": {},
     "output_type": "execute_result"
    }
   ],
   "source": [
    "def Sum_n(n):\n",
    "    if n==0:\n",
    "        return 0\n",
    "    small_op=Sum_n(n-1)\n",
    "    output=n+small_op\n",
    "    return output\n",
    "n=int(input())\n",
    "Sum_n(n)"
   ]
  },
  {
   "cell_type": "code",
   "execution_count": 21,
   "metadata": {},
   "outputs": [
    {
     "name": "stdout",
     "output_type": "stream",
     "text": [
      "2 3\n"
     ]
    },
    {
     "data": {
      "text/plain": [
       "8"
      ]
     },
     "execution_count": 21,
     "metadata": {},
     "output_type": "execute_result"
    }
   ],
   "source": [
    "def power_of_n(x,n):\n",
    "    if n==0:\n",
    "        return 1\n",
    "    small_op=power_of_n(x,n-1)\n",
    "    output=x*small_op\n",
    "    return output\n",
    "x,n=input().strip().split()\n",
    "x=int(x)\n",
    "n=int(n)\n",
    "power_of_n(x,n)"
   ]
  },
  {
   "cell_type": "code",
   "execution_count": 25,
   "metadata": {},
   "outputs": [
    {
     "name": "stdout",
     "output_type": "stream",
     "text": [
      "4\n",
      "4\n",
      "3\n",
      "2\n",
      "1\n"
     ]
    }
   ],
   "source": [
    "def print_n_to_1(n):\n",
    "    if n==0:\n",
    "        return\n",
    "    print(n)\n",
    "    print_n_to_1(n-1)\n",
    "    \n",
    "n=int(input())    \n",
    "print_n_to_1(n)"
   ]
  },
  {
   "cell_type": "code",
   "execution_count": 24,
   "metadata": {},
   "outputs": [
    {
     "name": "stdout",
     "output_type": "stream",
     "text": [
      "5\n",
      "1\n",
      "2\n",
      "3\n",
      "4\n",
      "5\n"
     ]
    }
   ],
   "source": [
    "def print_1_to_n(n):\n",
    "    if n==0:\n",
    "        return \n",
    "    print_1_to_n(n-1)\n",
    "    print(n)\n",
    "    return\n",
    "n=int(input())    \n",
    "print_1_to_n(n)"
   ]
  },
  {
   "cell_type": "code",
   "execution_count": 4,
   "metadata": {},
   "outputs": [
    {
     "name": "stdout",
     "output_type": "stream",
     "text": [
      "3\n"
     ]
    },
    {
     "data": {
      "text/plain": [
       "2"
      ]
     },
     "execution_count": 4,
     "metadata": {},
     "output_type": "execute_result"
    }
   ],
   "source": [
    "def fib(n):\n",
    "    if n==1 or n==2:\n",
    "        return 1\n",
    "    fib_n_1=fib(n-1)\n",
    "    fib_n_2=fib(n-2)\n",
    "    output=fib_n_1 + fib_n_2\n",
    "    return output\n",
    "\n",
    "n=int(input())\n",
    "fib(n)"
   ]
  },
  {
   "cell_type": "code",
   "execution_count": 12,
   "metadata": {},
   "outputs": [
    {
     "name": "stdout",
     "output_type": "stream",
     "text": [
      "5 4 23\n",
      "false\n"
     ]
    }
   ],
   "source": [
    "def Is_Sorted(a):\n",
    "    l=len(a)\n",
    "    if l ==1 or l==0:\n",
    "        return True\n",
    "    if a[0]>a[1]:\n",
    "        return False\n",
    "    op=Is_Sorted(a[1:])\n",
    "    return op    \n",
    "\n",
    "a=[int(x) for x in input().strip().split()]   \n",
    "ans=Is_Sorted(a)\n",
    "if ans:\n",
    "    print(\"true\")\n",
    "else:\n",
    "    print(\"false\")"
   ]
  },
  {
   "cell_type": "code",
   "execution_count": 48,
   "metadata": {},
   "outputs": [
    {
     "name": "stdout",
     "output_type": "stream",
     "text": [
      "4 5 6 8 4 5\n",
      "false\n"
     ]
    }
   ],
   "source": [
    "def Is_Sorted_Better(a,si):\n",
    "    l=len(a)\n",
    "    if si ==l-1 or si==l:\n",
    "        return True\n",
    "    if a[si]>a[si+1]:\n",
    "        return False\n",
    "    op=Is_Sorted_Better(a,si+1)\n",
    "    return op    \n",
    "\n",
    "a=[int(x) for x in input().strip().split()]   \n",
    "ans=Is_Sorted_Better(a,0)\n",
    "if ans:\n",
    "    print(\"true\")\n",
    "else:\n",
    "    print(\"false\")"
   ]
  },
  {
   "cell_type": "code",
   "execution_count": 16,
   "metadata": {},
   "outputs": [
    {
     "name": "stdout",
     "output_type": "stream",
     "text": [
      "5\n"
     ]
    },
    {
     "data": {
      "text/plain": [
       "5"
      ]
     },
     "execution_count": 16,
     "metadata": {},
     "output_type": "execute_result"
    }
   ],
   "source": [
    "def Sum_of_arr(a):\n",
    "    l=len(a)\n",
    "    if l==0 or l==1:\n",
    "        return a[0]\n",
    "    small_ip=Sum_of_arr(a[1:])\n",
    "    op=a[0]+ small_ip\n",
    "    return op\n",
    "a=[int(x) for x in input().strip().split()]  \n",
    "Sum_of_arr(a)"
   ]
  },
  {
   "cell_type": "code",
   "execution_count": 38,
   "metadata": {},
   "outputs": [
    {
     "name": "stdout",
     "output_type": "stream",
     "text": [
      "1 2 3 4\n",
      "3\n",
      "true\n"
     ]
    }
   ],
   "source": [
    "def checkNumber(arr,x):\n",
    "    l=len(arr)\n",
    "    if l==1:\n",
    "        if arr[0]==x:\n",
    "            return True\n",
    "        else:\n",
    "            return False\n",
    "    if arr[0]==x:\n",
    "        return True\n",
    "    op=checkNumber(arr[1:],x) \n",
    "    return op\n",
    "a=[int(x) for x in input().strip().split()]      \n",
    "x=int(input())    \n",
    "ans=checkNumber(a,x)\n",
    "if ans:\n",
    "    print(\"true\")\n",
    "else:\n",
    "    print(\"false\")"
   ]
  },
  {
   "cell_type": "code",
   "execution_count": 44,
   "metadata": {},
   "outputs": [
    {
     "name": "stdout",
     "output_type": "stream",
     "text": [
      "1 2 3\n",
      "5\n",
      "false\n"
     ]
    }
   ],
   "source": [
    "def checkNumberBetter(arr,si,x):\n",
    "    l=len(arr)\n",
    "    if si==l-1 or si==l:\n",
    "        if arr[si]==x:\n",
    "            return True\n",
    "        else:\n",
    "            return False\n",
    "    if arr[si]==x:    \n",
    "        return True\n",
    "    op=checkNumberBetter(arr,si+1,x)\n",
    "    return op\n",
    "\n",
    "a=[int(x) for x in input().strip().split()]      \n",
    "x=int(input())    \n",
    "ans=checkNumberBetter(a,0,x)\n",
    "if ans:\n",
    "    print(\"true\")\n",
    "else:\n",
    "    print(\"false\")"
   ]
  },
  {
   "cell_type": "code",
   "execution_count": 52,
   "metadata": {},
   "outputs": [
    {
     "name": "stdout",
     "output_type": "stream",
     "text": [
      "1 2 3 4\n",
      "5\n"
     ]
    },
    {
     "data": {
      "text/plain": [
       "-1"
      ]
     },
     "execution_count": 52,
     "metadata": {},
     "output_type": "execute_result"
    }
   ],
   "source": [
    "def First_occurence(arr,si,x):\n",
    "    l=len(a)\n",
    "    if si==l-1 or si==l:\n",
    "        if a[si]==x:\n",
    "            return si\n",
    "        else:\n",
    "            return-1\n",
    "    if a[si]==x:\n",
    "        return si\n",
    "    op=First_occurence(a,si+1,x)\n",
    "    return op\n",
    "\n",
    "a=[int(x) for x in input().strip().split()]      \n",
    "x=int(input())    \n",
    "First_occurence(a,0,x)"
   ]
  },
  {
   "cell_type": "code",
   "execution_count": 55,
   "metadata": {},
   "outputs": [
    {
     "name": "stdout",
     "output_type": "stream",
     "text": [
      "1 2 3 4 3\n",
      "3\n"
     ]
    },
    {
     "data": {
      "text/plain": [
       "2"
      ]
     },
     "execution_count": 55,
     "metadata": {},
     "output_type": "execute_result"
    }
   ],
   "source": [
    "def First_occurence_copy(arr,x):\n",
    "    l=len(arr)\n",
    "    if l==0:\n",
    "        return -1\n",
    "    if arr[0]==x:\n",
    "        return 0\n",
    "    op=First_occurence_copy(arr[1:],x)\n",
    "    if op==-1:\n",
    "        return -1\n",
    "    else:\n",
    "        return op+1\n",
    "        \n",
    "a=[int(x) for x in input().strip().split()]      \n",
    "x=int(input())    \n",
    "First_occurence_copy(a,x)        "
   ]
  },
  {
   "cell_type": "code",
   "execution_count": 57,
   "metadata": {},
   "outputs": [
    {
     "name": "stdout",
     "output_type": "stream",
     "text": [
      "1 2 1 3 2\n",
      "3\n"
     ]
    },
    {
     "data": {
      "text/plain": [
       "3"
      ]
     },
     "execution_count": 57,
     "metadata": {},
     "output_type": "execute_result"
    }
   ],
   "source": [
    "def LastIndex(arr,x):\n",
    "    l=len(arr)\n",
    "    if l==0:\n",
    "        return -1\n",
    "    small_op=LastIndex(arr[1:],x)\n",
    "    if small_op==-1:\n",
    "        if arr[0]==x:\n",
    "            return 0\n",
    "        else:\n",
    "            return -1\n",
    "    else:    \n",
    "        return small_op+1\n",
    "    \n",
    "    \n",
    "a=[int(x) for x in input().strip().split()]      \n",
    "x=int(input())    \n",
    "LastIndex(a,x)      "
   ]
  },
  {
   "cell_type": "code",
   "execution_count": 67,
   "metadata": {},
   "outputs": [
    {
     "name": "stdout",
     "output_type": "stream",
     "text": [
      "1 2 1 3 2\n",
      "3\n"
     ]
    },
    {
     "data": {
      "text/plain": [
       "3"
      ]
     },
     "execution_count": 67,
     "metadata": {},
     "output_type": "execute_result"
    }
   ],
   "source": [
    "def LastIndex_si(arr,x,si):\n",
    "    l=len(arr)\n",
    "    if si==l:\n",
    "        return -1\n",
    "    small_op=LastIndex_si(arr,x,si+1)\n",
    "    if small_op==-1:\n",
    "        if arr[si]==x:\n",
    "            return si\n",
    "        else:\n",
    "            return -1\n",
    "    else:    \n",
    "        return small_op\n",
    "    \n",
    "    \n",
    "a=[int(x) for x in input().strip().split()]      \n",
    "x=int(input())    \n",
    "LastIndex_si(a,x,0)      "
   ]
  }
 ],
 "metadata": {
  "kernelspec": {
   "display_name": "Python 3",
   "language": "python",
   "name": "python3"
  },
  "language_info": {
   "codemirror_mode": {
    "name": "ipython",
    "version": 3
   },
   "file_extension": ".py",
   "mimetype": "text/x-python",
   "name": "python",
   "nbconvert_exporter": "python",
   "pygments_lexer": "ipython3",
   "version": "3.9.0"
  }
 },
 "nbformat": 4,
 "nbformat_minor": 4
}
