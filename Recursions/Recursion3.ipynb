{
 "cells": [
  {
   "cell_type": "code",
   "execution_count": 28,
   "metadata": {},
   "outputs": [
    {
     "name": "stdout",
     "output_type": "stream",
     "text": [
      "4\n",
      "1.93750\n"
     ]
    }
   ],
   "source": [
    "def Geometric_Sum(k):\n",
    "    if k==0:\n",
    "        return 1\n",
    "    a=Geometric_Sum(k-1)\n",
    "    g_sum=(a+1/2**k)\n",
    "    return g_sum\n",
    "\n",
    "k=float(input())\n",
    "ans=Geometric_Sum(k)\n",
    "print(format(ans,\".5f\"))"
   ]
  },
  {
   "cell_type": "code",
   "execution_count": 36,
   "metadata": {},
   "outputs": [
    {
     "name": "stdout",
     "output_type": "stream",
     "text": [
      "aad\n",
      "false\n"
     ]
    }
   ],
   "source": [
    "def Palindrome_String(s):\n",
    "    if len(s)==1:\n",
    "        return s\n",
    "    \n",
    "    a=Palindrome_String(s[1:])\n",
    "    op=a+s[0]\n",
    "    return op\n",
    "    \n",
    "s=input()    \n",
    "ans=Palindrome_String(s)\n",
    "if ans==s:\n",
    "    print(\"true\")\n",
    "else:\n",
    "    print(\"false\")"
   ]
  },
  {
   "cell_type": "code",
   "execution_count": 44,
   "metadata": {},
   "outputs": [
    {
     "name": "stdout",
     "output_type": "stream",
     "text": [
      "racecar\n",
      "0\n",
      "6\n",
      "true\n"
     ]
    }
   ],
   "source": [
    "def Palindrome_String1(s,si,ei):\n",
    "    if len(s)==1:\n",
    "        return True\n",
    "    if s[si]==s[ei]:\n",
    "        small_op=True\n",
    "        return small_op\n",
    "    else:\n",
    "        small_op=False\n",
    "        return small_op\n",
    "    if small_op:\n",
    "        Palindrome_String1(s,si+1,ei-1)\n",
    "    else:\n",
    "        return False\n",
    "    \n",
    "s=input()    \n",
    "si=int(input())\n",
    "ei=int(input())\n",
    "ans=Palindrome_String1(s,si,ei)\n",
    "if ans:\n",
    "    print('true')\n",
    "else:\n",
    "    print(\"false\")"
   ]
  },
  {
   "cell_type": "code",
   "execution_count": 48,
   "metadata": {},
   "outputs": [
    {
     "data": {
      "text/plain": [
       "3"
      ]
     },
     "execution_count": 48,
     "metadata": {},
     "output_type": "execute_result"
    }
   ],
   "source": [
    "a=int(23%10)\n",
    "a"
   ]
  },
  {
   "cell_type": "code",
   "execution_count": 53,
   "metadata": {},
   "outputs": [
    {
     "name": "stdout",
     "output_type": "stream",
     "text": [
      "3\n"
     ]
    },
    {
     "data": {
      "text/plain": [
       "3"
      ]
     },
     "execution_count": 53,
     "metadata": {},
     "output_type": "execute_result"
    }
   ],
   "source": [
    "def Sum_int(n):\n",
    "    ne=str(n)\n",
    "    if len(ne)==1:\n",
    "        return n\n",
    "    small_op=Sum_int(int(n/10))\n",
    "    mod=n%10\n",
    "    op=mod+small_op\n",
    "    return op\n",
    "n=int(input())\n",
    "Sum_int(n)"
   ]
  },
  {
   "cell_type": "code",
   "execution_count": 64,
   "metadata": {},
   "outputs": [
    {
     "name": "stdout",
     "output_type": "stream",
     "text": [
      "11\n",
      "111\n",
      "1221\n"
     ]
    }
   ],
   "source": [
    " def Mul_two_int(n,m):\n",
    "    if m==0:\n",
    "        return 0\n",
    "    a=Mul_two_int(n,m-1)\n",
    "    small_op=a+n\n",
    "    return small_op\n",
    "n=int(input())\n",
    "m=int(input())\n",
    "print(Mul_two_int(n,m))"
   ]
  },
  {
   "cell_type": "code",
   "execution_count": 82,
   "metadata": {},
   "outputs": [
    {
     "name": "stdout",
     "output_type": "stream",
     "text": [
      "000122003\n"
     ]
    },
    {
     "data": {
      "text/plain": [
       "2"
      ]
     },
     "execution_count": 82,
     "metadata": {},
     "output_type": "execute_result"
    }
   ],
   "source": [
    "#If our input start from 0 (zeros) eg:-00123,then python \n",
    "def Count_Zeros(n):\n",
    "    ne=str(n)\n",
    "    if len(ne)==1:\n",
    "        if n==0:\n",
    "            return 1\n",
    "        else:\n",
    "            return 0\n",
    "    small_ip=int(n/10)\n",
    "    a=Count_Zeros(small_ip)\n",
    "    if 0==n%10:\n",
    "        a=a+1\n",
    "        return a\n",
    "    else:\n",
    "        return a\n",
    "    \n",
    "n=int(input())    \n",
    "print(Count_Zeros(n))"
   ]
  },
  {
   "cell_type": "code",
   "execution_count": 2,
   "metadata": {},
   "outputs": [
    {
     "name": "stdout",
     "output_type": "stream",
     "text": [
      "0123\n",
      "123\n"
     ]
    }
   ],
   "source": [
    "def String_Int(s):\n",
    "    l=len(s)\n",
    "    if l==1:\n",
    "        n=int(s)\n",
    "        return n\n",
    "    small_ip=s[1:]\n",
    "    a=String_Int(small_ip)\n",
    "    b=int(s[0])*(10**(l-1))\n",
    "    op=b+a\n",
    "    return op\n",
    "s=input()\n",
    "print(String_Int(s))"
   ]
  },
  {
   "cell_type": "code",
   "execution_count": 19,
   "metadata": {},
   "outputs": [
    {
     "name": "stdout",
     "output_type": "stream",
     "text": [
      "aaaa\n"
     ]
    },
    {
     "data": {
      "text/plain": [
       "'a*a*a*a'"
      ]
     },
     "execution_count": 19,
     "metadata": {},
     "output_type": "execute_result"
    }
   ],
   "source": [
    "def Pair_Star(s):\n",
    "    if len(s)==1:\n",
    "        return s\n",
    "    small_ip=s[1:]\n",
    "    a=Pair_Star(small_ip)\n",
    "    if s[0]==s[1]:\n",
    "        op=s[0]+\"*\"+a\n",
    "        return op\n",
    "    else:\n",
    "        op=s[0]+a\n",
    "        return op\n",
    "s=input()    \n",
    "Pair_Star(s)"
   ]
  },
  {
   "cell_type": "code",
   "execution_count": 20,
   "metadata": {},
   "outputs": [
    {
     "name": "stdout",
     "output_type": "stream",
     "text": [
      "abbbbbbbbbbbbbbbb\n",
      "false\n"
     ]
    }
   ],
   "source": [
    "def checkAB(str):\n",
    "    if (len(str) == 0):\n",
    "        return True\n",
    "\n",
    "    if (str[0] == 'a'):\n",
    "        if (len(str[1:]) > 1 and str[1:3] == 'bb'):\n",
    "            return checkAB(str[3:])\n",
    "        else:\n",
    "            return checkAB(str[1:])\n",
    "    else:\n",
    "        return False\n",
    "    \n",
    "str=input()    \n",
    "ans=checkAB(str)\n",
    "if ans:\n",
    "    print(\"true\")\n",
    "else:\n",
    "    print(\"false\")"
   ]
  },
  {
   "cell_type": "code",
   "execution_count": 19,
   "metadata": {},
   "outputs": [
    {
     "name": "stdout",
     "output_type": "stream",
     "text": [
      "abbbb\n",
      "false\n"
     ]
    }
   ],
   "source": [
    "def check_A_B(s,i,l):\n",
    "    if l==1 :\n",
    "        if s[0]!=\"a\" :#or s[i:l+1]!=\"aa\":\n",
    "            return \"false\"\n",
    "        else:\n",
    "            return \"true\"\n",
    "            \n",
    "    if i==(l-2):\n",
    "        return \"true\"\n",
    "    if s[0]!=\"a\":\n",
    "        return \"false\"\n",
    "    if s[i]=='a':\n",
    "        if s[i:i+3]!=\"abb\" and s[i:i+2]!=\"aa\":\n",
    "            return \"false\"\n",
    "    if s[i]==\"b\":\n",
    "        if s[i:i+3]!=\"bba\" and s[i:i+2]!=\"ba\":\n",
    "            return \"false\"\n",
    "    i+=1\n",
    "    return check(s,i,l)\n",
    "s=input()\n",
    "print(check_A_B(s,0,len(s)-1)) \n"
   ]
  },
  {
   "cell_type": "code",
   "execution_count": 1,
   "metadata": {},
   "outputs": [
    {
     "name": "stdout",
     "output_type": "stream",
     "text": [
      "5\n",
      "13\n"
     ]
    }
   ],
   "source": [
    "def Stair_Case(n):\n",
    "    if n==0:\n",
    "        return n+1\n",
    "    if n<=2:\n",
    "        return n\n",
    "    return Stair_Case(n-1) + Stair_Case(n-2) + Stair_Case(n-3)\n",
    "        \n",
    "n=int(input())\n",
    "print(Stair_Case(n))"
   ]
  }
 ],
 "metadata": {
  "kernelspec": {
   "display_name": "Python 3",
   "language": "python",
   "name": "python3"
  },
  "language_info": {
   "codemirror_mode": {
    "name": "ipython",
    "version": 3
   },
   "file_extension": ".py",
   "mimetype": "text/x-python",
   "name": "python",
   "nbconvert_exporter": "python",
   "pygments_lexer": "ipython3",
   "version": "3.9.0"
  }
 },
 "nbformat": 4,
 "nbformat_minor": 4
}
