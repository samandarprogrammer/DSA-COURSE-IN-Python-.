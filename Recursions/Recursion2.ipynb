{
 "cells": [
  {
   "cell_type": "code",
   "execution_count": 20,
   "metadata": {},
   "outputs": [
    {
     "data": {
      "text/plain": [
       "'xxxbbbccc'"
      ]
     },
     "execution_count": 20,
     "metadata": {},
     "output_type": "execute_result"
    }
   ],
   "source": [
    "def replacechar(s,a,b):\n",
    "    if len(s)==0:\n",
    "        return s\n",
    "    op=replacechar(s[1:],a,b)\n",
    "    if s[0]==a:\n",
    "        return b+op\n",
    "    else:\n",
    "        return s[0]+op\n",
    "    \n",
    "    \n",
    "replacechar(\"aaabbbccc\",\"a\",\"x\")    "
   ]
  },
  {
   "cell_type": "code",
   "execution_count": 25,
   "metadata": {},
   "outputs": [
    {
     "data": {
      "text/plain": [
       "'ab'"
      ]
     },
     "execution_count": 25,
     "metadata": {},
     "output_type": "execute_result"
    }
   ],
   "source": [
    "def replacex(s,a,b):\n",
    "    if len(s)==0:\n",
    "        return s\n",
    "    op=replacex(s[1:],a,b)\n",
    "    if s[0]==a:\n",
    "        return b +op\n",
    "    else:\n",
    "        return s[0] + op\n",
    "replacex(\"xaxb\",'x','')    "
   ]
  },
  {
   "cell_type": "code",
   "execution_count": 36,
   "metadata": {},
   "outputs": [
    {
     "name": "stdout",
     "output_type": "stream",
     "text": [
      "xabx\n"
     ]
    },
    {
     "data": {
      "text/plain": [
       "'ab'"
      ]
     },
     "execution_count": 36,
     "metadata": {},
     "output_type": "execute_result"
    }
   ],
   "source": [
    "def replacex1(s):\n",
    "    if len(s)==0:\n",
    "        return s\n",
    "    op=replacex1(s[1:])\n",
    "    if s[0]=='x':\n",
    "        return op.replace('x','')\n",
    "    else:\n",
    "        return s[0] + op\n",
    "    \n",
    "s=input()    \n",
    "replacex1(s)"
   ]
  },
  {
   "cell_type": "code",
   "execution_count": 3,
   "metadata": {},
   "outputs": [
    {
     "name": "stdout",
     "output_type": "stream",
     "text": [
      "abpi\n"
     ]
    },
    {
     "data": {
      "text/plain": [
       "'ab3.14'"
      ]
     },
     "execution_count": 3,
     "metadata": {},
     "output_type": "execute_result"
    }
   ],
   "source": [
    "def replacepi(s):\n",
    "    if len(s)==0 or len(s)==1:\n",
    "        return s\n",
    "    if s[0]=='p' and s[1]=='i':\n",
    "        small_op=replacepi(s[2:])\n",
    "        return '3.14'+small_op\n",
    "    else:\n",
    "        small_op=replacepi(s[1:])\n",
    "        return s[0] + small_op\n",
    "    \n",
    "s=input()    \n",
    "replacepi(s)"
   ]
  },
  {
   "cell_type": "code",
   "execution_count": 10,
   "metadata": {},
   "outputs": [
    {
     "name": "stdout",
     "output_type": "stream",
     "text": [
      "xxxyyyww\n"
     ]
    },
    {
     "data": {
      "text/plain": [
       "'xyw'"
      ]
     },
     "execution_count": 10,
     "metadata": {},
     "output_type": "execute_result"
    }
   ],
   "source": [
    "def removeConsecutiveDuplicates(s):\n",
    "    if len(s)==0 or len(s)==1:\n",
    "        return s\n",
    "    \n",
    "    if s[0]==s[1]:\n",
    "        small_op=removeConsecutiveDuplicates(s[1:])\n",
    "        return ''+small_op\n",
    "    else:\n",
    "        small_op=removeConsecutiveDuplicates(s[1:])\n",
    "        return s[0]+small_op\n",
    "   \n",
    "s=input()\n",
    "removeConsecutiveDuplicates(s)"
   ]
  },
  {
   "cell_type": "code",
   "execution_count": 11,
   "metadata": {},
   "outputs": [
    {
     "name": "stdout",
     "output_type": "stream",
     "text": [
      "1 2 3 4 5 6\n",
      "3\n",
      "0\n",
      "5\n"
     ]
    },
    {
     "data": {
      "text/plain": [
       "2"
      ]
     },
     "execution_count": 11,
     "metadata": {},
     "output_type": "execute_result"
    }
   ],
   "source": [
    "def BinarySearch(a,x,si,ei):\n",
    "    if si>ei:\n",
    "        return -1\n",
    "    mid=(si+ei)//2\n",
    "    if a[mid]==x:\n",
    "        return mid\n",
    "    elif a[mid]>x:\n",
    "        return BinarySearch(a,x,si,mid-1)\n",
    "    else:\n",
    "        return BinarySearch(a,x,mid+1,ei)\n",
    "    \n",
    "a=[int(x) for x in input().strip().split()]    \n",
    "x=int(input())\n",
    "si=int(input())\n",
    "ei=int(input())\n",
    "BinarySearch(a,x,si,ei)"
   ]
  },
  {
   "cell_type": "code",
   "execution_count": 17,
   "metadata": {},
   "outputs": [
    {
     "name": "stdout",
     "output_type": "stream",
     "text": [
      "2 6 8 5 4 3\n",
      "2 3 4 5 6 8\n"
     ]
    }
   ],
   "source": [
    "def merge(s1,s2,arr):\n",
    "    index=0\n",
    "    i=0\n",
    "    j=0\n",
    "    while i<len(s1) and j<len(s2):\n",
    "        if s1[i]<s2[j]:\n",
    "            arr[index]=s1[i]\n",
    "            i=i+1\n",
    "            index=index+1\n",
    "        else:\n",
    "            arr[index]=s2[j]\n",
    "            j=j+1\n",
    "            index=index+1\n",
    "    while j<len(s2):\n",
    "        arr[index]=s2[j]\n",
    "        index=index+1\n",
    "        j=j+1\n",
    "    while i<len(s1):\n",
    "        arr[index]=s1[i]\n",
    "        index=index+1\n",
    "        i=i+1\n",
    "        \n",
    "def mergeSort(arr):\n",
    "    mid=len(arr)//2\n",
    "    if len(arr)==0 or len(arr)==1:\n",
    "        return arr\n",
    "    s1=arr[0:mid]\n",
    "    s2=arr[mid:]\n",
    "    mergeSort(s1)\n",
    "    mergeSort(s2)\n",
    "    merge(s1,s2,arr)\n",
    "    \n",
    "\n",
    "arr=list(int(i) for i in input().strip().split(' '))\n",
    "mergeSort(arr)\n",
    "print(*arr)"
   ]
  },
  {
   "cell_type": "code",
   "execution_count": 9,
   "metadata": {},
   "outputs": [
    {
     "name": "stdout",
     "output_type": "stream",
     "text": [
      "5\n",
      "1 3 2 4 5\n",
      "1 2 3 4 5\n"
     ]
    }
   ],
   "source": [
    "def Partition(arr,start,end):\n",
    "    index=0\n",
    "    pivot=arr[start]\n",
    "    for i in range(start,end+1):\n",
    "        if pivot>arr[i]:\n",
    "            index=index+1\n",
    "    arr[start+index],arr[start]=arr[start],arr[start+index]\n",
    "    i=start\n",
    "    j=end\n",
    "    while i<start+index and j>=start+index:\n",
    "        if arr[i]<pivot:\n",
    "            i=i+1\n",
    "        elif arr[j]>=pivot:\n",
    "            j=j-1\n",
    "        else:\n",
    "            arr[i],arr[j]=arr[j],arr[i]\n",
    "            i=i+1\n",
    "            j=j-1\n",
    "    return start+index          \n",
    "        \n",
    "def quickSort(arr, start, end):\n",
    "    if start>=end:\n",
    "        return\n",
    "    i=Partition(arr,start,end)\n",
    "    quickSort(arr,start,i-1)\n",
    "    quickSort(arr,i+1,end)\n",
    "    \n",
    "n=int(input())\n",
    "arr=list(int(i) for i in input().strip().split(' '))\n",
    "quickSort(arr, 0, n-1)\n",
    "print(*arr)"
   ]
  },
  {
   "cell_type": "code",
   "execution_count": 4,
   "metadata": {},
   "outputs": [
    {
     "name": "stdout",
     "output_type": "stream",
     "text": [
      "3\n",
      "a c\n",
      "a b\n",
      "c b\n",
      "a c\n",
      "b a\n",
      "b c\n",
      "a c\n"
     ]
    }
   ],
   "source": [
    "def Tower_Of_Hanoi(n,source,aux,dest):\n",
    "    if n==0:   ##We use that base case to handle o(zero) error and it may cause a runtime error \n",
    "        return\n",
    "    if n==1:\n",
    "        print(source+\" \"+dest)\n",
    "        return\n",
    "    Tower_Of_Hanoi(n-1,source,dest,aux)\n",
    "    print(source+\" \"+dest)\n",
    "    Tower_Of_Hanoi(n-1,aux,source,dest)\n",
    "    \n",
    "n=int(input())    \n",
    "Tower_Of_Hanoi(n,'a','b','c')"
   ]
  }
 ],
 "metadata": {
  "kernelspec": {
   "display_name": "Python 3",
   "language": "python",
   "name": "python3"
  },
  "language_info": {
   "codemirror_mode": {
    "name": "ipython",
    "version": 3
   },
   "file_extension": ".py",
   "mimetype": "text/x-python",
   "name": "python",
   "nbconvert_exporter": "python",
   "pygments_lexer": "ipython3",
   "version": "3.9.0"
  }
 },
 "nbformat": 4,
 "nbformat_minor": 4
}
