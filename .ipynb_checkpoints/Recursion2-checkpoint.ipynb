{
 "cells": [
  {
   "cell_type": "code",
   "execution_count": null,
   "metadata": {},
   "outputs": [],
   "source": []
  },
  {
   "cell_type": "code",
   "execution_count": 6,
   "metadata": {},
   "outputs": [
    {
     "name": "stdout",
     "output_type": "stream",
     "text": [
      "sandeep\n",
      "e\n",
      "d\n"
     ]
    },
    {
     "data": {
      "text/plain": [
       "'sandeep'"
      ]
     },
     "execution_count": 6,
     "metadata": {},
     "output_type": "execute_result"
    }
   ],
   "source": [
    "def replacex(s,a,b):\n",
    "    l=len(s)\n",
    "    if l==0:\n",
    "        return s\n",
    "    small_ip=s[1:]\n",
    "    small_op=replacex(small_ip,a,b)\n",
    "    if small_op==a:\n",
    "        return b + small_op\n",
    "    else:\n",
    "        return s[0] + small_op\n",
    "    \n",
    "s=input()    \n",
    "a=input()\n",
    "b=input()\n",
    "replacex(s,a,b)"
   ]
  },
  {
   "cell_type": "code",
   "execution_count": 2,
   "metadata": {},
   "outputs": [
    {
     "data": {
      "text/plain": [
       "'b'"
      ]
     },
     "execution_count": 2,
     "metadata": {},
     "output_type": "execute_result"
    }
   ],
   "source": [
    "s='abxbsbx'\n",
    "s[1]"
   ]
  }
 ],
 "metadata": {
  "kernelspec": {
   "display_name": "Python 3",
   "language": "python",
   "name": "python3"
  },
  "language_info": {
   "codemirror_mode": {
    "name": "ipython",
    "version": 3
   },
   "file_extension": ".py",
   "mimetype": "text/x-python",
   "name": "python",
   "nbconvert_exporter": "python",
   "pygments_lexer": "ipython3",
   "version": "3.9.0"
  }
 },
 "nbformat": 4,
 "nbformat_minor": 4
}
