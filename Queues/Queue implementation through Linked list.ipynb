{
 "cells": [
  {
   "cell_type": "code",
   "execution_count": 27,
   "metadata": {},
   "outputs": [
    {
     "name": "stdout",
     "output_type": "stream",
     "text": [
      "1\n",
      "1\n",
      "2\n",
      "3\n"
     ]
    },
    {
     "data": {
      "text/plain": [
       "-1"
      ]
     },
     "execution_count": 27,
     "metadata": {},
     "output_type": "execute_result"
    }
   ],
   "source": [
    "class Node:\n",
    "    def __init__(self,data):\n",
    "        self.data = data\n",
    "        self.next = None\n",
    "        \n",
    "class Queue:\n",
    "    def __init__(self):\n",
    "        self.__count = 0\n",
    "        self.__head = None\n",
    "        self.__tail = None\n",
    "        \n",
    "    def enqueue(self,data):\n",
    "        newnode = Node(data)\n",
    "        if self.__head is None:\n",
    "            self.__head = newnode\n",
    "            self.__tail = newnode\n",
    "            self.__count +=1\n",
    "        else:\n",
    "            self.__tail.next = newnode\n",
    "            self.__tail = newnode\n",
    "            self.__count +=1\n",
    "\n",
    "    def dequeue(self):\n",
    "        if self.size() == 0:\n",
    "            return -1\n",
    "        else:\n",
    "            ele = self.__head.data\n",
    "            self.__head = self.__head.next\n",
    "            self.__count -=1\n",
    "            print(ele)\n",
    "            return    \n",
    "\n",
    "    def size(self):\n",
    "        return self.__count\n",
    "\n",
    "    def isempty(self):\n",
    "        return self.size() == 0\n",
    "\n",
    "    def front(self):  \n",
    "        if self.size()==0:\n",
    "            return -1\n",
    "        return self.__head.data    \n",
    "    \n",
    "    \n",
    "q= Queue()    \n",
    "q.enqueue(1)\n",
    "q.enqueue(2)\n",
    "q.enqueue(3)\n",
    "print(q.front())\n",
    "while q.isempty() == False:\n",
    "    q.dequeue()\n",
    "q.front()    "
   ]
  }
 ],
 "metadata": {
  "kernelspec": {
   "display_name": "Python 3",
   "language": "python",
   "name": "python3"
  },
  "language_info": {
   "codemirror_mode": {
    "name": "ipython",
    "version": 3
   },
   "file_extension": ".py",
   "mimetype": "text/x-python",
   "name": "python",
   "nbconvert_exporter": "python",
   "pygments_lexer": "ipython3",
   "version": "3.9.0"
  }
 },
 "nbformat": 4,
 "nbformat_minor": 4
}
