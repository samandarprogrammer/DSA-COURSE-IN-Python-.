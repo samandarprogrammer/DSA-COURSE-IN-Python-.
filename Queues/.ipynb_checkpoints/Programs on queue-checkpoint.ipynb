{
 "cells": [
  {
   "cell_type": "markdown",
   "metadata": {},
   "source": [
    "Program where we reverse a queue by changing its front part without using any other data structure."
   ]
  },
  {
   "cell_type": "code",
   "execution_count": 38,
   "metadata": {},
   "outputs": [
    {
     "name": "stdout",
     "output_type": "stream",
     "text": [
      "7\n",
      "3 4 2 5 6 7 8\n",
      "3 4 2 5 6 7 8 "
     ]
    }
   ],
   "source": [
    "import queue\n",
    "qu = queue.Queue()\n",
    "def reverseQueue(qu): #Here we don't have to return anything here. \n",
    "    if qu.qsize() == 7:\n",
    "        return qu\n",
    "    front=qu.get()\n",
    "    reverseQueue(qu)\n",
    "    qu.put(front)\n",
    "\n",
    "\n",
    "def takeInput():\n",
    "    qu = queue.Queue()\n",
    "    n=int(input())\n",
    "    values = list(int(x) for x in input().split())\n",
    "\n",
    "    for i in range(n) :\n",
    "        qu.put(values[i])\n",
    "\n",
    "    return qu\n",
    "\n",
    "qu = takeInput()\n",
    "n=5\n",
    "k=3\n",
    "reverseQueue(qu)\n",
    "while not qu.empty() :\n",
    "    print(qu.get(), end = \" \")"
   ]
  },
  {
   "cell_type": "code",
   "execution_count": null,
   "metadata": {},
   "outputs": [],
   "source": []
  },
  {
   "cell_type": "code",
   "execution_count": 8,
   "metadata": {},
   "outputs": [
    {
     "name": "stdout",
     "output_type": "stream",
     "text": [
      "4\n",
      "1\n",
      "8 15 1 10 \n",
      "8 15 1 10 "
     ]
    }
   ],
   "source": [
    "import queue\n",
    "qu = queue.Queue()\n",
    "def reverseQueuek(qu,n,k): \n",
    "    if qu.qsize() == n-k :\n",
    "        return qu\n",
    "    front=qu.get()\n",
    "    reverseQueuek(qu,n,k)\n",
    "    qu.put(front)\n",
    "    return qu\n",
    "\n",
    "def reversenk(qu,n,k):\n",
    "    c=0\n",
    "    while c < n-k:\n",
    "        front = qu.get()\n",
    "        qu.put(front)\n",
    "        c=c+1\n",
    "        \n",
    "def takeInput():\n",
    "    qu = queue.Queue()\n",
    "    n=int(input())\n",
    "    k=int(input())\n",
    "    values = list(int(x) for x in input().split())\n",
    "\n",
    "    for i in range(n) :\n",
    "        qu.put(values[i])\n",
    "\n",
    "    return qu,n,k\n",
    "\n",
    "qu,n,k = takeInput()\n",
    "qu = reverseQueuek(qu,n,k)\n",
    "reversenk(qu,n,k)\n",
    "while not qu.empty() :\n",
    "    print(qu.get(), end = \" \")"
   ]
  },
  {
   "cell_type": "code",
   "execution_count": 12,
   "metadata": {},
   "outputs": [
    {
     "name": "stdout",
     "output_type": "stream",
     "text": [
      "5\n",
      "3\n",
      "1 2 3 4 5\n",
      "3 2 1 4 5 "
     ]
    }
   ],
   "source": [
    "import queue  #Let understand this code with an example\n",
    "qu = queue.Queue()\n",
    "def reverseQueuek1(qu,n,k): # let qu  = [1,2,3,4,5] , n=5 and k=3.\n",
    "    if qu.empty() or k>n:   #That's our base case \n",
    "        return qu\n",
    "    if k<=0:    #That's also an base case.\n",
    "        return qu\n",
    "    stack=[]   #To solve that probem we are using a stack. Here stack is used to reverse our queue.\n",
    "    for i in range(0,k):\n",
    "        stack.append(qu.get())  #In that we pop from our queue k times . Here k ==3 it mean we pop 3 ele from queue and put \n",
    "                             #in stack like qu = 1,2,3,4,5 in first iteration 1 is pop and enter in stack as [1] then 2 and 3\n",
    "            # and stack is like [1,2,3] and here top is 3 and remaining queue is [4,5] where 4 is at front part and 5 is at rear                \n",
    "            #part .\n",
    "            \n",
    "    while not isEmpty(stack): #Now here we pop element from stack and put in our queue. Like in stack we have [1,2,3] and qu=[4,5]\n",
    "        qu.put(stack.pop())#Now firstly 3 is pop and put in queue like [4,5,3] and after all iteration we have qu=[4,5,3,2,1]\n",
    "        \n",
    "    for i in range(0,n-k):#Now we only need to pop first two element of queue and put in quque for that we have to work for n-k\n",
    "        front = qu.get() #iteration.\n",
    "        qu.put(front)\n",
    "        \n",
    "    return qu    \n",
    "\n",
    "def isEmpty(stack) :\n",
    "    return len(stack) == 0\n",
    "        \n",
    "        \n",
    "def takeInput():\n",
    "    qu = queue.Queue()\n",
    "    n=int(input())\n",
    "    k=int(input())\n",
    "    values = list(int(x) for x in input().split())\n",
    "\n",
    "    for i in range(n) :\n",
    "        qu.put(values[i])\n",
    "\n",
    "    return qu,n,k\n",
    "\n",
    "qu,n,k = takeInput()\n",
    "qu = reverseQueuek1(qu,n,k)\n",
    "while not qu.empty() :\n",
    "    print(qu.get(), end = \" \")"
   ]
  }
 ],
 "metadata": {
  "kernelspec": {
   "display_name": "Python 3",
   "language": "python",
   "name": "python3"
  },
  "language_info": {
   "codemirror_mode": {
    "name": "ipython",
    "version": 3
   },
   "file_extension": ".py",
   "mimetype": "text/x-python",
   "name": "python",
   "nbconvert_exporter": "python",
   "pygments_lexer": "ipython3",
   "version": "3.9.0"
  }
 },
 "nbformat": 4,
 "nbformat_minor": 4
}
