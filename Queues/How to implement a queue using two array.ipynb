{
 "cells": [
  {
   "cell_type": "code",
   "execution_count": 21,
   "metadata": {},
   "outputs": [
    {
     "name": "stdout",
     "output_type": "stream",
     "text": [
      "13\n",
      "47\n"
     ]
    }
   ],
   "source": [
    "# class Stack:\n",
    "#     def __init__(self):\n",
    "\n",
    "class Queue:\n",
    "    def __init__(self):\n",
    "        self.st1 = []\n",
    "        self.st2 = []\n",
    "      \n",
    "    def enqueue(self,data):\n",
    "        self.st1.append(data)\n",
    "      \n",
    "    def dequeue(self):\n",
    "        if len(self.st1) == 0:\n",
    "            print(\"Hey! Queue is empty!\")\n",
    "        i=0\n",
    "        l=len(self.st1)\n",
    "        while i< l - 1:\n",
    "            self.st2.append(self.st1.pop())\n",
    "            i=i+1\n",
    "        ele = self.st1.pop()\n",
    "        print(ele)\n",
    "        while len(self.st2)!=0:\n",
    "            self.st1.append(self.st2.pop())\n",
    "        return\n",
    "    \n",
    "    def size(self):\n",
    "        return len(self.st1)\n",
    "        \n",
    "    def isempty(self):\n",
    "        return self.size()==0\n",
    "        \n",
    "        \n",
    "    def front(self):    \n",
    "        if len(self.st1) == 0:\n",
    "            print(\"Hey! Queue is empty!\")\n",
    "        i=0\n",
    "        l=len(self.st1)\n",
    "        while i< l - 1:\n",
    "            self.st2.append(self.st1.pop())\n",
    "            i=i+1\n",
    "        ele = self.st1[0]\n",
    "        while len(self.st2)!=0:\n",
    "            self.st1.append(self.st2.pop())        \n",
    "        print(ele)\n",
    "        return\n",
    "    \n",
    "q= Queue()    \n",
    "q.enqueue(13)\n",
    "q.enqueue(47)\n",
    "while q.isempty() ==False:\n",
    "    q.dequeue()"
   ]
  },
  {
   "cell_type": "code",
   "execution_count": null,
   "metadata": {},
   "outputs": [],
   "source": []
  }
 ],
 "metadata": {
  "kernelspec": {
   "display_name": "Python 3",
   "language": "python",
   "name": "python3"
  },
  "language_info": {
   "codemirror_mode": {
    "name": "ipython",
    "version": 3
   },
   "file_extension": ".py",
   "mimetype": "text/x-python",
   "name": "python",
   "nbconvert_exporter": "python",
   "pygments_lexer": "ipython3",
   "version": "3.9.0"
  }
 },
 "nbformat": 4,
 "nbformat_minor": 4
}
