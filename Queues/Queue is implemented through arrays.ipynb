{
 "cells": [
  {
   "cell_type": "code",
   "execution_count": 10,
   "metadata": {},
   "outputs": [
    {
     "name": "stdout",
     "output_type": "stream",
     "text": [
      "1\n",
      "2\n",
      "3\n",
      "0\n",
      "Hey! Queue is empty!!\n"
     ]
    }
   ],
   "source": [
    "class Queue:\n",
    "    def __init__(self):\n",
    "        self.__arr=[]\n",
    "        self.__front = 0\n",
    "        self.count=0\n",
    "        \n",
    "    def enqueue(self,data):\n",
    "        self.__arr.append(data)\n",
    "        self.count = self.count +1\n",
    "    def dequeue(self):\n",
    "        if self.size() == 0:\n",
    "            print(\"Hey! Queue is empty!!\")\n",
    "        else:\n",
    "            ele = self.__arr[self.__front]\n",
    "            self.__front = self.__front + 1\n",
    "            self.count = self.count - 1\n",
    "            print(ele)\n",
    "            return\n",
    "        \n",
    "    def size(self):\n",
    "        return self.count\n",
    "        \n",
    "    def isempty(self):\n",
    "        return self.size()==0\n",
    "        \n",
    "    def front(self):\n",
    "        if self.count == 0:\n",
    "            print(\"Hey! Queue is empty!!\")\n",
    "            return\n",
    "        return self.__arr[self.__front]\n",
    "    \n",
    "    \n",
    "q=Queue()    \n",
    "q.enqueue(1)\n",
    "q.enqueue(2)\n",
    "q.enqueue(3)\n",
    "while q.isempty() == False:\n",
    "    q.dequeue()\n",
    "print(q.size())  \n",
    "q.front()"
   ]
  }
 ],
 "metadata": {
  "kernelspec": {
   "display_name": "Python 3",
   "language": "python",
   "name": "python3"
  },
  "language_info": {
   "codemirror_mode": {
    "name": "ipython",
    "version": 3
   },
   "file_extension": ".py",
   "mimetype": "text/x-python",
   "name": "python",
   "nbconvert_exporter": "python",
   "pygments_lexer": "ipython3",
   "version": "3.9.0"
  }
 },
 "nbformat": 4,
 "nbformat_minor": 4
}
