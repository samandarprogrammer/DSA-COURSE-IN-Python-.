{
 "cells": [
  {
   "cell_type": "code",
   "execution_count": 6,
   "metadata": {},
   "outputs": [],
   "source": [
    "import queue\n",
    "class binarytree:\n",
    "    def __init__(self, data):\n",
    "        self.data = data\n",
    "        self.left = None\n",
    "        self.right = None\n",
    "        \n",
    "def takeinputlevelwise():\n",
    "    q= queue.Queue()\n",
    "    print(\"Enter root node: \")\n",
    "    rootdata = int(input())\n",
    "    if rootdata == -1:\n",
    "        return None\n",
    "    root = binarytree(rootdata)\n",
    "    q.put(root)\n",
    "    while not q.empty():\n",
    "        curr_data = q.get()\n",
    "        print(\"Enter left child of \",curr_data.data)\n",
    "        leftchild = int(input())\n",
    "        if leftchild !=-1:\n",
    "            leftchildroot = binarytree(leftchild)\n",
    "            q.put(leftchildroot)\n",
    "            curr_data.left = leftchildroot\n",
    "            \n",
    "        print(\"Enter right child of \",curr_data.data)\n",
    "        rightchild = int(input())\n",
    "        if rightchild !=-1:\n",
    "            rightchildroot = binarytree(rightchild)\n",
    "            q.put(rightchildroot)\n",
    "            curr_data.right = rightchildroot \n",
    "    return root  \n",
    "\n",
    "def printbinarytree(root):\n",
    "    if root is None:\n",
    "        return\n",
    "    print(root.data,end=':')\n",
    "    if root.left != None:\n",
    "        print('L',root.left.data,',',end='')\n",
    "    if root.right !=None:\n",
    "        print('R',root.right.data,end='')\n",
    "    print()\n",
    "    printbinarytree(root.left)\n",
    "    printbinarytree(root.right) "
   ]
  },
  {
   "cell_type": "markdown",
   "metadata": {},
   "source": [
    "Program to find path from node to a specified root"
   ]
  },
  {
   "cell_type": "code",
   "execution_count": 13,
   "metadata": {},
   "outputs": [],
   "source": [
    "def nodetoroot(root,n):\n",
    "        if root is None:\n",
    "            return None\n",
    "        if root.data == n:\n",
    "            lst = list()\n",
    "            lst.append(root.data)\n",
    "            return lst\n",
    "\n",
    "        leftpath = nodetoroot(root.left , n)\n",
    "        if leftpath is not None:\n",
    "            leftpath.append(root.data)\n",
    "            return leftpath\n",
    "\n",
    "        rightpath = nodetoroot(root.right , n)\n",
    "        if rightpath is not None:\n",
    "            rightpath.append(root.data)\n",
    "            return rightpath\n",
    "        else:\n",
    "            return None"
   ]
  },
  {
   "cell_type": "code",
   "execution_count": 16,
   "metadata": {},
   "outputs": [
    {
     "name": "stdout",
     "output_type": "stream",
     "text": [
      "Enter root node: \n",
      "8\n",
      "Enter left child of  8\n",
      "5\n",
      "Enter right child of  8\n",
      "1\n",
      "Enter left child of  5\n",
      "2\n",
      "Enter right child of  5\n",
      "6\n",
      "Enter left child of  1\n",
      "-1\n",
      "Enter right child of  1\n",
      "-1\n",
      "Enter left child of  2\n",
      "-1\n",
      "Enter right child of  2\n",
      "-1\n",
      "Enter left child of  6\n",
      "-1\n",
      "Enter right child of  6\n",
      "7\n",
      "Enter left child of  7\n",
      "-1\n",
      "Enter right child of  7\n",
      "-1\n",
      "8:L 5 ,R 1\n",
      "5:L 2 ,R 6\n",
      "2:\n",
      "6:R 7\n",
      "7:\n",
      "1:\n",
      "[2, 5, 8]\n"
     ]
    }
   ],
   "source": [
    "root = takeinputlevelwise()\n",
    "printbinarytree(root)\n",
    "print(nodetoroot(root , 2))"
   ]
  }
 ],
 "metadata": {
  "kernelspec": {
   "display_name": "Python 3",
   "language": "python",
   "name": "python3"
  },
  "language_info": {
   "codemirror_mode": {
    "name": "ipython",
    "version": 3
   },
   "file_extension": ".py",
   "mimetype": "text/x-python",
   "name": "python",
   "nbconvert_exporter": "python",
   "pygments_lexer": "ipython3",
   "version": "3.9.0"
  }
 },
 "nbformat": 4,
 "nbformat_minor": 4
}
