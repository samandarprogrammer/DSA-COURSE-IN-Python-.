{
 "cells": [
  {
   "cell_type": "markdown",
   "metadata": {},
   "source": [
    "INHERITENCE"
   ]
  },
  {
   "cell_type": "code",
   "execution_count": 10,
   "metadata": {},
   "outputs": [
    {
     "name": "stdout",
     "output_type": "stream",
     "text": [
      "Color : Blue\n",
      "Max-speed : 500\n",
      "Moonroof : Yes\n",
      "Price : 125000\n"
     ]
    }
   ],
   "source": [
    "class Vehicle1: #PARENT CLASS\n",
    "    def __init__(self,color,maxspeed):\n",
    "        self.color=color\n",
    "        self.maxspeed=maxspeed\n",
    "        \n",
    "class Car1(Vehicle1): #CHILD CLASS INHERITS FROM PARENT CLASS\n",
    "    def __init__(self,color,maxspeed,moonroof,price):\n",
    "        super().__init__(color,maxspeed)   #THIS IS HOW WE CAN ACCESS PARENT CLASS DATA\n",
    "        self.moonroof=moonroof\n",
    "        self.price=price\n",
    "        \n",
    "    def print_detail(self):\n",
    "        print(\"Color :\",self.color)\n",
    "        print(\"Max-speed :\",self.maxspeed)\n",
    "        print(\"Moonroof :\",self.moonroof)\n",
    "        print(\"Price :\",self.price)\n",
    "        \n",
    "c1=Car1('Blue',500,'Yes',125000) \n",
    "c1.print_detail() "
   ]
  },
  {
   "cell_type": "markdown",
   "metadata": {},
   "source": [
    "INHERITENCE AND PRIVATE MEMBERS"
   ]
  },
  {
   "cell_type": "code",
   "execution_count": 17,
   "metadata": {
    "scrolled": true
   },
   "outputs": [
    {
     "name": "stdout",
     "output_type": "stream",
     "text": [
      "Color : Blue\n",
      "Max-speed : 500\n",
      "Serial_no : 6547\n",
      "Moonroof : Yes\n",
      "Price : 125000\n"
     ]
    }
   ],
   "source": [
    "class Vehicle2: #PARENT CLASS\n",
    "    def __init__(self,color,maxspeed,serialno):\n",
    "        self.color=color\n",
    "        self.maxspeed=maxspeed\n",
    "        self.__serialno=serialno  #HERE IT IS A PRIVATE MEMBER.TO ACCESS THAT WE WANT TWO FUNCTIONS\n",
    "                                  #GETMETHOD AND SETMETHODS CREATE BY US.\n",
    "            \n",
    "    def getserial(self):\n",
    "        return self.__serialno\n",
    "    \n",
    "    def setserial(Self,newno):\n",
    "        self.__serialno=newno\n",
    "            \n",
    "            \n",
    "class Car2(Vehicle2): #CHILD CLASS INHERITS FROM PARENT CLASS\n",
    "    def __init__(self,color,maxspeed,serialno,moonroof,price):\n",
    "        super().__init__(color,maxspeed,serialno)   #THIS IS HOW WE CAN ACCESS PARENT CLASS DATA\n",
    "        self.moonroof=moonroof\n",
    "        self.price=price\n",
    "        \n",
    "    def print_detail(self):\n",
    "        print(\"Color :\",self.color)\n",
    "        print(\"Max-speed :\",self.maxspeed)\n",
    "        print(\"Serial_no :\",self.getserial()) #HERE WE CALL OUR FUNCTION TO GET THAT PRIVATE MEMBER \n",
    "        print(\"Moonroof :\",self.moonroof)\n",
    "        print(\"Price :\",self.price)\n",
    "        \n",
    "c1=Car2('Blue',500,6547,'Yes',125000) \n",
    "c1.print_detail() "
   ]
  },
  {
   "cell_type": "markdown",
   "metadata": {},
   "source": [
    "NOW WE CAN OPTIMIZE OUR CODE BY SIMPLY MAKE A PRINT FUNCTION IN PARENT CLASS AND WE CAN ACCESS THAT \n",
    "FUNCTION BY SUPER OR SELF METHOD.  USING THAT SUPER AND SELF IS EASY  IT IS:-\n",
    "1)super().function name and no. of argument it takes\n",
    "2)self.function name"
   ]
  },
  {
   "cell_type": "code",
   "execution_count": 20,
   "metadata": {},
   "outputs": [
    {
     "name": "stdout",
     "output_type": "stream",
     "text": [
      "Color : Blue\n",
      "Max-speed : 500\n",
      "Serial_no : 6547\n",
      "Moonroof : Yes\n",
      "Price : 125000\n"
     ]
    }
   ],
   "source": [
    "class Vehicle3: #PARENT CLASS\n",
    "    def __init__(self,color,maxspeed,serialno):\n",
    "        self.color=color\n",
    "        self.maxspeed=maxspeed\n",
    "        self.__serialno=serialno  #HERE IT IS A PRIVATE MEMBER.TO ACCESS THAT WE WANT TWO FUNCTIONS\n",
    "                                  #GETMETHOD AND SETMETHODS CREATE BY US.\n",
    "            \n",
    "    def getserial(self):\n",
    "        return self.__serialno\n",
    "    \n",
    "    def setserial(Self,newno):\n",
    "        self.__serialno=newno\n",
    "     \n",
    "    def printdetail(self):\n",
    "        print(\"Color :\",self.color)\n",
    "        print(\"Max-speed :\",self.maxspeed)\n",
    "        print(\"Serial_no :\",self.__serialno)\n",
    "            \n",
    "class Car3(Vehicle3): #CHILD CLASS INHERITS FROM PARENT CLASS\n",
    "    def __init__(self,color,maxspeed,serialno,moonroof,price):\n",
    "        super().__init__(color,maxspeed,serialno)   #THIS IS HOW WE CAN ACCESS PARENT CLASS DATA\n",
    "        self.moonroof=moonroof\n",
    "        self.price=price\n",
    "        \n",
    "    def print_detail(self):\n",
    "        self.printdetail() #Now we call ony that function and we can also call it through super().funname\n",
    "        print(\"Moonroof :\",self.moonroof)\n",
    "        print(\"Price :\",self.price)\n",
    "        \n",
    "c1=Car3('Blue',500,6547,'Yes',125000) \n",
    "c1.print_detail() "
   ]
  },
  {
   "cell_type": "markdown",
   "metadata": {},
   "source": [
    "NOW WE ARE TALKING ABOUT WHAT IS THE DIFFERENCE BETWEEN SUPER AND SELF?"
   ]
  },
  {
   "cell_type": "markdown",
   "metadata": {},
   "source": [
    "To understand their difference we have to take an eg where we have parent as well as child class.\n",
    "If parent class has a function print and chid class has same function print.Then question arise if we\n",
    "call print function from child class then which function calss and it gives priority to child class \n",
    "and it goes in recursion. To solve that problem we have to call the function of parent class and this \n",
    "can be done through super function and the problem is called as method overriding."
   ]
  },
  {
   "cell_type": "code",
   "execution_count": 2,
   "metadata": {},
   "outputs": [
    {
     "name": "stdout",
     "output_type": "stream",
     "text": [
      "Color : Blue\n",
      "Max-speed : 500\n",
      "Serial_no : 6547\n",
      "Moonroof : Yes\n",
      "Price : 125000\n"
     ]
    }
   ],
   "source": [
    "class Vehicle4: #PARENT CLASS\n",
    "    def __init__(self,color,maxspeed,serialno):\n",
    "        self.color=color\n",
    "        self.maxspeed=maxspeed\n",
    "        self.__serialno=serialno  #HERE IT IS A PRIVATE MEMBER.TO ACCESS THAT WE WANT TWO FUNCTIONS\n",
    "                                  #GETMETHOD AND SETMETHODS CREATE BY US.\n",
    "            \n",
    "    def getserial(self):\n",
    "        return self.__serialno\n",
    "    \n",
    "    def setserial(Self,newno):\n",
    "        self.__serialno=newno\n",
    "     \n",
    "    def print(self):\n",
    "        print(\"Color :\",self.color)\n",
    "        print(\"Max-speed :\",self.maxspeed)\n",
    "        print(\"Serial_no :\",self.__serialno)\n",
    "            \n",
    "class Car4(Vehicle4): #CHILD CLASS INHERITS FROM PARENT CLASS\n",
    "    def __init__(self,color,maxspeed,serialno,moonroof,price):\n",
    "        super().__init__(color,maxspeed,serialno)   #THIS IS HOW WE CAN ACCESS PARENT CLASS DATA\n",
    "        self.moonroof=moonroof\n",
    "        self.price=price\n",
    "        \n",
    "    def print(self):\n",
    "        super().print() #Here super is must because we have two functions having same name.\n",
    "        print(\"Moonroof :\",self.moonroof)\n",
    "        print(\"Price :\",self.price)\n",
    "        \n",
    "c1=Car4('Blue',500,6547,'Yes',125000) \n",
    "c1.print() "
   ]
  },
  {
   "cell_type": "markdown",
   "metadata": {},
   "source": [
    "NOW WE ARE TALKING ABOUT PROTECTED MEMBERS WHICH IS SIMILIAR TO THE PUBLIC VARIABLE. PROTECTED MEMBERS\n",
    "ARE INITIALIZED WITH SINGLE UNDERSCORE LIKE (_variable )"
   ]
  },
  {
   "cell_type": "raw",
   "metadata": {},
   "source": [
    "NOW WE TALK ABOUT THE OBJECT CLASS i.e WE HAVE THREE METHODS \n",
    "1)__init__\n",
    "2)__new__\n",
    "3)__str__\n",
    "->AS WE KNOW ABOUT __init__ method .NOW WE EXPLORE __str__ METHOD AND __new__ METHOD IS USED TO CREATE OBJECT WHICH IS NOT ACTUALLLY USEFUL TO KNOW SO WE SKIP THAT.\n",
    "\n",
    "->NOW __str__ METHOD IS USED TO GIVE DESCRIPION FOR A CLASS LIKE WHEN WE CREATE OBJECT AND PRINT THAT\n",
    "OBJECT WE GET SOMETHING LIKE <__main__.Shape object at 0x000001C807ECBC40> AND THIS IS ACTUALLY DESCR\n",
    "-PTION OF THE CLASS WHICH WE CAN CHANGED AS BELOW"
   ]
  },
  {
   "cell_type": "code",
   "execution_count": 19,
   "metadata": {},
   "outputs": [
    {
     "name": "stdout",
     "output_type": "stream",
     "text": [
      "This is a description of Shape class\n"
     ]
    }
   ],
   "source": [
    "class Shape:\n",
    "    def __init__(self,color,filled):\n",
    "        self.color=color\n",
    "        self.filled=filled\n",
    "         \n",
    "    def __str__(self):\n",
    "        return(\"This is a description of Shape class\")\n",
    "    \n",
    "    \n",
    "c=Shape('red','yes')    \n",
    "print(c)"
   ]
  },
  {
   "cell_type": "raw",
   "metadata": {},
   "source": [
    "MULTPLE INHERITENCE: It means we have multiple base class which is ineherited in child class"
   ]
  },
  {
   "cell_type": "code",
   "execution_count": 29,
   "metadata": {},
   "outputs": [
    {
     "name": "stdout",
     "output_type": "stream",
     "text": [
      "CHild name is : Babita\n"
     ]
    }
   ],
   "source": [
    "class Mother:\n",
    "    def __init__(self):\n",
    "         self.name=\"Babita\"\n",
    "            \n",
    "    def print(self):\n",
    "        print(\"mother is called\")\n",
    "        \n",
    "class Father:\n",
    "    def __init__(self):\n",
    "         self.name=\"Parshotam\"\n",
    "            \n",
    "    def print(self):\n",
    "        print(\"Father is called\")\n",
    "\n",
    "class Child(Mother , Father):\n",
    "    def __init__(self):\n",
    "        super().__init__()\n",
    "    \n",
    "    def printchild(self):\n",
    "        print(\"CHild name is :\",self.name)\n",
    "        \n",
    "        \n",
    "c1=Child()        \n",
    "c1.printchild()"
   ]
  },
  {
   "cell_type": "code",
   "execution_count": 34,
   "metadata": {},
   "outputs": [
    {
     "name": "stdout",
     "output_type": "stream",
     "text": [
      "True\n",
      "(6, 8)\n"
     ]
    }
   ],
   "source": [
    "import math\n",
    "class Point:\n",
    "    def __init__(self,x,y):\n",
    "        self.__x=x\n",
    "        self.__y=y\n",
    "        \n",
    "    def __add__(self,point_obj):\n",
    "        return self.__x+point_obj.__x , self.__y + point_obj.__y\n",
    "    \n",
    "    def __lt__(self,point_obj):\n",
    "        return math.sqrt(self.__x**2 + self.__y**2) < math.sqrt(point_obj.__x**2 + point_obj.__y**2)\n",
    "    \n",
    "p1=Point(1,2)\n",
    "p2=Point(5,6)\n",
    "p3=p1+p2\n",
    "print(p1<p2)\n",
    "print(p3)"
   ]
  }
 ],
 "metadata": {
  "kernelspec": {
   "display_name": "Python 3",
   "language": "python",
   "name": "python3"
  },
  "language_info": {
   "codemirror_mode": {
    "name": "ipython",
    "version": 3
   },
   "file_extension": ".py",
   "mimetype": "text/x-python",
   "name": "python",
   "nbconvert_exporter": "python",
   "pygments_lexer": "ipython3",
   "version": "3.9.0"
  }
 },
 "nbformat": 4,
 "nbformat_minor": 4
}
