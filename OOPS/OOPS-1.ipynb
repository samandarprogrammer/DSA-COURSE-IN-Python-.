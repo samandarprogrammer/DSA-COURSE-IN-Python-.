{
 "cells": [
  {
   "cell_type": "code",
   "execution_count": 2,
   "metadata": {},
   "outputs": [
    {
     "name": "stdout",
     "output_type": "stream",
     "text": [
      "<__main__.Students object at 0x0000025EE7B18430>\n"
     ]
    }
   ],
   "source": [
    "class Students:  #SYNTAX TO CREATE CLASS\n",
    "    pass\n",
    "s1=Students() ##SYNTAX TO CREATE OBJECTS\n",
    "s2=Students()\n",
    "s3=Students()\n",
    "print(s1)"
   ]
  },
  {
   "cell_type": "markdown",
   "metadata": {},
   "source": [
    "FUNCTIONS RELATED TO OBJECT CREATED BY CLASS"
   ]
  },
  {
   "cell_type": "code",
   "execution_count": 3,
   "metadata": {},
   "outputs": [
    {
     "name": "stdout",
     "output_type": "stream",
     "text": [
      "Sandeep\n",
      "1234\n",
      "Kanu\n",
      "5465\n"
     ]
    }
   ],
   "source": [
    "#HERE NOW WE GIVE ATTRIBUTES TO OBJECT OF A CLASS\n",
    "\n",
    "s1.name=\"Sandeep\"   # here name is the key and Sandeep is the value.\n",
    "print(s1.name)\n",
    "s2.RollNumber=1234\n",
    "print(s2.RollNumber) #This is how we access that object attributes\n",
    "s3.name=\"Kanu\"\n",
    "s3.RollNumber=5465\n",
    "print(s3.name)\n",
    "print(s3.RollNumber)"
   ]
  },
  {
   "cell_type": "code",
   "execution_count": 5,
   "metadata": {},
   "outputs": [
    {
     "name": "stdout",
     "output_type": "stream",
     "text": [
      "{'name': 'Sandeep'}\n",
      "Sandeep\n",
      "\n"
     ]
    }
   ],
   "source": [
    "#HERE WE COME TO KNOW HOW WE ATTRIBUTES ARE SAVED\n",
    "print(s1.__dict__) #It is a method which we use to get all key value pair of some obeject.\n",
    "\n",
    "print(getattr(s1,'name')) #It is a method which we use to get value for a specified attribute.\n",
    "\n",
    "#Note= In get attribute method if we specified a wrong key in it. It gives us Attribute error \n",
    "#which we can control by simply passing third argument to any value which is printed when we specify \n",
    "#wrong key in it.\n",
    "print(getattr(s1,'rollno',''))"
   ]
  },
  {
   "cell_type": "markdown",
   "metadata": {},
   "source": [
    "Here we talk about hasattr method which gives True or False value after checking that our specified \n",
    "key is present in our specfied object or not"
   ]
  },
  {
   "cell_type": "code",
   "execution_count": 33,
   "metadata": {},
   "outputs": [
    {
     "name": "stdout",
     "output_type": "stream",
     "text": [
      "True\n",
      "False\n"
     ]
    }
   ],
   "source": [
    "print(hasattr(s1,'name'))\n",
    "print(hasattr(s1,'RollNumber'))"
   ]
  },
  {
   "cell_type": "markdown",
   "metadata": {},
   "source": [
    "Now we talk about delete attribute"
   ]
  },
  {
   "cell_type": "code",
   "execution_count": 47,
   "metadata": {},
   "outputs": [
    {
     "name": "stdout",
     "output_type": "stream",
     "text": [
      "{'RollNumber': 5465}\n"
     ]
    }
   ],
   "source": [
    "#s3 contains name as well as RollNumber attribute but you can see we can delete that by that attribute\n",
    "delattr(s3,'name')\n",
    "print(s3.__dict__)"
   ]
  },
  {
   "cell_type": "code",
   "execution_count": 42,
   "metadata": {},
   "outputs": [
    {
     "name": "stdout",
     "output_type": "stream",
     "text": [
      "D\n"
     ]
    }
   ],
   "source": [
    "class Student1:\n",
    "    section='D' #Here we create a common attribute for all objects of Student1 class\n",
    "    \n",
    "s1=Student1()    \n",
    "print(s1.section)"
   ]
  },
  {
   "cell_type": "markdown",
   "metadata": {},
   "source": [
    "NOW WE EXPLORE THE SELF FUNCTIONALITY IN OOPS"
   ]
  },
  {
   "cell_type": "code",
   "execution_count": 57,
   "metadata": {},
   "outputs": [
    {
     "name": "stdout",
     "output_type": "stream",
     "text": [
      "Name= Rohan\n",
      "No Rohan is not our head\n",
      "20\n"
     ]
    }
   ],
   "source": [
    "class Colony:\n",
    "    Age=20\n",
    "    def Create_Head(self):\n",
    "        self.head_name=\"sandeep\"\n",
    "        \n",
    "    def staff_details(self):\n",
    "        self.name='Rohan'  ##Here we use self to create instance attribute for every objects and can be accesible by other functions within the class\n",
    "        print(\"Name=\",self.name)\n",
    "        \n",
    "        \n",
    "    def Check_Head(self):\n",
    "        if self.name == self.head_name:\n",
    "            print(\"Yes {} is head\".format(self.name))\n",
    "        else:\n",
    "            print(\"No {} is not our head\".format(self.name))\n",
    "    \n",
    "    def print_age(self):\n",
    "        print(self.Age)\n",
    "    \n",
    "c1=Colony()\n",
    "c2=Colony()\n",
    "c1.staff_details()\n",
    "c1.Create_Head()\n",
    "c1.Check_Head()\n",
    "c1.print_age()"
   ]
  },
  {
   "cell_type": "code",
   "execution_count": 59,
   "metadata": {},
   "outputs": [
    {
     "ename": "AttributeError",
     "evalue": "'Student' object has no attribute 'age'",
     "output_type": "error",
     "traceback": [
      "\u001b[1;31m---------------------------------------------------------------------------\u001b[0m",
      "\u001b[1;31mAttributeError\u001b[0m                            Traceback (most recent call last)",
      "\u001b[1;32m<ipython-input-59-424f776c1603>\u001b[0m in \u001b[0;36m<module>\u001b[1;34m\u001b[0m\n\u001b[0;32m      8\u001b[0m \u001b[0ms\u001b[0m\u001b[1;33m.\u001b[0m\u001b[0mstore_details\u001b[0m\u001b[1;33m(\u001b[0m\u001b[1;33m)\u001b[0m\u001b[1;33m\u001b[0m\u001b[1;33m\u001b[0m\u001b[0m\n\u001b[0;32m      9\u001b[0m \u001b[0ms1\u001b[0m \u001b[1;33m=\u001b[0m \u001b[0mStudent\u001b[0m\u001b[1;33m(\u001b[0m\u001b[1;33m)\u001b[0m\u001b[1;33m\u001b[0m\u001b[1;33m\u001b[0m\u001b[0m\n\u001b[1;32m---> 10\u001b[1;33m \u001b[0ms1\u001b[0m\u001b[1;33m.\u001b[0m\u001b[0mprint_age\u001b[0m\u001b[1;33m(\u001b[0m\u001b[1;33m)\u001b[0m\u001b[1;33m\u001b[0m\u001b[1;33m\u001b[0m\u001b[0m\n\u001b[0m",
      "\u001b[1;32m<ipython-input-59-424f776c1603>\u001b[0m in \u001b[0;36mprint_age\u001b[1;34m(self)\u001b[0m\n\u001b[0;32m      4\u001b[0m         \u001b[0mself\u001b[0m\u001b[1;33m.\u001b[0m\u001b[0mage\u001b[0m \u001b[1;33m=\u001b[0m \u001b[1;36m60\u001b[0m\u001b[1;33m\u001b[0m\u001b[1;33m\u001b[0m\u001b[0m\n\u001b[0;32m      5\u001b[0m     \u001b[1;32mdef\u001b[0m \u001b[0mprint_age\u001b[0m\u001b[1;33m(\u001b[0m\u001b[0mself\u001b[0m\u001b[1;33m)\u001b[0m\u001b[1;33m:\u001b[0m\u001b[1;33m\u001b[0m\u001b[1;33m\u001b[0m\u001b[0m\n\u001b[1;32m----> 6\u001b[1;33m         \u001b[0mprint\u001b[0m\u001b[1;33m(\u001b[0m\u001b[0mself\u001b[0m\u001b[1;33m.\u001b[0m\u001b[0mage\u001b[0m\u001b[1;33m)\u001b[0m\u001b[1;33m\u001b[0m\u001b[1;33m\u001b[0m\u001b[0m\n\u001b[0m\u001b[0;32m      7\u001b[0m \u001b[0ms\u001b[0m \u001b[1;33m=\u001b[0m \u001b[0mStudent\u001b[0m\u001b[1;33m(\u001b[0m\u001b[1;33m)\u001b[0m\u001b[1;33m\u001b[0m\u001b[1;33m\u001b[0m\u001b[0m\n\u001b[0;32m      8\u001b[0m \u001b[0ms\u001b[0m\u001b[1;33m.\u001b[0m\u001b[0mstore_details\u001b[0m\u001b[1;33m(\u001b[0m\u001b[1;33m)\u001b[0m\u001b[1;33m\u001b[0m\u001b[1;33m\u001b[0m\u001b[0m\n",
      "\u001b[1;31mAttributeError\u001b[0m: 'Student' object has no attribute 'age'"
     ]
    }
   ],
   "source": [
    "class Student:\n",
    "    name = 'Parikh'\n",
    "    def store_details(self):\n",
    "        self.age = 60\n",
    "    def print_age(self):\n",
    "        print(self.age)\n",
    "s = Student()\n",
    "s.store_details()\n",
    "s1 = Student()\n",
    "s1.print_age()"
   ]
  },
  {
   "cell_type": "markdown",
   "metadata": {},
   "source": [
    "STATIC METHOD"
   ]
  },
  {
   "cell_type": "code",
   "execution_count": 43,
   "metadata": {},
   "outputs": [
    {
     "name": "stdout",
     "output_type": "stream",
     "text": [
      "sandeep\n",
      "Hey  Welcome to school\n"
     ]
    }
   ],
   "source": [
    "class Student:\n",
    "    def stu_details(self):\n",
    "        self.name=input()\n",
    "    \n",
    "    @staticmethod    #It is must when we try to implement static functionality.\n",
    "    def Greetings():\n",
    "        print(\"Hey  Welcome to school\")\n",
    "        \n",
    "\n",
    "s1=Student()\n",
    "s1.stu_details()\n",
    "s1=Student.Greetings()"
   ]
  },
  {
   "cell_type": "markdown",
   "metadata": {},
   "source": [
    "INIT METHOD"
   ]
  },
  {
   "cell_type": "code",
   "execution_count": 33,
   "metadata": {},
   "outputs": [
    {
     "name": "stdout",
     "output_type": "stream",
     "text": [
      "nameno\n",
      "{'name': 'name', 'flat_no': 'no'}\n"
     ]
    }
   ],
   "source": [
    "class Flats:\n",
    "    def __init__(self,name,flat_no): #Main use of init method is that we don't have to call any function\n",
    "        self.name='name'       #init method is called automatically whenever we create object for that\n",
    "        self.flat_no='no'      #class.\n",
    "    def print_detail(self):\n",
    "        print(self.name,end='')\n",
    "        print(self.flat_no)\n",
    "    \n",
    "f1=Flats(\"Sandeep\",1) \n",
    "f1.print_detail()\n",
    "print(f1.__dict__)"
   ]
  },
  {
   "cell_type": "markdown",
   "metadata": {},
   "source": [
    "CLASS METHOD"
   ]
  },
  {
   "cell_type": "code",
   "execution_count": 41,
   "metadata": {},
   "outputs": [
    {
     "name": "stdout",
     "output_type": "stream",
     "text": [
      "kanu 19 89\n"
     ]
    }
   ],
   "source": [
    "class Army_Jobs:\n",
    "    def __init__(self,name,age,per):\n",
    "        self.name=name\n",
    "        self.age=age\n",
    "        self.per=per\n",
    "        \n",
    "    @classmethod           #In this we have to use this\n",
    "    def return_class_of_obj(cls,name,age,per): #here 1st argument is cls which is must\n",
    "        return cls(name,age,per)    #we have to return in that way\n",
    "    \n",
    "    def printdetail(self):\n",
    "        print(self.name,self.age,self.per)  #It use only that attribute which is returned from class\n",
    "                                            #methods.\n",
    "j1=Army_Jobs('sandeep',21,85)  \n",
    "j1=Army_Jobs.return_class_of_obj('kanu',19,89)\n",
    "j1.printdetail()"
   ]
  },
  {
   "cell_type": "markdown",
   "metadata": {},
   "source": [
    "DIFFEREMNCE BETWEEN INIT,STATIC AND CLASS METHODS"
   ]
  },
  {
   "cell_type": "raw",
   "metadata": {},
   "source": [
    "1)init method is used because it initialize automatically when we create object for class ,we don't \n",
    "have to call it.\n",
    "\n",
    "2)static method firstly use @(decorator i.e (@staticmethod)) and it actually don't take self argument \n",
    ",which simply means that it works for every object of that class but we have to call that method.\n",
    "\n",
    "3)class method firstly use @(decorator i.e (@classmethod)) and it don't take self it take class as \n",
    "argument and that class argument can be any class and we actually return that class with objects that\n",
    "we pass as argument with that."
   ]
  },
  {
   "cell_type": "raw",
   "metadata": {},
   "source": [
    "PUBLIC AND PRIVATE MODIFIERS\n",
    "\n",
    "1)Public modifier means that variable which is defined inside the class but can be changed and accessible\n",
    "from outside the class.\n",
    "2)private modifier means that variable which is defined inside the class nut can't be accessible and changed\n",
    "from outside the class.private modifiers is specified by __variable name(two underscore and then \n",
    " variable name)"
   ]
  },
  {
   "cell_type": "code",
   "execution_count": 52,
   "metadata": {},
   "outputs": [
    {
     "name": "stdout",
     "output_type": "stream",
     "text": [
      "sandeep\n"
     ]
    },
    {
     "ename": "AttributeError",
     "evalue": "'Student' object has no attribute 'security_code'",
     "output_type": "error",
     "traceback": [
      "\u001b[1;31m---------------------------------------------------------------------------\u001b[0m",
      "\u001b[1;31mAttributeError\u001b[0m                            Traceback (most recent call last)",
      "\u001b[1;32m<ipython-input-52-174b666377c2>\u001b[0m in \u001b[0;36m<module>\u001b[1;34m\u001b[0m\n\u001b[0;32m     10\u001b[0m \u001b[0mss1\u001b[0m\u001b[1;33m=\u001b[0m\u001b[0mStudent\u001b[0m\u001b[1;33m(\u001b[0m\u001b[1;34m'sandeep'\u001b[0m\u001b[1;33m,\u001b[0m\u001b[1;36m123\u001b[0m\u001b[1;33m,\u001b[0m\u001b[1;36m20\u001b[0m\u001b[1;33m)\u001b[0m\u001b[1;33m\u001b[0m\u001b[1;33m\u001b[0m\u001b[0m\n\u001b[0;32m     11\u001b[0m \u001b[0mprint\u001b[0m\u001b[1;33m(\u001b[0m\u001b[0mss1\u001b[0m\u001b[1;33m.\u001b[0m\u001b[0mname\u001b[0m\u001b[1;33m)\u001b[0m  \u001b[1;31m#now this is public modifier and can be accessed\u001b[0m\u001b[1;33m\u001b[0m\u001b[1;33m\u001b[0m\u001b[0m\n\u001b[1;32m---> 12\u001b[1;33m \u001b[0mprint\u001b[0m\u001b[1;33m(\u001b[0m\u001b[0mss1\u001b[0m\u001b[1;33m.\u001b[0m\u001b[0msecurity_code\u001b[0m\u001b[1;33m)\u001b[0m \u001b[1;31m#now this is private modifier and can't be accessed\u001b[0m\u001b[1;33m\u001b[0m\u001b[1;33m\u001b[0m\u001b[0m\n\u001b[0m\u001b[0;32m     13\u001b[0m \u001b[0mss1\u001b[0m\u001b[1;33m.\u001b[0m\u001b[0mprintdetail\u001b[0m\u001b[1;33m(\u001b[0m\u001b[1;33m)\u001b[0m\u001b[1;33m\u001b[0m\u001b[1;33m\u001b[0m\u001b[0m\n",
      "\u001b[1;31mAttributeError\u001b[0m: 'Student' object has no attribute 'security_code'"
     ]
    }
   ],
   "source": [
    "class Student:\n",
    "    def __init__(self,name,sc_cd,age):\n",
    "        self.name=name\n",
    "        self.__security_code=sc_cd\n",
    "        self.age=age\n",
    "        \n",
    "    def printdetail(self):\n",
    "        print(self.name,self.__security_code,self.age)\n",
    "        \n",
    "ss1=Student('sandeep',123,20) \n",
    "print(ss1.name)  #now this is public modifier and can be accessed \n",
    "print(ss1.security_code) #now this is private modifier and can't be accessed\n",
    "ss1.printdetail()"
   ]
  },
  {
   "cell_type": "markdown",
   "metadata": {},
   "source": [
    "WE CAN ALSO ACCESSED THAT PRIVATE MODIFIERS BUT IT IS NOT RECOMMENDED"
   ]
  },
  {
   "cell_type": "code",
   "execution_count": 55,
   "metadata": {},
   "outputs": [
    {
     "name": "stdout",
     "output_type": "stream",
     "text": [
      "sandeep\n",
      "123\n",
      "sandeep 123 20\n"
     ]
    }
   ],
   "source": [
    "class Student:\n",
    "    def __init__(self,name,sc_cd,age):\n",
    "        self.name=name\n",
    "        self.__security_code=sc_cd\n",
    "        self.age=age\n",
    "        \n",
    "    def printdetail(self):\n",
    "        print(self.name,self.__security_code,self.age)\n",
    "        \n",
    "ss1=Student('sandeep',123,20) \n",
    "print(ss1.name)  \n",
    "print(ss1._Student__security_code) #For that syntax is _classname__private variable name.\n",
    "ss1.printdetail()"
   ]
  }
 ],
 "metadata": {
  "kernelspec": {
   "display_name": "Python 3",
   "language": "python",
   "name": "python3"
  },
  "language_info": {
   "codemirror_mode": {
    "name": "ipython",
    "version": 3
   },
   "file_extension": ".py",
   "mimetype": "text/x-python",
   "name": "python",
   "nbconvert_exporter": "python",
   "pygments_lexer": "ipython3",
   "version": "3.9.0"
  }
 },
 "nbformat": 4,
 "nbformat_minor": 4
}
