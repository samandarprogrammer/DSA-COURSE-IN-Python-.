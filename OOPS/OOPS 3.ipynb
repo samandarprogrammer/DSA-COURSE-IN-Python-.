{
 "cells": [
  {
   "cell_type": "markdown",
   "metadata": {},
   "source": [
    "ABSTRACT CLASSES AND ABSTRACT METHODS"
   ]
  },
  {
   "cell_type": "raw",
   "metadata": {},
   "source": [
    "1)Abstract classes are those which contains abstract methods and Abstract methods are those methods which contain a set of methods and when that abstract class is inherited by any other class and then it is compilsory that its child class should use all that abstract methods .\n",
    "\n",
    "2)We can create object of abstract classes.\n",
    "\n",
    "3)Implementation of all abstract methods are compulsory.\n",
    "\n",
    "4)In python we can't create abstract classes directly we have to import the following module:\n",
    "\n",
    "-->from abc import ABC,abstractmethod\n",
    "\n",
    "Here ABC is class module and abstactmethod is the functionality which act as decorator."
   ]
  },
  {
   "cell_type": "code",
   "execution_count": 21,
   "metadata": {},
   "outputs": [
    {
     "name": "stdout",
     "output_type": "stream",
     "text": [
      "Automobile is created\n",
      "Automobile is created\n",
      "4\n",
      "8\n"
     ]
    }
   ],
   "source": [
    "from abc import ABC,abstractmethod\n",
    "\n",
    "class Automobile(ABC): #Abstract class which inherits from ABC i.e abstract base class\n",
    "    \n",
    "    def __init__(self,wheel):\n",
    "        self.wheel=wheel\n",
    "        print(\"Automobile is created\")\n",
    "     \n",
    "    @abstractmethod\n",
    "    def start(self):\n",
    "        print(\"Automobile is Created\")\n",
    "    \n",
    "    @abstractmethod    \n",
    "    def drive(self):\n",
    "        pass\n",
    "\n",
    "    @abstractmethod    \n",
    "    def stop(self):\n",
    "        pass\n",
    "    \n",
    "    @abstractmethod\n",
    "    def no_of_wheels(self):\n",
    "        return self.wheel\n",
    "    \n",
    "class Car(Automobile):\n",
    "\n",
    "    def start(self):\n",
    "        pass\n",
    "    \n",
    " \n",
    "    def drive(self):\n",
    "        pass\n",
    "\n",
    "  \n",
    "    def stop(self):\n",
    "        pass\n",
    "    \n",
    "    def no_of_wheels(self):\n",
    "        return super().no_of_wheels()\n",
    "    \n",
    "class Bus(Automobile):\n",
    "\n",
    "    def start(self):\n",
    "        super().start()   #With the help of this we call abstract class method.\n",
    "        print(\"BUS IS CREATED\")\n",
    "    \n",
    " \n",
    "    def drive(self):\n",
    "        pass\n",
    "\n",
    "  \n",
    "    def stop(self):\n",
    "        pass\n",
    "    \n",
    "    def no_of_wheels(self):\n",
    "        return super().no_of_wheels()\n",
    "    \n",
    "b=Bus(8)  \n",
    "c=Car(4)\n",
    "print(c.no_of_wheels())\n",
    "print(b.no_of_wheels())\n",
    "a=Automobile() #It gives us an error because we can't create object of abstract classes."
   ]
  },
  {
   "cell_type": "markdown",
   "metadata": {},
   "source": [
    "INRO TO EXCEPTION HANDLING"
   ]
  },
  {
   "cell_type": "markdown",
   "metadata": {},
   "source": [
    "TO do exception handling we have to use two blocks which is try and except block\n"
   ]
  },
  {
   "cell_type": "code",
   "execution_count": 3,
   "metadata": {},
   "outputs": [
    {
     "name": "stdout",
     "output_type": "stream",
     "text": [
      "Enter numenator :55\n",
      "Enter denominator :55\n",
      "1.0\n"
     ]
    }
   ],
   "source": [
    "while True:\n",
    "    try:\n",
    "        num=int(input(\"Enter numenator :\"))\n",
    "        den=int(input(\"Enter denominator :\"))\n",
    "        value=num/den\n",
    "        print(value)\n",
    "        break\n",
    "    except:\n",
    "        print(\"Enter valid inputs\")\n",
    "        "
   ]
  },
  {
   "cell_type": "markdown",
   "metadata": {},
   "source": [
    "We can also handle a specfied error by writing the error name"
   ]
  },
  {
   "cell_type": "code",
   "execution_count": 5,
   "metadata": {},
   "outputs": [
    {
     "name": "stdout",
     "output_type": "stream",
     "text": [
      "Enter numenator :sd\n",
      "Enter valid inputs\n",
      "Enter numenator :5\n",
      "Enter denominator :5\n",
      "1.0\n"
     ]
    }
   ],
   "source": [
    "while True:\n",
    "    try:\n",
    "        num=int(input(\"Enter numenator :\"))\n",
    "        den=int(input(\"Enter denominator :\"))\n",
    "        value=num/den\n",
    "        print(value)\n",
    "        break\n",
    "    except ValueError:\n",
    "        print(\"Enter valid inputs\")  "
   ]
  },
  {
   "cell_type": "markdown",
   "metadata": {},
   "source": [
    "Now we learn how we can handle multiple exceptions."
   ]
  },
  {
   "cell_type": "code",
   "execution_count": 6,
   "metadata": {},
   "outputs": [
    {
     "name": "stdout",
     "output_type": "stream",
     "text": [
      "Enter numenator :5\n",
      "Enter denominator :0\n",
      "Denominator should not be zero\n",
      "Enter numenator :5\n",
      "Enter denominator :5\n",
      "1.0\n"
     ]
    }
   ],
   "source": [
    "while True:\n",
    "    try:\n",
    "        num=int(input(\"Enter numenator :\"))\n",
    "        den=int(input(\"Enter denominator :\"))\n",
    "        value=num/den\n",
    "        print(value)\n",
    "        break\n",
    "    except ValueError:\n",
    "        print(\"Enter valid inputs\")  \n",
    "        \n",
    "    except ZeroDivisionError:\n",
    "        print(\"Denominator should not be zero\")"
   ]
  },
  {
   "cell_type": "markdown",
   "metadata": {},
   "source": [
    "We can also handle above thing in one exception block"
   ]
  },
  {
   "cell_type": "code",
   "execution_count": 7,
   "metadata": {},
   "outputs": [
    {
     "name": "stdout",
     "output_type": "stream",
     "text": [
      "Enter numenator :5\n",
      "Enter denominator :0\n",
      "Enter valid inputs and denominator should not be zero\n",
      "Enter numenator :\n",
      "Enter valid inputs and denominator should not be zero\n",
      "Enter numenator :5\n",
      "Enter denominator :avc\n",
      "Enter valid inputs and denominator should not be zero\n",
      "Enter numenator :5\n",
      "Enter denominator :6\n",
      "0.8333333333333334\n"
     ]
    }
   ],
   "source": [
    "while True:\n",
    "    try:\n",
    "        num=int(input(\"Enter numenator :\"))\n",
    "        den=int(input(\"Enter denominator :\"))\n",
    "        value=num/den\n",
    "        print(value)\n",
    "        break\n",
    "    except (ValueError,ZeroDivisionError):\n",
    "        print(\"Enter valid inputs and denominator should not be zero\")  \n"
   ]
  },
  {
   "cell_type": "markdown",
   "metadata": {},
   "source": [
    "Now we learn how we can our own error or custom error"
   ]
  },
  {
   "cell_type": "code",
   "execution_count": 24,
   "metadata": {},
   "outputs": [
    {
     "name": "stdout",
     "output_type": "stream",
     "text": [
      "Enter numenator :5\n",
      "Enter denominator :0\n",
      "Custom error is raised\n",
      "Enter numenator :5\n",
      "Enter denominator :5\n",
      "1.0\n"
     ]
    }
   ],
   "source": [
    "class DenominatorZero(Exception): #Here Exception is a python inbuilt class which we just inherited.\n",
    "    pass\n",
    "while True:\n",
    "    try:\n",
    "        num=int(input(\"Enter numenator :\"))\n",
    "        den=int(input(\"Enter denominator :\"))\n",
    "        if den==0:\n",
    "            raise DenominatorZero() #Here raise keyword is used to create custom error\n",
    "        #print(\"hi\")\n",
    "        value=num/den\n",
    "        print(value)\n",
    "        break\n",
    "    except (ValueError):\n",
    "        print(\"Enter valid inputs and denominator should not be zero\")  \n",
    "\n",
    "    except DenominatorZero: \n",
    "        print(\"Custom error is raised\")\n"
   ]
  },
  {
   "cell_type": "markdown",
   "metadata": {},
   "source": [
    "NOW WE LEARN ABOUT TRY,EXCEPT,ELSE AND FINALLY BLOCK"
   ]
  },
  {
   "cell_type": "code",
   "execution_count": 27,
   "metadata": {},
   "outputs": [
    {
     "name": "stdout",
     "output_type": "stream",
     "text": [
      "Enter numenator :5\n",
      "Enter denominator :0\n",
      "Custom error is raised\n",
      "It always works whether error is occured or not\n",
      "Enter numenator :5\n",
      "Enter denominator :5\n",
      "No error is occured\n",
      "1.0\n",
      "It always works whether error is occured or not\n"
     ]
    }
   ],
   "source": [
    "class DenominatorZero(ZeroDivisionError):#We can also inherit from a specified error in python.\n",
    "    pass\n",
    "while True:\n",
    "    try:\n",
    "        num=int(input(\"Enter numenator :\"))\n",
    "        den=int(input(\"Enter denominator :\"))\n",
    "        if den==0:\n",
    "            raise DenominatorZero() #Here raise keyword is used to create custom error\n",
    "        #print(\"hi\")\n",
    "        value=num/den\n",
    "\n",
    "    except (ValueError):\n",
    "        print(\"Enter valid inputs and denominator should not be zero\")  \n",
    "\n",
    "    except DenominatorZero: \n",
    "        print(\"Custom error is raised\")\n",
    "\n",
    "    except ZeroDivisionError: \n",
    "        print(\"Zero division error is raised\")       \n",
    "        \n",
    "    else: #Here else block only works when we don't get any error in our try block\n",
    "        print(\"No error is occured\")\n",
    "        print(value)\n",
    "        break\n",
    "        \n",
    "    finally:\n",
    "        print(\"It always works whether error is occured or not\")\n",
    "        "
   ]
  },
  {
   "cell_type": "code",
   "execution_count": 31,
   "metadata": {},
   "outputs": [
    {
     "name": "stdout",
     "output_type": "stream",
     "text": [
      "Enter a no: 00123\n",
      "321\n"
     ]
    }
   ],
   "source": [
    "def reverse(n):\n",
    "    rev=0\n",
    "    while n!=0:\n",
    "        md=n%10\n",
    "        rev=rev*10+md\n",
    "        n=int(n/10)\n",
    "    return rev    \n",
    "\n",
    "n=int(input(\"Enter a no: \"))\n",
    "result = reverse(n)\n",
    "print(result)"
   ]
  }
 ],
 "metadata": {
  "kernelspec": {
   "display_name": "Python 3",
   "language": "python",
   "name": "python3"
  },
  "language_info": {
   "codemirror_mode": {
    "name": "ipython",
    "version": 3
   },
   "file_extension": ".py",
   "mimetype": "text/x-python",
   "name": "python",
   "nbconvert_exporter": "python",
   "pygments_lexer": "ipython3",
   "version": "3.9.0"
  }
 },
 "nbformat": 4,
 "nbformat_minor": 4
}
