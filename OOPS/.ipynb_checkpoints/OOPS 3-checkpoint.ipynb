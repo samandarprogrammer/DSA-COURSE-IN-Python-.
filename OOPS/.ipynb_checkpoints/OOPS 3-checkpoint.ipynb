{
 "cells": [
  {
   "cell_type": "markdown",
   "metadata": {},
   "source": [
    "ABSTRACT CLASSES AND ABSTRACT METHODS"
   ]
  },
  {
   "cell_type": "raw",
   "metadata": {},
   "source": [
    "1)Abstract classes are those which contains abstract methods and Abstract methods are those methods which contain a set of methods and when that abstract class is inherited by any other class and then it is compilsory that its child class should use all that abstract methods .\n",
    "\n",
    "2)We can create object of abstract classes.\n",
    "\n",
    "3)Implementation of all abstract methods are compulsory.\n",
    "\n",
    "4)In python we can't create abstract classes directly we have to import the following module:\n",
    "\n",
    "-->from abc import ABC,abstractmethod\n",
    "\n",
    "Here ABC is class module and abstactmethod is the functionality which act as decorator."
   ]
  },
  {
   "cell_type": "code",
   "execution_count": 21,
   "metadata": {},
   "outputs": [
    {
     "name": "stdout",
     "output_type": "stream",
     "text": [
      "Automobile is created\n",
      "Automobile is created\n",
      "4\n",
      "8\n"
     ]
    }
   ],
   "source": [
    "from abc import ABC,abstractmethod\n",
    "\n",
    "class Automobile(ABC): #Abstract class which inherits from ABC i.e abstract base class\n",
    "    \n",
    "    def __init__(self,wheel):\n",
    "        self.wheel=wheel\n",
    "        print(\"Automobile is created\")\n",
    "     \n",
    "    @abstractmethod\n",
    "    def start(self):\n",
    "        print(\"Automobile is Created\")\n",
    "    \n",
    "    @abstractmethod    \n",
    "    def drive(self):\n",
    "        pass\n",
    "\n",
    "    @abstractmethod    \n",
    "    def stop(self):\n",
    "        pass\n",
    "    \n",
    "    @abstractmethod\n",
    "    def no_of_wheels(self):\n",
    "        return self.wheel\n",
    "    \n",
    "class Car(Automobile):\n",
    "\n",
    "    def start(self):\n",
    "        pass\n",
    "    \n",
    " \n",
    "    def drive(self):\n",
    "        pass\n",
    "\n",
    "  \n",
    "    def stop(self):\n",
    "        pass\n",
    "    \n",
    "    def no_of_wheels(self):\n",
    "        return super().no_of_wheels()\n",
    "    \n",
    "class Bus(Automobile):\n",
    "\n",
    "    def start(self):\n",
    "        super().start()   #With the help of this we call abstract class method.\n",
    "        print(\"BUS IS CREATED\")\n",
    "    \n",
    " \n",
    "    def drive(self):\n",
    "        pass\n",
    "\n",
    "  \n",
    "    def stop(self):\n",
    "        pass\n",
    "    \n",
    "    def no_of_wheels(self):\n",
    "        return super().no_of_wheels()\n",
    "    \n",
    "b=Bus(8)  \n",
    "c=Car(4)\n",
    "print(c.no_of_wheels())\n",
    "print(b.no_of_wheels())\n",
    "a=Automobile() #It gives us an error because we can't create object of abstract classes."
   ]
  },
  {
   "cell_type": "markdown",
   "metadata": {},
   "source": [
    "INRO TO EXCEPTION HANDLING"
   ]
  },
  {
   "cell_type": "markdown",
   "metadata": {},
   "source": [
    "TO do exception handling we have to use two blocks which is try and except block\n"
   ]
  },
  {
   "cell_type": "code",
   "execution_count": null,
   "metadata": {},
   "outputs": [],
   "source": [
    "while True:\n",
    "    try:\n",
    "        num=int(input(\"Enter numenator :\"))\n",
    "        den=int(input(\"Enter denominator :\"))\n",
    "        value=num/den\n",
    "        print(value)\n",
    "        break\n",
    "    except:\n",
    "        print(\"Enter valid inputs\")"
   ]
  }
 ],
 "metadata": {
  "kernelspec": {
   "display_name": "Python 3",
   "language": "python",
   "name": "python3"
  },
  "language_info": {
   "codemirror_mode": {
    "name": "ipython",
    "version": 3
   },
   "file_extension": ".py",
   "mimetype": "text/x-python",
   "name": "python",
   "nbconvert_exporter": "python",
   "pygments_lexer": "ipython3",
   "version": "3.9.0"
  }
 },
 "nbformat": 4,
 "nbformat_minor": 4
}
