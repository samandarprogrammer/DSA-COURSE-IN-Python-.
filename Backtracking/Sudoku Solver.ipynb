{
 "cells": [
  {
   "cell_type": "code",
   "execution_count": null,
   "metadata": {},
   "outputs": [],
   "source": [
    "def isSafe(grid, row, col, num):\n",
    "    for x in range(9):\n",
    "        if grid[row][x] == num:\n",
    "            return False\n",
    "\n",
    "    for x in range(9):\n",
    "        if grid[x][col] == num:\n",
    "            return False\n",
    "\n",
    "    startRow = row - row % 3\n",
    "    startCol = col - col % 3\n",
    "    for i in range(3):\n",
    "        for j in range(3):\n",
    "            if grid[i + startRow][j + startCol] == num:\n",
    "                return False\n",
    "    return True\n",
    " \n",
    "\n",
    "def solveSuduko(grid, row, col):\n",
    "    if (row == N - 1 and col == N):\n",
    "        return True\n",
    "    if col == N:\n",
    "        row += 1\n",
    "        col = 0\n",
    "\n",
    "    if grid[row][col] > 0:\n",
    "        return solveSuduko(grid, row, col + 1)\n",
    "    for num in range(1, N + 1, 1):\n",
    "\n",
    "        if isSafe(grid, row, col, num):\n",
    "            grid[row][col] = num\n",
    "\n",
    "            if solveSuduko(grid, row, col + 1):\n",
    "                return True\n",
    " \n",
    "        grid[row][col] = 0\n",
    "    return False\n",
    "\n",
    "grid = [[ int(ele) for ele in input().split() ]for i in range(9)]\n",
    "N = len(grid)\n",
    "ans = solveSuduko(grid,0,0)\n",
    "if ans is True:\n",
    "    print('true')\n",
    "else:\n",
    "    print('false')\n",
    "\n"
   ]
  }
 ],
 "metadata": {
  "kernelspec": {
   "display_name": "Python 3",
   "language": "python",
   "name": "python3"
  },
  "language_info": {
   "codemirror_mode": {
    "name": "ipython",
    "version": 3
   },
   "file_extension": ".py",
   "mimetype": "text/x-python",
   "name": "python",
   "nbconvert_exporter": "python",
   "pygments_lexer": "ipython3",
   "version": "3.9.0"
  }
 },
 "nbformat": 4,
 "nbformat_minor": 4
}
