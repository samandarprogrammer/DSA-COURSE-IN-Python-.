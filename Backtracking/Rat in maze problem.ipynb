{
 "cells": [
  {
   "cell_type": "code",
   "execution_count": 12,
   "metadata": {},
   "outputs": [
    {
     "name": "stdout",
     "output_type": "stream",
     "text": [
      "4\n",
      "1 1 1 1\n",
      "1 0 1 1\n",
      "1 1 0 1\n",
      "1 1 1 1\n",
      "[[1, 0, 0, 0], [1, 0, 0, 0], [1, 0, 0, 0], [1, 1, 1, 1]]\n",
      "[[1, 0, 0, 0], [1, 0, 0, 0], [1, 1, 0, 0], [0, 1, 1, 1]]\n",
      "[[1, 1, 1, 0], [0, 0, 1, 1], [0, 0, 0, 1], [0, 0, 0, 1]]\n",
      "[[1, 1, 1, 1], [0, 0, 0, 1], [0, 0, 0, 1], [0, 0, 0, 1]]\n"
     ]
    }
   ],
   "source": [
    "def printratinmazehelper(x,y,n,maze,solution):\n",
    "    if x == n-1 and y == n-1:\n",
    "        solution[x][y] = 1\n",
    "        print(solution)\n",
    "        return\n",
    "    \n",
    "    if x < 0 or y < 0 or x >= n or y >= n or maze[x][y] == 0 or solution[x][y] == 1:\n",
    "        return\n",
    "    \n",
    "    solution[x][y] = 1\n",
    "    printratinmazehelper(x+1,y,n,maze,solution)\n",
    "    printratinmazehelper(x,y+1,n,maze,solution)\n",
    "    printratinmazehelper(x-1,y,n,maze,solution)\n",
    "    printratinmazehelper(x,y-1,n,maze,solution)    \n",
    "    solution[x][y] = 0\n",
    "    return\n",
    "def printratinmaze(maze):\n",
    "    n = len(maze)\n",
    "    solution = [[0 for j in range(n)] for i in range(n)]\n",
    "    printratinmazehelper(0,0,n,maze,solution)\n",
    "    \n",
    "n = int(input())\n",
    "maze =[]\n",
    "for i in range(n):\n",
    "    row = [int(i) for i in input().split()]\n",
    "    maze.append(row)\n",
    "printratinmaze(maze)"
   ]
  },
  {
   "cell_type": "code",
   "execution_count": 7,
   "metadata": {},
   "outputs": [
    {
     "name": "stdout",
     "output_type": "stream",
     "text": [
      "3\n",
      "1 1 1\n",
      "1 1 1\n",
      "1 0 1\n",
      "[[1, 1, 1], [1, 1, 1], [1, 0, 1]]\n"
     ]
    }
   ],
   "source": [
    "n = int(input())\n",
    "maze =[]\n",
    "for i in range(n):\n",
    "    row = [int(i) for i in input().split()]\n",
    "    maze.append(row)\n",
    "    \n",
    "print(maze)    \n"
   ]
  }
 ],
 "metadata": {
  "kernelspec": {
   "display_name": "Python 3",
   "language": "python",
   "name": "python3"
  },
  "language_info": {
   "codemirror_mode": {
    "name": "ipython",
    "version": 3
   },
   "file_extension": ".py",
   "mimetype": "text/x-python",
   "name": "python",
   "nbconvert_exporter": "python",
   "pygments_lexer": "ipython3",
   "version": "3.9.0"
  }
 },
 "nbformat": 4,
 "nbformat_minor": 4
}
