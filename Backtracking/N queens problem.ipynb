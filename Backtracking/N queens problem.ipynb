{
 "cells": [
  {
   "cell_type": "code",
   "execution_count": 5,
   "metadata": {},
   "outputs": [
    {
     "name": "stdout",
     "output_type": "stream",
     "text": [
      "4\n",
      "0 1 0 0 0 0 0 1 1 0 0 0 0 0 1 0 \n",
      "0 0 1 0 1 0 0 0 0 0 0 1 0 1 0 0 \n"
     ]
    }
   ],
   "source": [
    "def isSafe(row,col,n,board,solution):\n",
    "    #vertical upward \n",
    "    i = row - 1\n",
    "    while i >= 0:\n",
    "        if solution[i][col] == 1:\n",
    "            return False\n",
    "        i -=1\n",
    "     \n",
    "    #vertical left\n",
    "    i = row - 1\n",
    "    j = col - 1\n",
    "    \n",
    "    while i >=0 and j >=0:\n",
    "        if solution[i][j] == 1:\n",
    "            return False\n",
    "        i -= 1\n",
    "        j -= 1\n",
    "        \n",
    "    #vertical right\n",
    "    i = row - 1\n",
    "    j = col + 1\n",
    "    while i >=0 and j < n:\n",
    "        if solution[i][j] == 1:\n",
    "            return False\n",
    "        i -= 1\n",
    "        j += 1\n",
    "        \n",
    "    return True    \n",
    "\n",
    "def printnqueenshelper(x,n,board,solution):\n",
    "    if x == n:\n",
    "        for lst in solution:\n",
    "            for ele in lst:\n",
    "                print(ele,end=' ')\n",
    "        print()        \n",
    "        return\n",
    "    \n",
    "    for j in range(n):\n",
    "        if isSafe(x,j,n,board,solution):\n",
    "            solution[x][j] = 1\n",
    "            printnqueenshelper(x+1,n,board,solution)\n",
    "            solution[x][j] = 0\n",
    "    return         \n",
    "\n",
    "def printnqueens(board):\n",
    "    n = len(board)\n",
    "    solution = [[0 for i in range(n)]for j in range(n)]\n",
    "    printnqueenshelper(0,n,board,solution)\n",
    "\n",
    "n = int(input())\n",
    "board = [[0 for i in range(n)] for j in range(n)]\n",
    "printnqueens(board)"
   ]
  }
 ],
 "metadata": {
  "kernelspec": {
   "display_name": "Python 3",
   "language": "python",
   "name": "python3"
  },
  "language_info": {
   "codemirror_mode": {
    "name": "ipython",
    "version": 3
   },
   "file_extension": ".py",
   "mimetype": "text/x-python",
   "name": "python",
   "nbconvert_exporter": "python",
   "pygments_lexer": "ipython3",
   "version": "3.9.0"
  }
 },
 "nbformat": 4,
 "nbformat_minor": 4
}
