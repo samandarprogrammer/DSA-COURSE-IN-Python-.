{
 "cells": [
  {
   "cell_type": "code",
   "execution_count": 3,
   "metadata": {},
   "outputs": [
    {
     "name": "stdout",
     "output_type": "stream",
     "text": [
      "8\n",
      "21\n"
     ]
    }
   ],
   "source": [
    "#THIS IS A SIMPLE WAY OF SOLVING PROBLEM WITH THE HELP OF RECURSION,BUT HERE WE HAVE A PROBLEM OF RECURSION OVERLAPPING.\n",
    "#TO SOLVE THAT WE ARE USING A CONCEPT OF DYNAMIC PROGRAMMING CALLED AS MEMOIZATION WHERE WE STORE THE RESULT OF EACH RECURSION\n",
    "#CALL.\n",
    "def fib(n):\n",
    "    if n==0 or n==1:\n",
    "        return n\n",
    "    ans1 = fib(n-1)\n",
    "    ans2 = fib(n-2)\n",
    "    \n",
    "    myans = fib(n-1) + fib(n-2)\n",
    "    return myans\n",
    "\n",
    "n= int(input())\n",
    "ans = fib(n)\n",
    "print(ans)"
   ]
  },
  {
   "cell_type": "code",
   "execution_count": 6,
   "metadata": {},
   "outputs": [
    {
     "name": "stdout",
     "output_type": "stream",
     "text": [
      "456\n",
      "88895331094252224395547334812680590285351577786328700992010571109649289972956851261232789975392\n"
     ]
    }
   ],
   "source": [
    "def fib_memo(n , dp):\n",
    "    if n==0 or n==1:\n",
    "        return n\n",
    "    if dp[n-1] == -1:\n",
    "        ans1 = fib_memo(n-1,dp)\n",
    "        dp[n-1] = ans1\n",
    "    else:\n",
    "        ans1 = dp[n-1]\n",
    "        \n",
    "    if dp[n-2] == -1:\n",
    "        ans2 = fib_memo(n-2,dp)\n",
    "        dp[n-2] = ans2\n",
    "    else:\n",
    "        ans2 = dp[n-2]\n",
    "        \n",
    "    myans = ans1 + ans2 \n",
    "    return myans\n",
    "    \n",
    "n= int(input())\n",
    "dp = [-1 for i in range(n+1)]\n",
    "ans = fib_memo(n,dp)\n",
    "print(ans)"
   ]
  }
 ],
 "metadata": {
  "kernelspec": {
   "display_name": "Python 3",
   "language": "python",
   "name": "python3"
  },
  "language_info": {
   "codemirror_mode": {
    "name": "ipython",
    "version": 3
   },
   "file_extension": ".py",
   "mimetype": "text/x-python",
   "name": "python",
   "nbconvert_exporter": "python",
   "pygments_lexer": "ipython3",
   "version": "3.9.0"
  }
 },
 "nbformat": 4,
 "nbformat_minor": 4
}
