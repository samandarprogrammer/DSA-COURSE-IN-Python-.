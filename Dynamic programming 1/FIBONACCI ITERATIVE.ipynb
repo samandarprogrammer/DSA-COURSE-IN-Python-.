{
 "cells": [
  {
   "cell_type": "code",
   "execution_count": 3,
   "metadata": {},
   "outputs": [
    {
     "name": "stdout",
     "output_type": "stream",
     "text": [
      "7\n",
      "13\n"
     ]
    }
   ],
   "source": [
    "def fibi(n):\n",
    "    dp = [-1 for i in range(n+1)]\n",
    "    dp[0] = 0\n",
    "    dp[1] = 1\n",
    "    i = 2\n",
    "    while i <= n:\n",
    "        dp[i] = dp[i-1] + dp[i-2]\n",
    "        i +=1\n",
    "    return dp[n]\n",
    "\n",
    "n= int(input())\n",
    "ans = fibi(n)\n",
    "print(ans)"
   ]
  }
 ],
 "metadata": {
  "kernelspec": {
   "display_name": "Python 3",
   "language": "python",
   "name": "python3"
  },
  "language_info": {
   "codemirror_mode": {
    "name": "ipython",
    "version": 3
   },
   "file_extension": ".py",
   "mimetype": "text/x-python",
   "name": "python",
   "nbconvert_exporter": "python",
   "pygments_lexer": "ipython3",
   "version": "3.9.0"
  }
 },
 "nbformat": 4,
 "nbformat_minor": 4
}
