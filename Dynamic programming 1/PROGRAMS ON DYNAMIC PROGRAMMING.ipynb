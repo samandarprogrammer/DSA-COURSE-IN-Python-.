{
 "cells": [
  {
   "cell_type": "code",
   "execution_count": null,
   "metadata": {
    "scrolled": true
   },
   "outputs": [],
   "source": [
    "import sys,math"
   ]
  },
  {
   "cell_type": "code",
   "execution_count": null,
   "metadata": {
    "scrolled": true
   },
   "outputs": [],
   "source": [
    "#FIRST WE DISCUSS THE RECURSIVE SOLUTION FOR THAT PROBLEM.\n",
    "#In that problem we have given a number and we have to find that how many minimum steps is req. to minimize that number to 1\n",
    "#Here we can do only three operations.(1)--->n-1   (2)-->n/2(number is divisble by 2) (3)--->n/3 (number is divisble by 3)\n",
    "def Find_Min_Steps(n):\n",
    "    if n==1:\n",
    "        return 0\n",
    "    ans1 = Find_Min_Steps(n-1)\n",
    "    \n",
    "    if n%2 == 0:\n",
    "        ans2 = Find_Min_Steps(n/2)\n",
    "    else:\n",
    "        ans2 = 9999\n",
    "    \n",
    "    if n%3 == 0:\n",
    "        ans3 = Find_Min_Steps(n/3)\n",
    "    else:\n",
    "        ans3 = 9999\n",
    "    \n",
    "    myans = 1 + min(ans1 ,ans2 ,ans3)\n",
    "    return myans\n",
    "\n",
    "n= int(input())\n",
    "ans = Find_Min_Steps(n)\n",
    "print(ans)"
   ]
  },
  {
   "cell_type": "code",
   "execution_count": null,
   "metadata": {
    "scrolled": true
   },
   "outputs": [],
   "source": [
    "#NOW WE USE THE MEMOIZATION TECHNIQUE TO SOLVE THE SAME PROBLEM AND TO REDUCE THE TIME COMPLEXITY.\n",
    "def Find_Min_Steps_Memo(n,dp):\n",
    "    if n==1 :\n",
    "        return 0\n",
    "    \n",
    "    if dp[n-1] == -1:\n",
    "        ans1 = Find_Min_Steps_Memo(n-1,dp)\n",
    "        dp[n-1] = ans1\n",
    "    else:\n",
    "        ans1 = dp[n-1]\n",
    "    \n",
    "    if n % 2==0:\n",
    "        if dp[n//2] == -1:\n",
    "            ans2 = Find_Min_Steps_Memo(n/2,dp)\n",
    "            dp[n//2] = ans2\n",
    "        else:\n",
    "            ans2 = dp[n//2]\n",
    "    else:\n",
    "        ans2 = 99999\n",
    "            \n",
    "    if n %3==0:\n",
    "        if dp[n//3] == -1:\n",
    "            ans3 = Find_Min_Steps_Memo(n/3,dp)\n",
    "            dp[n//3] = ans3\n",
    "        else:\n",
    "            ans3 = dp[n//3]\n",
    "    else:\n",
    "        ans3 = 99999\n",
    "    \n",
    "    myans = 1 + min(ans1,ans2,ans3)\n",
    "    return myans\n",
    "\n",
    "n= int(input())\n",
    "dp = [-1 for i in range(n+1)]\n",
    "ans =Find_Min_Steps_Memo(n,dp)\n",
    "print(ans)"
   ]
  },
  {
   "cell_type": "code",
   "execution_count": null,
   "metadata": {
    "scrolled": true
   },
   "outputs": [],
   "source": [
    "def Find_Min_Steps_Memo_Iterative(n):\n",
    "    dp = [-1 for i in range(n+1)]\n",
    "    \n",
    "    dp[0] = 0\n",
    "    dp[1] = 0\n",
    "    i=2\n",
    "    while i<=n:\n",
    "        ans1 = dp[i-1]\n",
    "        if i % 2==0:\n",
    "            ans2 = dp[i//2]\n",
    "        else:\n",
    "            ans2 = 999\n",
    "        if i%3==0:\n",
    "            ans3 = dp[i//3]\n",
    "        else:\n",
    "            ans3 = 9999\n",
    "        dp[i] = 1 + min(ans1 , ans2 , ans3)\n",
    "        i +=1\n",
    "    return dp[n]\n",
    "\n",
    "n=int(input())\n",
    "ans = Find_Min_Steps_Memo_Iterative(n)\n",
    "print(ans)"
   ]
  },
  {
   "cell_type": "code",
   "execution_count": null,
   "metadata": {
    "scrolled": true
   },
   "outputs": [],
   "source": [
    "#Minimum square to represent a number \n",
    "#Here we try a recursion solution for that\n",
    "def min_sq_to_rep_num(n):\n",
    "    if n == 0:\n",
    "        return 0\n",
    "    \n",
    "    i = 1\n",
    "    ans = 999\n",
    "    while i*i <=n:\n",
    "        curr_ans = 1 + min_sq_to_rep_num(n-i*i)\n",
    "        ans = min(curr_ans , ans)\n",
    "        i += 1\n",
    "    return ans\n",
    "\n",
    "n= int(input())\n",
    "ans = min_sq_to_rep_num(n)\n",
    "print(ans)"
   ]
  },
  {
   "cell_type": "code",
   "execution_count": 1,
   "metadata": {
    "scrolled": true
   },
   "outputs": [
    {
     "name": "stdout",
     "output_type": "stream",
     "text": [
      "41\n",
      "2\n"
     ]
    }
   ],
   "source": [
    "#Memoiztion technique\n",
    "def min_sq_to_rep_num_memo(n,dp):\n",
    "    if n == 0:\n",
    "        return 0\n",
    "    \n",
    "    i = 1\n",
    "    ans = 999\n",
    "    while i*i <=n:\n",
    "        if dp[n-i*i] == -1:\n",
    "            smallans = min_sq_to_rep_num_memo(n-i*i,dp)\n",
    "            dp[n-i*i] = smallans\n",
    "            curr_ans = 1 + smallans\n",
    "        else:\n",
    "            curr_ans = 1 + dp[n-i*i]\n",
    "        ans = min(curr_ans , ans)\n",
    "        i += 1\n",
    "    return ans\n",
    "\n",
    "n= int(input())\n",
    "dp = [-1 for i in range(n+1)]\n",
    "ans = min_sq_to_rep_num_memo(n,dp)\n",
    "print(ans)"
   ]
  },
  {
   "cell_type": "code",
   "execution_count": 4,
   "metadata": {
    "scrolled": true
   },
   "outputs": [
    {
     "name": "stdout",
     "output_type": "stream",
     "text": [
      "41\n",
      "2\n"
     ]
    }
   ],
   "source": [
    "#Time complexity = O(n(sqrt(n))\n",
    "#TO udnerstand it dry run it.\n",
    "import sys,math\n",
    "def min_sq_to_rep_num_memo_Ite(n):\n",
    "    dp = [-1 for i in range(n+1)]\n",
    "    dp[0] = 0\n",
    "    for i in range(1,n+1):\n",
    "        ans = sys.maxsize\n",
    "        root = int(math.sqrt(i))\n",
    "        for j in range(1,root+1):\n",
    "            curr_ans = 1 + dp[i-(j*j)]\n",
    "            ans = min(curr_ans , ans)\n",
    "        dp[i] = ans\n",
    "    return dp[n]     \n",
    "\n",
    "n= int(input())\n",
    "ans = min_sq_to_rep_num_memo_Ite(n)\n",
    "print(ans)"
   ]
  },
  {
   "cell_type": "code",
   "execution_count": null,
   "metadata": {
    "scrolled": true
   },
   "outputs": [],
   "source": [
    "#Largest increasing subsequence solved using recursion\n",
    "def LIS(prev,curr,arr):\n",
    "    if curr == len(arr):\n",
    "        return 0\n",
    "    \n",
    "    option1 = 0\n",
    "    if prev==-1 or arr[curr] > arr[prev]:\n",
    "        option1 = 1 + LIS(curr,curr+1,arr)\n",
    "        \n",
    "    option2 = LIS(prev,curr+1,arr)    \n",
    "    \n",
    "    return max(option1 , option2)\n",
    "\n",
    "arr=[int(i) for i in input().split()]\n",
    "ans =LIS(-1,0,arr)\n",
    "print(ans)"
   ]
  },
  {
   "cell_type": "code",
   "execution_count": 17,
   "metadata": {
    "scrolled": true
   },
   "outputs": [
    {
     "name": "stdout",
     "output_type": "stream",
     "text": [
      "7\n",
      "6 3 1 2 0 7 9\n",
      "4\n"
     ]
    }
   ],
   "source": [
    "#Memoization\n",
    "def LIS_Memo(prev,li,curr,dp):\n",
    "    if curr == len(li):\n",
    "        return 0\n",
    "    \n",
    "    if prev !=-1 and dp[prev][curr] != -1:\n",
    "        return dp[prev][curr]\n",
    "    \n",
    "    option1 = 0\n",
    "    if prev == -1 or li[curr] > li[prev]:\n",
    "        option1 = 1 + LIS_Memo(curr,li,curr+1,dp)\n",
    "            \n",
    "    option2 = LIS_Memo(prev,li,curr+1,dp)\n",
    "    \n",
    "    if prev!=-1:\n",
    "        dp[prev][curr] = max(option1 ,option2)\n",
    "       \n",
    "    return max(option1,option2)\n",
    "\n",
    "n = int(input())\n",
    "li=[int(i) for i in input().split()]\n",
    "dp = [[-1 for i in range(n)]for j in range(n)]\n",
    "ans = LIS_Memo(-1,li,0,dp)\n",
    "print(ans)"
   ]
  },
  {
   "cell_type": "code",
   "execution_count": 19,
   "metadata": {
    "scrolled": true
   },
   "outputs": [
    {
     "name": "stdout",
     "output_type": "stream",
     "text": [
      "7\n",
      "6 3 1 2 0 7 9\n",
      "4\n"
     ]
    }
   ],
   "source": [
    "#ITERATIVELY SOLVED. TIME-COMPLEXITY=O(n^2)\n",
    "def lisI(li,n):\n",
    "    dp = [1 for i in range(n)]\n",
    "    for i in range(1,n):\n",
    "        lis = dp[i]\n",
    "        for j in range(i,-1,-1):\n",
    "            if li[j] > li[i] and lis < 1+dp[j]:\n",
    "                lis = 1 + dp[j]\n",
    "        dp[i] = lis\n",
    "    return max(dp)    \n",
    "\n",
    "n=int(input())\n",
    "li = [int(i) for i in input().split()]\n",
    "ans = lisI(li,n)\n",
    "print(ans)"
   ]
  }
 ],
 "metadata": {
  "kernelspec": {
   "display_name": "Python 3",
   "language": "python",
   "name": "python3"
  },
  "language_info": {
   "codemirror_mode": {
    "name": "ipython",
    "version": 3
   },
   "file_extension": ".py",
   "mimetype": "text/x-python",
   "name": "python",
   "nbconvert_exporter": "python",
   "pygments_lexer": "ipython3",
   "version": "3.9.0"
  }
 },
 "nbformat": 4,
 "nbformat_minor": 4
}
