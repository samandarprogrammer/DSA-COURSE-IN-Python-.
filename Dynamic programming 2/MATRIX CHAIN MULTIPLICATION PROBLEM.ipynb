{
 "cells": [
  {
   "cell_type": "code",
   "execution_count": 4,
   "metadata": {},
   "outputs": [
    {
     "name": "stdout",
     "output_type": "stream",
     "text": [
      "3\n",
      "10 15 20 25\n",
      "8000\n"
     ]
    }
   ],
   "source": [
    "#To understand it we have clearly we have to understanf \n",
    "import sys\n",
    "from sys import stdin\n",
    "def mcm(p,i,j,dp):\n",
    "    if i == j:   #Base case\n",
    "        return 0\n",
    "    \n",
    "    min_value = sys.maxsize\n",
    "    for k in range(i,j):   #Hypothesis\n",
    "        if dp[i][k] == -1:\n",
    "            ans1 = mcm(p,i,k,dp)\n",
    "            dp[i][k] = ans1\n",
    "        else:\n",
    "            ans1 = dp[i][k]\n",
    "        \n",
    "        if dp[k+1][j] == -1:\n",
    "            ans2 = mcm(p,k+1,j,dp)\n",
    "            dp[k+1][j] = ans2\n",
    "        else:\n",
    "            ans2 = dp[k+1][j]\n",
    "        \n",
    "        multiplication_cost = p[i-1]*p[k]*p[j]\n",
    "        curr_cost = ans1 + ans2 + multiplication_cost\n",
    "        \n",
    "        min_value = min(curr_cost,min_value)\n",
    "    \n",
    "    return min_value\n",
    "\n",
    "\n",
    "\n",
    "n=int(input())\n",
    "p=[int(i) for i in input().split()]\n",
    "dp = [[-1 for i in range(n+1)]for j in range(n+1)]\n",
    "print(mcm(p,1,n,dp))"
   ]
  }
 ],
 "metadata": {
  "kernelspec": {
   "display_name": "Python 3",
   "language": "python",
   "name": "python3"
  },
  "language_info": {
   "codemirror_mode": {
    "name": "ipython",
    "version": 3
   },
   "file_extension": ".py",
   "mimetype": "text/x-python",
   "name": "python",
   "nbconvert_exporter": "python",
   "pygments_lexer": "ipython3",
   "version": "3.9.0"
  }
 },
 "nbformat": 4,
 "nbformat_minor": 4
}
