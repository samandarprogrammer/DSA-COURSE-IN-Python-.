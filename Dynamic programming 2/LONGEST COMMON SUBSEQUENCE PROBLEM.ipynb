{
 "cells": [
  {
   "cell_type": "code",
   "execution_count": null,
   "metadata": {},
   "outputs": [],
   "source": [
    "#LONGEST COMMON SUBSEQUENCE PROBLEM IN DYNAMIC PROGRMMING THROUGH RECURSION\n",
    "def lcs(s, t,i,j) :\n",
    "    #Your code goes here\n",
    "    if i >= len(s) or j >= len(t):\n",
    "        return 0\n",
    "    \n",
    "    if s[i] == t[j]:\n",
    "        ans = 1 + lcs(s,t,i+1,j+1)\n",
    "    else:\n",
    "        ans =  max(lcs(s,t,i+1,j),lcs(s,t,i,j+1))\n",
    "\n",
    "    return ans\n",
    "\n",
    "#main\n",
    "s = input()\n",
    "t = input()\n",
    "print(lcs(s, t,0,0))"
   ]
  },
  {
   "cell_type": "code",
   "execution_count": 18,
   "metadata": {},
   "outputs": [
    {
     "name": "stdout",
     "output_type": "stream",
     "text": [
      "4\n"
     ]
    }
   ],
   "source": [
    "#LONGEST COMMON SUBSEQUENCE PROBLEM IN DYNAMIC PROGRMMING THROUGH RECURSION WITH MEMOIZATION \n",
    "\n",
    "def lcs_memo(s,t,i,j,dp):\n",
    "    if i == len(s) or j == len(t):\n",
    "        return 0\n",
    "    \n",
    "    if s[i] == t[j]:\n",
    "        if dp[i+1][j+1] == -1:\n",
    "            small_ans = lcs_memo(s,t,i+1,j+1,dp)\n",
    "            dp[i+1][j+1] = small_ans\n",
    "            ans = 1 + small_ans\n",
    "        else:\n",
    "            ans = 1 + dp[i+1][j+1]\n",
    "    else:\n",
    "        if dp[i+1][j] == -1:\n",
    "            ans1 = lcs_memo(s,t,i+1,j,dp)\n",
    "            dp[i+1][j] = ans1\n",
    "        else:\n",
    "            ans1 = dp[i+1][j]\n",
    "        \n",
    "        if dp[i][j+1] == -1:\n",
    "            ans2 = lcs_memo(s,t,i,j+1,dp)\n",
    "            dp[i][j+1] = ans2\n",
    "        else:\n",
    "            ans2 = dp[i][j+1]\n",
    "        \n",
    "        ans = max(ans1 , ans2)\n",
    "    return ans\n",
    "    \n",
    "s = 'bdcaba'\n",
    "t = 'abcbdasd'\n",
    "n= len(s)\n",
    "m = len(t)\n",
    "dp = [[-1 for j in range(m+1)] for i in range(n+1)]\n",
    "print(lcs_memo(s, t,0,0,dp))    "
   ]
  },
  {
   "cell_type": "code",
   "execution_count": 21,
   "metadata": {},
   "outputs": [
    {
     "name": "stdout",
     "output_type": "stream",
     "text": [
      "4\n"
     ]
    }
   ],
   "source": [
    "##LONGEST COMMON SUBSEQUENCE PROBLEM IN DYNAMIC PROGRMMING THROUGH MEMOIZATION IN ITERATIVE BOTTOM UP APPROCH.\n",
    "def lsc_memo_iter(s,t,i,j):\n",
    "    n = len(s)\n",
    "    m = len(t)\n",
    "    dp = [[0 for i in range(m+1)] for j in range(n+1)]\n",
    "    for i in range(n-1,-1,-1):\n",
    "        for j in range(m-1,-1,-1):\n",
    "            if s[i] == t[j]:\n",
    "                dp[i][j] = 1 + dp[i+1][j+1]\n",
    "            else:\n",
    "                dp[i][j] = max(dp[i+1][j] , dp[i][j+1])\n",
    "    return dp[0][0]             \n",
    "\n",
    "s = 'bdcaba'\n",
    "t = 'abcbdasd'\n",
    "print(lsc_memo_iter(s,t,0,0)) "
   ]
  }
 ],
 "metadata": {
  "kernelspec": {
   "display_name": "Python 3",
   "language": "python",
   "name": "python3"
  },
  "language_info": {
   "codemirror_mode": {
    "name": "ipython",
    "version": 3
   },
   "file_extension": ".py",
   "mimetype": "text/x-python",
   "name": "python",
   "nbconvert_exporter": "python",
   "pygments_lexer": "ipython3",
   "version": "3.9.0"
  }
 },
 "nbformat": 4,
 "nbformat_minor": 4
}
