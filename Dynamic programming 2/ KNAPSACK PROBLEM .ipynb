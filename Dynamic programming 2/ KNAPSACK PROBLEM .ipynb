{
 "cells": [
  {
   "cell_type": "code",
   "execution_count": 9,
   "metadata": {},
   "outputs": [
    {
     "name": "stdout",
     "output_type": "stream",
     "text": [
      "12 7 11 8 9\n",
      "24 13 23 15 16\n",
      "26\n",
      "51\n"
     ]
    }
   ],
   "source": [
    "def knapsack(w,wt,v,i):\n",
    "    if i == len(wt):\n",
    "        return 0\n",
    "    \n",
    "    if wt[i] <= w:\n",
    "        ans1 = knapsack(w,wt,v,i+1)\n",
    "        ans2 = v[i] + knapsack(w-wt[i],wt,v,i+1)\n",
    "        ans = max(ans1,ans2)        \n",
    "    else:\n",
    "        ans = knapsack(w,wt,v,i+1)\n",
    "\n",
    "    return ans\n",
    "\n",
    "wt = [int(i) for i in input().split()]\n",
    "v = [int(i) for i in input().split()]\n",
    "w = int(input())\n",
    "print(knapsack(w,wt,v,0))"
   ]
  },
  {
   "cell_type": "code",
   "execution_count": 17,
   "metadata": {},
   "outputs": [
    {
     "name": "stdout",
     "output_type": "stream",
     "text": [
      "4 5 1\n",
      "1 2 3\n",
      "4\n",
      "3\n"
     ]
    }
   ],
   "source": [
    "def knapsack_iter(w,wt,v):\n",
    "    n = len(v)\n",
    "    dp = [[0 for j in range(w+1)]for i in range(n+1)]\n",
    "    \n",
    "    for i in range(1,n+1):\n",
    "        for j in range(1,w+1):\n",
    "            if j < wt[i-1]:\n",
    "                ans = dp[i-1][j]\n",
    "            else:\n",
    "                ans1 = v[i-1] + dp[i-1][j-wt[i-1]]\n",
    "                ans2 = dp[i-1][j]\n",
    "                ans = max(ans1,ans2)\n",
    "            dp[i][j] = ans    \n",
    "    return dp[n][w]             \n",
    "\n",
    "\n",
    "wt = [int(i) for i in input().split()]\n",
    "v = [int(i) for i in input().split()]\n",
    "w = int(input())\n",
    "print(knapsack_iter(w,wt,v))"
   ]
  },
  {
   "cell_type": "code",
   "execution_count": null,
   "metadata": {},
   "outputs": [],
   "source": []
  }
 ],
 "metadata": {
  "kernelspec": {
   "display_name": "Python 3",
   "language": "python",
   "name": "python3"
  },
  "language_info": {
   "codemirror_mode": {
    "name": "ipython",
    "version": 3
   },
   "file_extension": ".py",
   "mimetype": "text/x-python",
   "name": "python",
   "nbconvert_exporter": "python",
   "pygments_lexer": "ipython3",
   "version": "3.9.0"
  }
 },
 "nbformat": 4,
 "nbformat_minor": 4
}
