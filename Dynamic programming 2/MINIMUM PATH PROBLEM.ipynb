{
 "cells": [
  {
   "cell_type": "code",
   "execution_count": null,
   "metadata": {},
   "outputs": [],
   "source": [
    "#RECURSIVE SOLUTION TO SOLVE THE MIN PATH PROBLEM.\n",
    "maxvalue = 999999\n",
    "def minpath(cost,nRows,mCols,i,j):\n",
    "    if i == nRows -1 and j == mCols - 1:\n",
    "        return cost[i][j]\n",
    "    \n",
    "    if i >= nRows or j >=mCols:\n",
    "        return maxvalue\n",
    "    \n",
    "    ans1 = minpath(cost,nRows,mCols,i+1,j)\n",
    "    ans2 = minpath(cost,nRows,mCols,i,j+1)\n",
    "    ans3 = minpath(cost,nRows,mCols,i+1,j+1)    \n",
    "    \n",
    "    ans = cost[i][j] + min(ans1,ans2,ans3)\n",
    "    return ans\n",
    "\n",
    "\n",
    "nRows = int(input())\n",
    "mCols = int(input())\n",
    "cost =[[4,3,2],[5,1,2],[6,2,9]]\n",
    "ans = minpath(cost,nRows,mCols,0,0)\n",
    "print(ans)"
   ]
  },
  {
   "cell_type": "code",
   "execution_count": 16,
   "metadata": {},
   "outputs": [
    {
     "name": "stdout",
     "output_type": "stream",
     "text": [
      "3\n",
      "3\n",
      "14\n"
     ]
    }
   ],
   "source": [
    "#MEMOIZATION OF MINIMUM PATH PROBLEM.\n",
    "#RECURSIVE SOLUTION TO SOLVE THE MIN PATH PROBLEM.\n",
    "import sys\n",
    "maxvalue = 999999\n",
    "def minpath_memo(cost,nRows,mCols,i,j,dp):\n",
    "    if i == nRows -1 and j == mCols - 1:\n",
    "        return cost[i][j]\n",
    "    \n",
    "    if i >= nRows or j >=mCols:\n",
    "        return maxvalue\n",
    "    if dp[i+1][j] == sys.maxsize:\n",
    "        ans1 = minpath_memo(cost,nRows,mCols,i+1,j,dp)\n",
    "        dp[i+1][j] = ans1\n",
    "    else:\n",
    "        ans1 = dp[i+1][j]\n",
    "        \n",
    "    if dp[i][j+1] == sys.maxsize:\n",
    "        ans2 = minpath_memo(cost,nRows,mCols,i,j+1,dp)\n",
    "        dp[i][j+1] = ans2\n",
    "    else:\n",
    "        dp[i][j+1] = ans2\n",
    "     \n",
    "    if dp[i+1][j+1] == sys.maxsize:\n",
    "        ans3 = minpath_memo(cost,nRows,mCols,i+1,j+1,dp)\n",
    "        dp[i+1][j+1] = ans3\n",
    "    else:\n",
    "        ans3 = dp[i+1][j+1]\n",
    "    \n",
    "    ans = cost[i][j] + min(ans1,ans2,ans3)\n",
    "\n",
    "    return ans\n",
    "\n",
    "\n",
    "nRows = int(input())\n",
    "mCols = int(input())\n",
    "cost =[[4,3,2],[5,1,2],[6,2,9]]\n",
    "dp = [[sys.maxsize for i in range(nRows+1)] for j in range(mCols + 1)]\n",
    "ans = minpath_memo(cost,nRows,mCols,0,0,dp)\n",
    "print(ans)"
   ]
  },
  {
   "cell_type": "code",
   "execution_count": 17,
   "metadata": {},
   "outputs": [
    {
     "name": "stdout",
     "output_type": "stream",
     "text": [
      "3\n",
      "3\n",
      "14\n"
     ]
    }
   ],
   "source": [
    "#ITERATIVELY SOLUTION FROM TOP TO DOWN APPROCH FOR MINPATH PROBLEM.\n",
    "def minpath_iter(nRows,mCols,cost,i,j):\n",
    "    dp = [[sys.maxsize for i in range(nRows+1)] for j in range(mCols+1)]\n",
    "\n",
    "#     dp[nRows - 1][mCols - 1] = cost[nRows-1][mCols -1]\n",
    "        \n",
    "    for i in range(nRows-1,-1,-1):\n",
    "        for j in range(mCols - 1,-1,-1):\n",
    "            if i == nRows - 1 and j == mCols - 1: \n",
    "                dp[i][j] = cost[i][j]\n",
    "            else:    \n",
    "                dp[i][j] = cost[i][j] + min(dp[i+1][j] , dp[i][j+1] , dp[i+1][j+1])\n",
    "    return dp[0][0]   \n",
    "\n",
    "nRows = int(input())\n",
    "mCols = int(input())\n",
    "cost =[[4,3,2],[5,1,2],[6,2,9]]\n",
    "ans = minpath_iter(nRows,mCols,cost,0,0)\n",
    "print(ans)    "
   ]
  },
  {
   "cell_type": "code",
   "execution_count": 21,
   "metadata": {},
   "outputs": [
    {
     "name": "stdout",
     "output_type": "stream",
     "text": [
      "3\n",
      "3\n",
      "14\n"
     ]
    }
   ],
   "source": [
    "#ITERATIVELY SOLUTION FROM BOTTOM TO UP APPROCH FOR MINPATH PROBLEM.\n",
    "def minpath_iter(nRows,mCols,cost,i,j):\n",
    "    dp = [[sys.maxsize for i in range(nRows+1)] for j in range(mCols+1)]\n",
    "    \n",
    "    for i in range(1,nRows+1):\n",
    "        for j in range(1,mCols+1):\n",
    "            if i == 1 and j == 1: \n",
    "                dp[i][j]  = cost[0][0]\n",
    "            else:    \n",
    "                dp[i][j] = cost[i-1][j-1] + min(dp[i-1][j] , dp[i][j-1] , dp[i-1][j-1])\n",
    "    return dp[nRows][mCols]   \n",
    "\n",
    "nRows = int(input())\n",
    "mCols = int(input())\n",
    "cost =[[4,3,2],[5,1,2],[6,2,9]]\n",
    "ans = minpath_iter(nRows,mCols,cost,0,0) \n",
    "print(ans)    "
   ]
  }
 ],
 "metadata": {
  "kernelspec": {
   "display_name": "Python 3",
   "language": "python",
   "name": "python3"
  },
  "language_info": {
   "codemirror_mode": {
    "name": "ipython",
    "version": 3
   },
   "file_extension": ".py",
   "mimetype": "text/x-python",
   "name": "python",
   "nbconvert_exporter": "python",
   "pygments_lexer": "ipython3",
   "version": "3.9.0"
  }
 },
 "nbformat": 4,
 "nbformat_minor": 4
}
