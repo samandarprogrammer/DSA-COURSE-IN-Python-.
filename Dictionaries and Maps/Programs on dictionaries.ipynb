{
 "cells": [
  {
   "cell_type": "markdown",
   "metadata": {},
   "source": [
    "Program to print word having k frequency in a given string"
   ]
  },
  {
   "cell_type": "code",
   "execution_count": 3,
   "metadata": {},
   "outputs": [
    {
     "name": "stdout",
     "output_type": "stream",
     "text": [
      "this is a string with many many words\n",
      "1\n",
      "this\n",
      "is\n",
      "a\n",
      "string\n",
      "with\n",
      "words\n"
     ]
    }
   ],
   "source": [
    "def printkfrequencyword(string,k):\n",
    "    words = string.split()\n",
    "    d={}\n",
    "    for w in words:\n",
    "        d[w] = d.get(w,0) + 1\n",
    "        \n",
    "    for i in d:\n",
    "        if d[i] == k:\n",
    "            print(i)\n",
    "            \n",
    "string = input()            \n",
    "k=int(input())\n",
    "printkfrequencyword(string,k)"
   ]
  },
  {
   "cell_type": "markdown",
   "metadata": {},
   "source": [
    "Program to return number with max frquency"
   ]
  },
  {
   "cell_type": "code",
   "execution_count": 3,
   "metadata": {},
   "outputs": [
    {
     "name": "stdout",
     "output_type": "stream",
     "text": [
      "1 2 1 2 1 2\n",
      "1\n"
     ]
    }
   ],
   "source": [
    "def maxfreq(arr):\n",
    "    d={}\n",
    "    for n in arr:\n",
    "        d[n] = d.get(n,0) + 1\n",
    "    ans = arr[0]      #Here we do that stuff because we have to be make sure that the element which come first with high \n",
    "    for num in arr:   #frequency is printed first if there are two element have same frequency .\n",
    "        if d[num] > d[ans]:\n",
    "            ans = num\n",
    "    return ans        \n",
    "\n",
    "arr = [int(i) for i in input().split()]\n",
    "print(maxfreq(arr))"
   ]
  },
  {
   "cell_type": "code",
   "execution_count": 11,
   "metadata": {},
   "outputs": [
    {
     "name": "stdout",
     "output_type": "stream",
     "text": [
      "0 0 0 0 0\n",
      "10\n"
     ]
    }
   ],
   "source": [
    "def Pairsumto0(arr):\n",
    "    d={}\n",
    "    ans = 0\n",
    "    for num in arr:\n",
    "        if d.get(-num,0) == 0:\n",
    "            pass\n",
    "        else:\n",
    "            ans  = ans + d.get(-num)        \n",
    "        d[num] = d.get(num,0) + 1\n",
    "            \n",
    "    return ans\n",
    "\n",
    "arr = [int(i) for i in input().split()]\n",
    "print(Pairsumto0(arr))"
   ]
  },
  {
   "cell_type": "code",
   "execution_count": 15,
   "metadata": {},
   "outputs": [
    {
     "data": {
      "text/plain": [
       "{'a': 2}"
      ]
     },
     "execution_count": 15,
     "metadata": {},
     "output_type": "execute_result"
    }
   ],
   "source": [
    "d={'a' : 1 , 'a' : 2}\n",
    "d"
   ]
  }
 ],
 "metadata": {
  "kernelspec": {
   "display_name": "Python 3",
   "language": "python",
   "name": "python3"
  },
  "language_info": {
   "codemirror_mode": {
    "name": "ipython",
    "version": 3
   },
   "file_extension": ".py",
   "mimetype": "text/x-python",
   "name": "python",
   "nbconvert_exporter": "python",
   "pygments_lexer": "ipython3",
   "version": "3.9.0"
  }
 },
 "nbformat": 4,
 "nbformat_minor": 4
}
