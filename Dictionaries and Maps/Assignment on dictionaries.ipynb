{
 "cells": [
  {
   "cell_type": "code",
   "execution_count": 5,
   "metadata": {},
   "outputs": [
    {
     "name": "stdout",
     "output_type": "stream",
     "text": [
      "abcde\n",
      "abcde\n"
     ]
    }
   ],
   "source": [
    "def uniqueChar(s): \n",
    "    d={}\n",
    "    ans = ''\n",
    "    for i in s:\n",
    "        if d.get(i,0) == 0:\n",
    "            ans = ans + i\n",
    "            d[i] = 1\n",
    "    return ans\n",
    "s=input() \n",
    "print(uniqueChar(s))"
   ]
  },
  {
   "cell_type": "code",
   "execution_count": 45,
   "metadata": {},
   "outputs": [
    {
     "name": "stdout",
     "output_type": "stream",
     "text": [
      "9 1 8 6 3 4 2 7 10 15\n",
      "6 10 "
     ]
    }
   ],
   "source": [
    "def longestConsecutiveSubsequence(arr):\n",
    "    visitedelements = {}\n",
    "    elementtoindexmapping={}\n",
    "    startindex = -1\n",
    "    for num in arr:\n",
    "        visitedelements[num] = True\n",
    "    for i in arr:\n",
    "        elementtoindexmapping[i] = startindex + 1\n",
    "        startindex +=1\n",
    "    maxlen = 0\n",
    "    startans = visitedelements[arr[0]]\n",
    "    endans = visitedelements[arr[0]]   \n",
    "    for i in visitedelements:\n",
    "        if visitedelements[i] ==False:\n",
    "            pass\n",
    "        else:\n",
    "            visitedelements[i] = False\n",
    "            length = 1\n",
    "            end = i\n",
    "            start = i\n",
    "            temp = i\n",
    "            while temp + 1 in visitedelements:\n",
    "                length += 1\n",
    "                end = temp + 1\n",
    "                temp = temp + 1\n",
    "                visitedelements[temp] =False\n",
    "            else:\n",
    "                temp = i\n",
    "                while temp-1 in visitedelements:\n",
    "                    length += 1\n",
    "                    start = temp-1\n",
    "                    temp=temp-1\n",
    "                    visitedelements[temp] = False\n",
    "                    \n",
    "        if length > maxlen:\n",
    "            maxlen = length\n",
    "            startans = start\n",
    "            endans = end\n",
    "        if length >= maxlen:\n",
    "            if elementtoindexmapping[start] < elementtoindexmapping[startans]:\n",
    "                startans = start\n",
    "                endans = end\n",
    "            else:\n",
    "                pass\n",
    "    arr = [startans , endans]\n",
    "    return arr\n",
    "            \n",
    "arr = [int(i) for i in input().split()]\n",
    "ans = longestConsecutiveSubsequence(arr)\n",
    "for i in ans:\n",
    "    print(i,end=' ')"
   ]
  },
  {
   "cell_type": "code",
   "execution_count": 5,
   "metadata": {},
   "outputs": [
    {
     "name": "stdout",
     "output_type": "stream",
     "text": [
      "4 4 4 4\n",
      "0\n",
      "32\n"
     ]
    }
   ],
   "source": [
    "def printPairDiffK(arr, k):\n",
    "    d={}\n",
    "    count = 0\n",
    "    for num in arr:\n",
    "        if num+k in d:\n",
    "            count += d[num+k]\n",
    "        if k!=0 and num-k in d:\n",
    "            count +=d[num-k]\n",
    "        \n",
    "        if num in d:\n",
    "            d[num]+=1\n",
    "        else:\n",
    "            d[num] = 1\n",
    "    return count        \n",
    "            \n",
    "# Main\n",
    "n=int(input())\n",
    "l=list(int(i) for i in input().strip().split(' '))\n",
    "k=int(input())\n",
    "print(printPairDiffK(l, k))"
   ]
  },
  {
   "cell_type": "code",
   "execution_count": 10,
   "metadata": {},
   "outputs": [
    {
     "name": "stdout",
     "output_type": "stream",
     "text": [
      "2 -2 0 -2 2\n",
      "3\n"
     ]
    }
   ],
   "source": [
    "def subsetSum(arr):\n",
    "    d={}\n",
    "    maxlen = 0\n",
    "    prev = 0\n",
    "    index = -1\n",
    "    for i in arr:\n",
    "        nextn = i \n",
    "        if nextn + prev == 0:\n",
    "            length = index + 2\n",
    "            if length > maxlen:\n",
    "                maxlen =length\n",
    "                \n",
    "        if nextn + prev in d:\n",
    "            length = (index + 1) -d[nextn + prev]\n",
    "            if length > maxlen:\n",
    "                maxlen =length\n",
    "        else:\n",
    "            d[nextn + prev] = index + 1\n",
    "       \n",
    "        prev = prev + nextn\n",
    "        index = index + 1\n",
    "    return maxlen\n",
    "# Main\n",
    "n=int(input())\n",
    "l=list(int(i) for i in input().strip().split(' '))\n",
    "print(subsetSum(l))"
   ]
  }
 ],
 "metadata": {
  "kernelspec": {
   "display_name": "Python 3",
   "language": "python",
   "name": "python3"
  },
  "language_info": {
   "codemirror_mode": {
    "name": "ipython",
    "version": 3
   },
   "file_extension": ".py",
   "mimetype": "text/x-python",
   "name": "python",
   "nbconvert_exporter": "python",
   "pygments_lexer": "ipython3",
   "version": "3.9.0"
  }
 },
 "nbformat": 4,
 "nbformat_minor": 4
}
