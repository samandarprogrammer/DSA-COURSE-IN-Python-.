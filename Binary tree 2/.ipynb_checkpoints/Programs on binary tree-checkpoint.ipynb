{
 "cells": [
  {
   "cell_type": "markdown",
   "metadata": {},
   "source": [
    "The time complexity of binary tree is O(n) most of the times"
   ]
  },
  {
   "cell_type": "markdown",
   "metadata": {},
   "source": [
    "Program to delete the leaf nodes of a binary tree"
   ]
  },
  {
   "cell_type": "code",
   "execution_count": 3,
   "metadata": {},
   "outputs": [],
   "source": [
    "class binarytree:\n",
    "    def __init__(self,data):\n",
    "        self.data = data\n",
    "        self.left = None\n",
    "        self.right = None\n",
    "        \n",
    "        \n",
    "def printbinarytree(root):\n",
    "    if root is None:\n",
    "        return\n",
    "    print(root.data,end=':')\n",
    "    if root.left != None:\n",
    "        print('L',root.left.data,',',end='')\n",
    "    if root.right !=None:\n",
    "        print('R',root.right.data,end='')\n",
    "    print()\n",
    "    printbinarytree(root.left)\n",
    "    printbinarytree(root.right)\n",
    "    \n",
    "def printbinarytree_postorder(root):\n",
    "    if root is None:\n",
    "        return\n",
    "    printbinarytree_postorder(root.left)\n",
    "    printbinarytree_postorder(root.right)\n",
    "    print(root.data)\n",
    "    \n",
    "def taketreeinput():\n",
    "    rootdata = int(input())\n",
    "    if rootdata == -1:\n",
    "        return None\n",
    "    root = binarytree(rootdata)\n",
    "    leftsubtree = taketreeinput()\n",
    "    rightsubtree =  taketreeinput()\n",
    "    root.left = leftsubtree\n",
    "    root.right = rightsubtree\n",
    "    return root    "
   ]
  },
  {
   "cell_type": "code",
   "execution_count": 7,
   "metadata": {},
   "outputs": [],
   "source": [
    "def removeleafnodes(root):\n",
    "    if root is None:\n",
    "        return None\n",
    "    if root.left == None and root.right == None:\n",
    "        return None\n",
    "    root.left = removeleafnodes(root.left)\n",
    "    root.right = removeleafnodes(root.right)\n",
    "    return root"
   ]
  },
  {
   "cell_type": "markdown",
   "metadata": {},
   "source": [
    "Program to mirror the binary tree"
   ]
  },
  {
   "cell_type": "code",
   "execution_count": 30,
   "metadata": {},
   "outputs": [],
   "source": [
    "def mirrorBinaryTree(root) :\n",
    "    if root is None:\n",
    "        return None\n",
    "    \n",
    "    mirrorBinaryTree(root.left)\n",
    "    mirrorBinaryTree(root.right)\n",
    "    if root.left != None and root.right != None:  #swapping is done here.\n",
    "        root.left , root.right = root.right ,root.left \n",
    "    else:\n",
    "        return"
   ]
  },
  {
   "cell_type": "markdown",
   "metadata": {},
   "source": [
    "program to mirror binary tree with alternate way of swapping"
   ]
  },
  {
   "cell_type": "code",
   "execution_count": 34,
   "metadata": {},
   "outputs": [],
   "source": [
    "def mirrorBinaryTree1(root) :\n",
    "    if root is None:\n",
    "        return None\n",
    "    \n",
    "    mirrorBinaryTree1(root.left)\n",
    "    mirrorBinaryTree1(root.right)\n",
    "    \n",
    "    temp = root.left\n",
    "    root.left = root.right\n",
    "    root.right = temp"
   ]
  },
  {
   "cell_type": "raw",
   "metadata": {},
   "source": [
    "Program to check whether binary tree is balanced or not.\n",
    "->Balanced means for a root node the difference in height of left subtree and right subtree should be less than equal to 1.\n",
    "->Not balanced means for a root node the difference in height of left subtree and right subtree is greater than equal to 1."
   ]
  },
  {
   "cell_type": "code",
   "execution_count": 36,
   "metadata": {},
   "outputs": [],
   "source": [
    "def height(root):\n",
    "    if root is None:\n",
    "        return 0\n",
    "    return 1 + max(height(root.left) , height(root.right))"
   ]
  },
  {
   "cell_type": "code",
   "execution_count": 38,
   "metadata": {},
   "outputs": [],
   "source": [
    "def isbalanced(root): #Here the time complexity is O(n^2)\n",
    "    if root is None:\n",
    "        return True\n",
    "    lh = height(root.left)\n",
    "    rh = height(root.right)\n",
    "    if lh - rh >1 or rh-lh > 1:\n",
    "        return False\n",
    "    isleftbalanced = isbalanced(root.left)\n",
    "    isrightbalanced = isbalanced(root.right)\n",
    "    if isleftbalanced and isrightbalanced:\n",
    "        return True\n",
    "    else:\n",
    "        return False"
   ]
  },
  {
   "cell_type": "markdown",
   "metadata": {},
   "source": [
    "Alternate way to check that binary tree is balanced or not with time complexity of O(n)"
   ]
  },
  {
   "cell_type": "code",
   "execution_count": 50,
   "metadata": {},
   "outputs": [],
   "source": [
    "def getheightandisbalanced(root):\n",
    "    if root is None:\n",
    "        return 0,True\n",
    "    lh,isleftbalance = getheightandisbalanced(root.left)\n",
    "    rh,isrightbalance = getheightandisbalanced(root.right)\n",
    "    \n",
    "    h = 1 + max(lh,rh)\n",
    "    if lh -rh > 0 or rh-lh>0:\n",
    "        return h,False \n",
    "    if isleftbalance and isrightbalance:\n",
    "        return h,True\n",
    "    else:\n",
    "        return h,False"
   ]
  },
  {
   "cell_type": "markdown",
   "metadata": {},
   "source": [
    "Program to find diameter for a binary tree"
   ]
  },
  {
   "cell_type": "code",
   "execution_count": 58,
   "metadata": {},
   "outputs": [],
   "source": [
    "def diameterOfBinaryTree(root):\n",
    "    if root is None:\n",
    "        return 0,0\n",
    "    lh,ld = diameterOfBinaryTree(root.left)\n",
    "    rh,rd = diameterOfBinaryTree(root.right)\n",
    "    \n",
    "    h=1 + max(lh,rh)\n",
    "    return h,max(lh+rh,ld,rd) + 1"
   ]
  },
  {
   "cell_type": "code",
   "execution_count": 61,
   "metadata": {},
   "outputs": [
    {
     "name": "stdout",
     "output_type": "stream",
     "text": [
      "1\n",
      "2\n",
      "-1\n",
      "-1\n",
      "3\n",
      "-1\n",
      "-1\n",
      "1:L 2 ,R 3\n",
      "2:\n",
      "3:\n",
      "2\n"
     ]
    }
   ],
   "source": [
    "root = taketreeinput()\n",
    "printbinarytree(root)\n",
    "#root = removeleafnodes(root)\n",
    "#mirrorBinaryTree(root)\n",
    "#printbinarytree(root)\n",
    "#print(isbalanced(root))\n",
    "#print(getheightandisbalanced(root))\n",
    "print(diameterOfBinaryTree(root)[1])"
   ]
  },
  {
   "cell_type": "code",
   "execution_count": 63,
   "metadata": {},
   "outputs": [
    {
     "ename": "NameError",
     "evalue": "name 'pair' is not defined",
     "output_type": "error",
     "traceback": [
      "\u001b[1;31m--------------------------------------------------------------------------\u001b[0m",
      "\u001b[1;31mNameError\u001b[0m                                Traceback (most recent call last)",
      "\u001b[1;32m<ipython-input-63-2142cb343633>\u001b[0m in \u001b[0;36m<module>\u001b[1;34m\u001b[0m\n\u001b[1;32m----> 1\u001b[1;33m \u001b[0mpair\u001b[0m \u001b[1;33m=\u001b[0m \u001b[0mpair\u001b[0m\u001b[1;33m(\u001b[0m\u001b[1;36m0\u001b[0m\u001b[1;33m,\u001b[0m\u001b[1;36m1\u001b[0m\u001b[1;33m)\u001b[0m\u001b[1;33m\u001b[0m\u001b[1;33m\u001b[0m\u001b[0m\n\u001b[0m\u001b[0;32m      2\u001b[0m \u001b[0mprint\u001b[0m\u001b[1;33m(\u001b[0m\u001b[0mpair\u001b[0m\u001b[1;33m[\u001b[0m\u001b[1;36m0\u001b[0m\u001b[1;33m]\u001b[0m\u001b[1;33m)\u001b[0m\u001b[1;33m\u001b[0m\u001b[1;33m\u001b[0m\u001b[0m\n",
      "\u001b[1;31mNameError\u001b[0m: name 'pair' is not defined"
     ]
    }
   ],
   "source": []
  }
 ],
 "metadata": {
  "kernelspec": {
   "display_name": "Python 3",
   "language": "python",
   "name": "python3"
  },
  "language_info": {
   "codemirror_mode": {
    "name": "ipython",
    "version": 3
   },
   "file_extension": ".py",
   "mimetype": "text/x-python",
   "name": "python",
   "nbconvert_exporter": "python",
   "pygments_lexer": "ipython3",
   "version": "3.9.0"
  }
 },
 "nbformat": 4,
 "nbformat_minor": 4
}
