{
 "cells": [
  {
   "cell_type": "code",
   "execution_count": 4,
   "metadata": {},
   "outputs": [],
   "source": [
    "class binarytree:\n",
    "    def __init__(self,data):\n",
    "        self.data = data\n",
    "        self.left = None\n",
    "        self.right = None\n",
    "        \n",
    "def printbinarytree(root):\n",
    "    if root is None:\n",
    "        return\n",
    "    print(root.data,end=':')\n",
    "    if root.left != None:\n",
    "        print('L',root.left.data,',',end='')\n",
    "    if root.right !=None:\n",
    "        print('R',root.right.data,end='')\n",
    "    print()\n",
    "    printbinarytree(root.left)\n",
    "    printbinarytree(root.right)     \n",
    "    \n",
    "  \n",
    "def taketreeinput():\n",
    "    rootdata = int(input())\n",
    "    if rootdata == -1:\n",
    "        return None\n",
    "    root = binarytree(rootdata)\n",
    "    leftsubtree = taketreeinput()\n",
    "    rightsubtree =  taketreeinput()\n",
    "    root.left = leftsubtree\n",
    "    root.right = rightsubtree\n",
    "    return root    "
   ]
  },
  {
   "cell_type": "markdown",
   "metadata": {},
   "source": [
    "Program on insert duplicates on the left side of binary tree"
   ]
  },
  {
   "cell_type": "code",
   "execution_count": 5,
   "metadata": {},
   "outputs": [],
   "source": [
    "def insertduplicate(root):\n",
    "    if root is None:\n",
    "        return \n",
    "\n",
    "    insertduplicate(root.left)\n",
    "    insertduplicate(root.right)\n",
    "    \n",
    "    rootd = binarytree(root.data)\n",
    "    temp = root.left \n",
    "    root.left = rootd\n",
    "    rootd.left = temp \n",
    "    root = root.left    \n",
    "    return"
   ]
  },
  {
   "cell_type": "markdown",
   "metadata": {},
   "source": [
    "Programs to find Minimum and Maximum in the Binary Tree"
   ]
  },
  {
   "cell_type": "code",
   "execution_count": 6,
   "metadata": {},
   "outputs": [],
   "source": [
    "class Pair :\n",
    "\n",
    "    def __init__(self, minimum, maximum) :\n",
    "        self.minimum = minimum\n",
    "        self.maximum = maximum\n",
    "\n",
    "\n",
    "def getMinAndMax(root) :\n",
    "    if root is None:\n",
    "        return Pair(999,-999)\n",
    "    \n",
    "    leftpair =getMinAndMax(root.left)\n",
    "    rightpair = getMinAndMax(root.right)\n",
    "    \n",
    "    minimum = min(root.data , leftpair.minimum , rightpair.minimum)\n",
    "    maximum = max(root.data , leftpair.maximum , rightpair.maximum)\n",
    "    return Pair(minimum,maximum)"
   ]
  },
  {
   "cell_type": "markdown",
   "metadata": {},
   "source": [
    "Program to print Binary tree in levelwise way with a new line after every level"
   ]
  },
  {
   "cell_type": "code",
   "execution_count": 7,
   "metadata": {},
   "outputs": [],
   "source": [
    "import queue\n",
    "def printlevelwisewithspace(root):\n",
    "    if root is None:\n",
    "        return None\n",
    "    \n",
    "    q = queue.Queue()\n",
    "    q.put(root)\n",
    "    q.put(None)\n",
    "    while not q.empty():\n",
    "        curr_data = q.get()\n",
    "        if curr_data is not None:\n",
    "            print(curr_data.data,end=' ')\n",
    "            if curr_data.left is not None and curr_data.right is not None:\n",
    "                q.put(curr_data.left)\n",
    "                q.put(curr_data.right)\n",
    "            elif curr_data.left is None and curr_data.right is not None:\n",
    "                q.put(curr_data.right)\n",
    "            elif curr_data.left is not None and curr_data.right is None:\n",
    "                q.put(curr_data.left)\n",
    "            else:\n",
    "                pass\n",
    "        else:    \n",
    "            print()\n",
    "            if q.empty():\n",
    "                break\n",
    "            q.put(None)"
   ]
  },
  {
   "cell_type": "markdown",
   "metadata": {},
   "source": [
    "Path Sum Root to Leaf\n"
   ]
  },
  {
   "cell_type": "code",
   "execution_count": 33,
   "metadata": {},
   "outputs": [],
   "source": [
    "def printtrackforsumtok(root,st,k):\n",
    "    if root is None:\n",
    "        return \n",
    "        \n",
    "    if k==0:\n",
    "        if root.left is None and root.right is None:\n",
    "            print(st + str(root.data))\n",
    "            return\n",
    "        \n",
    "    st = st + str(root.data) +' '\n",
    "    k = k - root.data        \n",
    "    \n",
    "    printtrackforsumtok(root.left,st,k)\n",
    "    printtrackforsumtok(root.right,st,k)\n"
   ]
  },
  {
   "cell_type": "markdown",
   "metadata": {},
   "source": [
    "Print nodes at distance k from node"
   ]
  },
  {
   "cell_type": "code",
   "execution_count": 90,
   "metadata": {},
   "outputs": [],
   "source": [
    "def printatdepthk(root,k):\n",
    "    if root is None:\n",
    "        return\n",
    "    if k==0:\n",
    "        print(root.data)\n",
    "        return\n",
    "    \n",
    "    printatdepthk(root.left , k-1)Print nodes at distance k from node\n",
    "\n",
    "    printatdepthk(root.right , k-1)\n",
    "    \n",
    "def Printnodeatk(root,tar,k):\n",
    "    if root is None:\n",
    "        return -1\n",
    "    if root.data == tar:\n",
    "        printatdepthk(root,k)\n",
    "        return 0\n",
    "    \n",
    "    ld = Printnodeatk(root.left ,tar,k)\n",
    "    if ld != -1:\n",
    "        if ld+1==k:\n",
    "            print(root.data)\n",
    "        else:\n",
    "            Printnodeatk(root.right ,tar,k)\n",
    "        return ld +1  ## this is out of this else loop because eveytime we want to return it.\n",
    "        \n",
    "    rd = Printnodeatk(root.right ,tar,k)\n",
    "    if rd != -1:\n",
    "        if rd+1 == k:\n",
    "            print(root.data)\n",
    "        else:\n",
    "            printatdepthk(root.left , k-rd-2)             \n",
    "        return rd +1 \n",
    "    else:\n",
    "        return -1"
   ]
  },
  {
   "cell_type": "code",
   "execution_count": 91,
   "metadata": {
    "scrolled": false
   },
   "outputs": [
    {
     "name": "stdout",
     "output_type": "stream",
     "text": [
      "1\n",
      "2\n",
      "4\n",
      "-1\n",
      "-1\n",
      "5\n",
      "-1\n",
      "-1\n",
      "3\n",
      "6\n",
      "-1\n",
      "-1\n",
      "7\n",
      "-1\n",
      "-1\n",
      "1:L 2 ,R 3\n",
      "2:L 4 ,R 5\n",
      "4:\n",
      "5:\n",
      "3:L 6 ,R 7\n",
      "6:\n",
      "7:\n",
      "4\n",
      "5\n"
     ]
    },
    {
     "data": {
      "text/plain": [
       "1"
      ]
     },
     "execution_count": 91,
     "metadata": {},
     "output_type": "execute_result"
    }
   ],
   "source": [
    "root = taketreeinput()\n",
    "printbinarytree(root)\n",
    "# #insertduplicate(root)\n",
    "# pair = getMinAndMax(root)\n",
    "# print(pair.minimum,end=' ')\n",
    "# print(pair.maximum)\n",
    "#printtrackforsumtok(root,st,k)\n",
    "Printnodeatk(root,3,3)"
   ]
  }
 ],
 "metadata": {
  "kernelspec": {
   "display_name": "Python 3",
   "language": "python",
   "name": "python3"
  },
  "language_info": {
   "codemirror_mode": {
    "name": "ipython",
    "version": 3
   },
   "file_extension": ".py",
   "mimetype": "text/x-python",
   "name": "python",
   "nbconvert_exporter": "python",
   "pygments_lexer": "ipython3",
   "version": "3.9.0"
  }
 },
 "nbformat": 4,
 "nbformat_minor": 4
}
