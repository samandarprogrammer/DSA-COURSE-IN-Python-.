{
 "cells": [
  {
   "cell_type": "code",
   "execution_count": 1,
   "metadata": {},
   "outputs": [],
   "source": [
    "class binarytree:\n",
    "    def __init__(self,data):\n",
    "        self.data = data\n",
    "        self.left = None\n",
    "        self.right = None\n",
    "        \n",
    "def printbinarytree(root):\n",
    "    if root is None:\n",
    "        return\n",
    "    print(root.data,end=':')\n",
    "    if root.left != None:\n",
    "        print('L',root.left.data,',',end='')\n",
    "    if root.right !=None:\n",
    "        print('R',root.right.data,end='')\n",
    "    print()\n",
    "    printbinarytree(root.left)\n",
    "    printbinarytree(root.right)        "
   ]
  },
  {
   "cell_type": "markdown",
   "metadata": {},
   "source": [
    "Pogram we have a given postorder and inorder traversal array and by using that we create our unique tree."
   ]
  },
  {
   "cell_type": "code",
   "execution_count": 6,
   "metadata": {},
   "outputs": [],
   "source": [
    "def treefrominpost(ino,post):\n",
    "    if len(post) ==0:\n",
    "        return None\n",
    "    rootdata = post[-1]\n",
    "    root = binarytree(rootdata)\n",
    "    rootinoindex = -1\n",
    "    for i in range(0,len(ino)):\n",
    "        if ino[i] == rootdata:\n",
    "            rootinoindex = i\n",
    "            break\n",
    "            \n",
    "    if rootinoindex == -1:\n",
    "        return None\n",
    "    leftinorder = ino[0:rootinoindex]\n",
    "    rightinorder = ino[rootinoindex+1:]\n",
    "    \n",
    "    lenofleftsubtree = len(leftinorder)\n",
    "    leftpostorder = post[0:lenofleftsubtree]\n",
    "    rightpostorder = post[lenofleftsubtree:-1]\n",
    "    \n",
    "    leftchild = treefrominpost(leftinorder,leftpostorder)\n",
    "    rightchild = treefrominpost(rightinorder , rightpostorder)\n",
    "    \n",
    "    root.left = leftchild\n",
    "    root.right = rightchild\n",
    "    return root"
   ]
  },
  {
   "cell_type": "code",
   "execution_count": 8,
   "metadata": {},
   "outputs": [
    {
     "name": "stdout",
     "output_type": "stream",
     "text": [
      "5:L 6 ,R 10\n",
      "6:L 2 ,R 3\n",
      "2:\n",
      "3:R 9\n",
      "9:\n",
      "10:\n"
     ]
    }
   ],
   "source": [
    "ino=[2, 6, 3, 9, 5, 10 ]\n",
    "post = [2, 9, 3, 6, 10, 5 ]\n",
    "root = treefrominpost(ino,post)\n",
    "printbinarytree(root)"
   ]
  },
  {
   "cell_type": "code",
   "execution_count": 5,
   "metadata": {},
   "outputs": [
    {
     "data": {
      "text/plain": [
       "[5]"
      ]
     },
     "execution_count": 5,
     "metadata": {},
     "output_type": "execute_result"
    }
   ],
   "source": [
    "a=[4,5,2]\n",
    "a[1:-1]"
   ]
  }
 ],
 "metadata": {
  "kernelspec": {
   "display_name": "Python 3",
   "language": "python",
   "name": "python3"
  },
  "language_info": {
   "codemirror_mode": {
    "name": "ipython",
    "version": 3
   },
   "file_extension": ".py",
   "mimetype": "text/x-python",
   "name": "python",
   "nbconvert_exporter": "python",
   "pygments_lexer": "ipython3",
   "version": "3.9.0"
  }
 },
 "nbformat": 4,
 "nbformat_minor": 4
}
