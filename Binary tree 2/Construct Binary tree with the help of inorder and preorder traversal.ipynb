{
 "cells": [
  {
   "cell_type": "code",
   "execution_count": 1,
   "metadata": {},
   "outputs": [],
   "source": [
    "class binarytree:\n",
    "    def __init__(self,data):\n",
    "        self.data = data\n",
    "        self.left = None\n",
    "        self.right = None\n",
    "        \n",
    "def printbinarytree(root):\n",
    "    if root is None:\n",
    "        return\n",
    "    print(root.data,end=':')\n",
    "    if root.left != None:\n",
    "        print('L',root.left.data,',',end='')\n",
    "    if root.right !=None:\n",
    "        print('R',root.right.data,end='')\n",
    "    print()\n",
    "    printbinarytree(root.left)\n",
    "    printbinarytree(root.right)        "
   ]
  },
  {
   "cell_type": "markdown",
   "metadata": {},
   "source": [
    "Pogram we have a given preorder and inorder traversal array and by using that we create our unique tree."
   ]
  },
  {
   "cell_type": "code",
   "execution_count": 3,
   "metadata": {},
   "outputs": [],
   "source": [
    "def treefrominpre(pre,ino):\n",
    "    if len(pre) == 0:\n",
    "        return None\n",
    "    rootdata = pre[0]\n",
    "    root = binarytree(rootdata)\n",
    "    rootpreindex = -1\n",
    "    for i in range(0,len(ino)):\n",
    "        if ino[i] == rootdata:\n",
    "            rootpreindex = i\n",
    "            break\n",
    "     \n",
    "    if rootpreindex == -1:\n",
    "        return None\n",
    "    leftinorder = ino[0:rootpreindex]\n",
    "    rightinorder = ino[rootpreindex+1:]\n",
    "    \n",
    "    lenofleftsubtree = len(leftinorder)\n",
    "    leftpreorder = pre[1:lenofleftsubtree+1]\n",
    "    rightpreorder = pre[lenofleftsubtree+1:]\n",
    "    \n",
    "    leftchild = treefrominpre(leftpreorder,leftinorder)\n",
    "    rightchild = treefrominpre(rightpreorder , rightinorder)\n",
    "    \n",
    "    root.left = leftchild\n",
    "    root.right = rightchild\n",
    "    return root"
   ]
  },
  {
   "cell_type": "code",
   "execution_count": 4,
   "metadata": {},
   "outputs": [
    {
     "name": "stdout",
     "output_type": "stream",
     "text": [
      "1:L 2 ,R 3\n",
      "2:L 4 ,R 5\n",
      "4:\n",
      "5:\n",
      "3:L 6 ,R 7\n",
      "6:\n",
      "7:\n"
     ]
    }
   ],
   "source": [
    "pre=[1,2,4,5,3,6,7]\n",
    "ino = [4,2,5,1,6,3,7]\n",
    "root = treefrominpre(pre,ino)\n",
    "printbinarytree(root)"
   ]
  }
 ],
 "metadata": {
  "kernelspec": {
   "display_name": "Python 3",
   "language": "python",
   "name": "python3"
  },
  "language_info": {
   "codemirror_mode": {
    "name": "ipython",
    "version": 3
   },
   "file_extension": ".py",
   "mimetype": "text/x-python",
   "name": "python",
   "nbconvert_exporter": "python",
   "pygments_lexer": "ipython3",
   "version": "3.9.0"
  }
 },
 "nbformat": 4,
 "nbformat_minor": 4
}
