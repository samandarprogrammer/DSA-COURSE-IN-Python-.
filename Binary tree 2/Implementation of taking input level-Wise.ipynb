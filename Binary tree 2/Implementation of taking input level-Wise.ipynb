{
 "cells": [
  {
   "cell_type": "code",
   "execution_count": 1,
   "metadata": {},
   "outputs": [],
   "source": [
    "class binarytree:\n",
    "    def __init__(self,data):\n",
    "        self.data = data\n",
    "        self.left = None\n",
    "        self.right = None\n",
    "        \n",
    "        \n",
    "def printbinarytree(root):\n",
    "    if root is None:\n",
    "        return\n",
    "    print(root.data,end=':')\n",
    "    if root.left != None:\n",
    "        print('L',root.left.data,',',end='')\n",
    "    if root.right !=None:\n",
    "        print('R',root.right.data,end='')\n",
    "    print()\n",
    "    printbinarytree(root.left)\n",
    "    printbinarytree(root.right)\n",
    "    \n",
    "def printbinarytreelevelwisedetailed(root):\n",
    "    q = queue.Queue()\n",
    "    q.put(root)\n",
    "    while not q.empty():\n",
    "        curr_data = q.get()\n",
    "        print(curr_data.data,end=':L:')\n",
    "        if curr_data.left != None and curr_data.right != None:\n",
    "            print(curr_data.left.data,end=',R:')\n",
    "            print(curr_data.right.data)\n",
    "            q.put(curr_data.left)\n",
    "            q.put(curr_data.right)\n",
    "        elif curr_data.left is None and curr_data.right is not None:\n",
    "            print('-1',end=',R:')\n",
    "            print(curr_data.right.data)\n",
    "            q.put(curr_data.right)\n",
    "        elif curr_data.left is not None and curr_data.right is  None:\n",
    "            print(curr_data.left.data,end=',R:')\n",
    "            print('-1')            \n",
    "            q.put(curr_data.left)\n",
    "        else:\n",
    "            print('-1',end=',R:-1')  \n",
    "            print()\n",
    "def printbinarytreelevelwise(root):\n",
    "    q = queue.Queue()\n",
    "    q.put(root)\n",
    "    while not q.empty():\n",
    "        curr_data = q.get()\n",
    "        print(curr_data.data,end=' ')\n",
    "        if curr_data.left != None and curr_data.right != None:\n",
    "            q.put(curr_data.left)\n",
    "            q.put(curr_data.right)\n",
    "        elif curr_data.left is None and curr_data.right is not None:\n",
    "            q.put(curr_data.right)\n",
    "        elif curr_data.left is not None and curr_data.right is  None:\n",
    "            q.put(curr_data.left)\n",
    "        else:\n",
    "            pass        "
   ]
  },
  {
   "cell_type": "code",
   "execution_count": 2,
   "metadata": {},
   "outputs": [],
   "source": [
    "import queue\n",
    "def takeinputlevelwise():\n",
    "    q= queue.Queue()\n",
    "    print(\"Enter root node: \")\n",
    "    rootdata = int(input())\n",
    "    if rootdata == -1:\n",
    "        return None\n",
    "    root = binarytree(rootdata)\n",
    "    q.put(root)\n",
    "    while not q.empty():\n",
    "        curr_data = q.get()\n",
    "        print(\"Enter left child of \",curr_data.data)\n",
    "        leftchild = int(input())\n",
    "        if leftchild !=-1:\n",
    "            leftchildroot = binarytree(leftchild)\n",
    "            q.put(leftchildroot)\n",
    "            curr_data.left = leftchildroot\n",
    "            \n",
    "        print(\"Enter right child of \",curr_data.data)\n",
    "        rightchild = int(input())\n",
    "        if rightchild !=-1:\n",
    "            rightchildroot = binarytree(rightchild)\n",
    "            q.put(rightchildroot)\n",
    "            curr_data.right = rightchildroot \n",
    "    return root        "
   ]
  },
  {
   "cell_type": "code",
   "execution_count": 3,
   "metadata": {},
   "outputs": [
    {
     "name": "stdout",
     "output_type": "stream",
     "text": [
      "Enter root node: \n",
      "1\n",
      "Enter left child of  1\n",
      "2\n",
      "Enter right child of  1\n",
      "3\n",
      "Enter left child of  2\n",
      "-1\n",
      "Enter right child of  2\n",
      "-1\n",
      "Enter left child of  3\n",
      "-1\n",
      "Enter right child of  3\n",
      "-1\n",
      "1 2 3 "
     ]
    }
   ],
   "source": [
    "root = takeinputlevelwise()\n",
    "#printbinarytree(root)\n",
    "printbinarytreelevelwise(root)"
   ]
  }
 ],
 "metadata": {
  "kernelspec": {
   "display_name": "Python 3",
   "language": "python",
   "name": "python3"
  },
  "language_info": {
   "codemirror_mode": {
    "name": "ipython",
    "version": 3
   },
   "file_extension": ".py",
   "mimetype": "text/x-python",
   "name": "python",
   "nbconvert_exporter": "python",
   "pygments_lexer": "ipython3",
   "version": "3.9.0"
  }
 },
 "nbformat": 4,
 "nbformat_minor": 4
}
