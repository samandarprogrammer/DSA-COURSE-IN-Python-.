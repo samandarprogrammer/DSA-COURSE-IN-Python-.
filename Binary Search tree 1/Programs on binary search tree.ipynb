{
 "cells": [
  {
   "cell_type": "markdown",
   "metadata": {},
   "source": [
    "Program to search node in binary search tree"
   ]
  },
  {
   "cell_type": "code",
   "execution_count": null,
   "metadata": {},
   "outputs": [],
   "source": [
    "import queue\n",
    "class BinaryTreeNode:\n",
    "    def __init__(self, data):\n",
    "        self.data = data\n",
    "        self.left = None\n",
    "        self.right = None\n",
    "\n",
    "    #Solution\n",
    "def searchInBST(root, k):\n",
    "\n",
    "    if root is None:\n",
    "        return False\n",
    "    \n",
    "    if root.data == k:\n",
    "        return True\n",
    "    \n",
    "    if k > root.data:\n",
    "        return searchInBST(root.right , k)\n",
    "    \n",
    "    if k < root.data:\n",
    "        return searchInBST(root.left , k)\n",
    "\n",
    "def buildLevelTree(levelorder):\n",
    "    index = 0\n",
    "    length = len(levelorder)\n",
    "    if length<=0 or levelorder[0]==-1:\n",
    "        return None\n",
    "    root = BinaryTreeNode(levelorder[index])\n",
    "    index += 1\n",
    "    q = queue.Queue()\n",
    "    q.put(root)\n",
    "    while not q.empty():\n",
    "        currentNode = q.get()\n",
    "        leftChild = levelorder[index]\n",
    "        index += 1\n",
    "        if leftChild != -1:\n",
    "            leftNode = BinaryTreeNode(leftChild)\n",
    "            currentNode.left =leftNode\n",
    "            q.put(leftNode)\n",
    "        rightChild = levelorder[index]\n",
    "        index += 1\n",
    "        if rightChild != -1:\n",
    "            rightNode = BinaryTreeNode(rightChild)\n",
    "            currentNode.right =rightNode\n",
    "            q.put(rightNode)\n",
    "    return root\n",
    "\n",
    "# Main\n",
    "levelOrder = [int(i) for i in input().strip().split()]\n",
    "root = buildLevelTree(levelOrder)\n",
    "k=int(input())\n",
    "ans = searchInBST(root, k)\n",
    "if ans:\n",
    "    print(\"true\")\n",
    "else:\n",
    "    print(\"false\")"
   ]
  },
  {
   "cell_type": "markdown",
   "metadata": {},
   "source": [
    "Implemetation of taking Binary tree input in levelwise way"
   ]
  },
  {
   "cell_type": "code",
   "execution_count": 4,
   "metadata": {},
   "outputs": [],
   "source": [
    "import queue\n",
    "class binarytree:\n",
    "    def __init__(self, data):\n",
    "        self.data = data\n",
    "        self.left = None\n",
    "        self.right = None\n",
    "\n",
    "def takeinputlevelwise():\n",
    "    q= queue.Queue()\n",
    "    print(\"Enter root node: \")\n",
    "    rootdata = int(input())\n",
    "    if rootdata == -1:\n",
    "        return None\n",
    "    root = binarytree(rootdata)\n",
    "    q.put(root)\n",
    "    while not q.empty():\n",
    "        curr_data = q.get()\n",
    "        print(\"Enter left child of \",curr_data.data)\n",
    "        leftchild = int(input())\n",
    "        if leftchild !=-1:\n",
    "            leftchildroot = binarytree(leftchild)\n",
    "            q.put(leftchildroot)\n",
    "            curr_data.left = leftchildroot\n",
    "            \n",
    "        print(\"Enter right child of \",curr_data.data)\n",
    "        rightchild = int(input())\n",
    "        if rightchild !=-1:\n",
    "            rightchildroot = binarytree(rightchild)\n",
    "            q.put(rightchildroot)\n",
    "            curr_data.right = rightchildroot \n",
    "    return root        "
   ]
  },
  {
   "cell_type": "markdown",
   "metadata": {},
   "source": [
    "Program to print nodes between the range ok k1 and k2"
   ]
  },
  {
   "cell_type": "code",
   "execution_count": 5,
   "metadata": {},
   "outputs": [],
   "source": [
    "def elementsInRangeK1K2(root, k1, k2):\n",
    "    #############################\n",
    "    # PLEASE ADD YOUR CODE HERE #\n",
    "    #############################\n",
    "    if root is None:\n",
    "        return\n",
    "    if k1 > root.data:\n",
    "        elementsInRangeK1K2(root.right,k1,k2)   \n",
    "    elif k2 < root.data:\n",
    "        \n",
    "        elementsInRangeK1K2(root.left,k1,k2)\n",
    "    else:\n",
    "       \n",
    "        elementsInRangeK1K2(root.left,k1,k2)\n",
    "        print(root.data,end=' ')\n",
    "        elementsInRangeK1K2(root.right,k1,k2)"
   ]
  },
  {
   "cell_type": "markdown",
   "metadata": {},
   "source": [
    "Program to build a BST with the help of a sorted array"
   ]
  },
  {
   "cell_type": "code",
   "execution_count": null,
   "metadata": {},
   "outputs": [],
   "source": [
    "class BinaryTreeNode:\n",
    "    def __init__(self, data):\n",
    "        self.data = data\n",
    "        self.left = None\n",
    "        self.right = None\n",
    "    \n",
    "def printbinarytree(root):\n",
    "    if root is None:\n",
    "        return\n",
    "    print(root.data,end=':')\n",
    "    if root.left != None:\n",
    "        print('L',root.left.data,',',end='')\n",
    "    if root.right !=None:\n",
    "        print('R',root.right.data,end='')\n",
    "    print()\n",
    "    printbinarytree(root.left)\n",
    "    printbinarytree(root.right)    \n",
    "        \n",
    "def constructBST(lst):\n",
    "    if len(lst) == 0:\n",
    "        return None\n",
    "    if len(lst)%2==0:\n",
    "        mid = (len(lst)-1)//2\n",
    "        root = BinaryTreeNode(lst[mid])\n",
    "\n",
    "        leftsubtree = constructBST(lst[0:mid])\n",
    "        rightsubtree = constructBST(lst[mid+1:])\n",
    "\n",
    "        root.left = leftsubtree \n",
    "        root.right = rightsubtree\n",
    "        return root\n",
    "    else:\n",
    "        mid = (len(lst))//2\n",
    "        root = BinaryTreeNode(lst[mid])\n",
    "\n",
    "        leftsubtree = constructBST(lst[0:mid])\n",
    "        rightsubtree = constructBST(lst[mid+1:])\n",
    "\n",
    "        root.left = leftsubtree \n",
    "        root.right = rightsubtree\n",
    "        return root        \n",
    " \n",
    "lst =[int(i) for i in input().split()]\n",
    "root = constructBST(lst)\n",
    "printbinarytree(root)"
   ]
  },
  {
   "cell_type": "markdown",
   "metadata": {},
   "source": [
    "Program to check that a given binary tree is a Binary search tree\n"
   ]
  },
  {
   "cell_type": "code",
   "execution_count": 7,
   "metadata": {},
   "outputs": [],
   "source": [
    "def MinTree(root):\n",
    "    if root is None:\n",
    "        return 100000\n",
    "    \n",
    "    leftmin = MinTree(root.left)\n",
    "    rightmin = MinTree(root.right)\n",
    "    \n",
    "    return min(leftmin,rightmin,root.data)"
   ]
  },
  {
   "cell_type": "code",
   "execution_count": 8,
   "metadata": {},
   "outputs": [],
   "source": [
    "def MaxTree(root):\n",
    "    if root is None:\n",
    "        return -100000\n",
    "    \n",
    "    leftmax = MaxTree(root.left)\n",
    "    rightmax = MaxTree(root.right)\n",
    "    \n",
    "    return max(leftmax , rightmax , root.data )"
   ]
  },
  {
   "cell_type": "code",
   "execution_count": 9,
   "metadata": {},
   "outputs": [],
   "source": [
    "#In that approch i simply use a simple trick where we have to think about property of bst i.e the root node should be greater\n",
    "#than left subtree and the right subtree should be greater than the root node. For that am using above two functions where we\n",
    "#pass root node for left subtree and right subtree and getting maximum and  minimum value from there and then simply checking \n",
    "#the proprerty of BST. Here we only have a problem of timecomplexity which is O(n^2) for a worst BST.\n",
    "def ISBST(root):\n",
    "    if root is None:\n",
    "        return True\n",
    "    \n",
    "    leftmax = MaxTree(root.left)\n",
    "    rightmin = MinTree(root.right)\n",
    "    \n",
    "    if root.data > rightmin or root.data < leftmax:\n",
    "        return False\n",
    "    \n",
    "    isleftbst = ISBST(root.left)\n",
    "    isrightbst = ISBST(root.right)\n",
    "    return isleftbst and isrightbst"
   ]
  },
  {
   "cell_type": "code",
   "execution_count": 10,
   "metadata": {},
   "outputs": [],
   "source": [
    "#Here we do the same thing but we use some trick to reduce our time-complexity. In above function we figured out that for every\n",
    "#node we first call min and max function and after call on left and right subtree which makes our timecomplexity too high . TO \n",
    "#reduce that we return two things here which is max , min and recursion call on left and right subtree.\n",
    "def ISBST2(root):\n",
    "    if root is None:\n",
    "        return 100000,-10000,True\n",
    "    \n",
    "    leftmin , leftmax , isleftbst = ISBST2(root.left)\n",
    "    rightmin , rightmax , isrightbst = ISBST2(root.right)\n",
    "    \n",
    "    minimum = min(leftmin,rightmin,root.data)\n",
    "    maximum = max(leftmax , rightmax , root.data)\n",
    "    \n",
    "    istreebst = True\n",
    "    if root.data <= leftmax or root.data > rightmin:\n",
    "        istreebst = False\n",
    "        \n",
    "    if not(isleftbst)  or not(isrightbst):\n",
    "        istreebst = False\n",
    "        \n",
    "    return minimum , maximum , istreebst    "
   ]
  },
  {
   "cell_type": "code",
   "execution_count": 11,
   "metadata": {},
   "outputs": [],
   "source": [
    "#Now here we talk about different approch where we simply work with some constraints on every node here for root node the \n",
    "#constraints we have is the root element should be in the range of (-infinity(min) to + infinity(max))  and for the left \n",
    "#subtree we have constraint as (min to root.data-1) and for rightsubtree we have constraint as (root.data , max)\n",
    "\n",
    "def ISBST3(root, min_range , max_range):\n",
    "    if root is None:\n",
    "        return True\n",
    "    \n",
    "    if root.data <= min_range or root.data > max_range:\n",
    "        return False\n",
    "    \n",
    "    isleftbstunderconstraints = ISBST3(root.left , min_range , root.data-1)\n",
    "    isrightbstunderconstraints = ISBST3(root.right , root.data,max_range)\n",
    "    \n",
    "    return isleftbstunderconstraints and isrightbstunderconstraints"
   ]
  },
  {
   "cell_type": "code",
   "execution_count": 13,
   "metadata": {},
   "outputs": [
    {
     "name": "stdout",
     "output_type": "stream",
     "text": [
      "Enter root node: \n",
      "4\n",
      "Enter left child of  4\n",
      "2\n",
      "Enter right child of  4\n",
      "3\n",
      "Enter left child of  2\n",
      "1\n",
      "Enter right child of  2\n",
      "30\n",
      "Enter left child of  3\n",
      "6\n",
      "Enter right child of  3\n",
      "8\n",
      "Enter left child of  1\n",
      "-1\n",
      "Enter right child of  1\n",
      "-1\n",
      "Enter left child of  30\n",
      "-1\n",
      "Enter right child of  30\n",
      "-1\n",
      "Enter left child of  6\n",
      "-1\n",
      "Enter right child of  6\n",
      "-1\n",
      "Enter left child of  8\n",
      "-1\n",
      "Enter right child of  8\n",
      "-1\n",
      "4:L 2 ,R 3\n",
      "2:L 1 ,R 30\n",
      "1:\n",
      "30:\n",
      "3:L 6 ,R 8\n",
      "6:\n",
      "8:\n"
     ]
    },
    {
     "data": {
      "text/plain": [
       "False"
      ]
     },
     "execution_count": 13,
     "metadata": {},
     "output_type": "execute_result"
    }
   ],
   "source": [
    "root=takeinputlevelwise()\n",
    "printbinarytree(root)\n",
    "ISBST3(root,-10000,10000)"
   ]
  }
 ],
 "metadata": {
  "kernelspec": {
   "display_name": "Python 3",
   "language": "python",
   "name": "python3"
  },
  "language_info": {
   "codemirror_mode": {
    "name": "ipython",
    "version": 3
   },
   "file_extension": ".py",
   "mimetype": "text/x-python",
   "name": "python",
   "nbconvert_exporter": "python",
   "pygments_lexer": "ipython3",
   "version": "3.9.0"
  }
 },
 "nbformat": 4,
 "nbformat_minor": 4
}
