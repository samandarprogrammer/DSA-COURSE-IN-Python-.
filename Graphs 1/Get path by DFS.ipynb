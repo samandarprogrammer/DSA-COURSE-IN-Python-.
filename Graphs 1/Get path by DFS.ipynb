{
 "cells": [
  {
   "cell_type": "code",
   "execution_count": 1,
   "metadata": {},
   "outputs": [
    {
     "name": "stdout",
     "output_type": "stream",
     "text": [
      "4 4\n",
      "0 1\n",
      "0 3\n",
      "1 2\n",
      "2 3\n",
      "1 3\n",
      "3 0 1 "
     ]
    }
   ],
   "source": [
    "class Graph:\n",
    "    def __init__(self,nVertices):\n",
    "        self.nVertices = nVertices\n",
    "        self.AdjacenyMatrix = [[0 for i in range(self.nVertices)] for j in range(self.nVertices)]\n",
    "        \n",
    "    def addentry(self,v1,v2):\n",
    "        self.AdjacenyMatrix[v1][v2] = 1\n",
    "        self.AdjacenyMatrix[v2][v1] = 1\n",
    "        \n",
    "    def deleteentry(self,v1,v2):\n",
    "        if self.containedges(v1,v2) is False:\n",
    "            return\n",
    "        self.AdjacenyMatrix[v1][v2] = 0\n",
    "        self.AdjacenyMatrix[v2][v1] = 0\n",
    "        \n",
    "    def __dfsHelper(self,sv,visited):\n",
    "        \n",
    "        print(sv)\n",
    "        visited[sv] = True\n",
    "        for i in range(self.nVertices):\n",
    "            if self.AdjacenyMatrix[sv][i] > 0 and visited[i] == False:\n",
    "                self.__dfsHelper(i,visited)\n",
    "        \n",
    "    def dfs(self):\n",
    "        sv = 0\n",
    "        visited = [False for i in range(self.nVertices)]\n",
    "        for i in range(self.nVertices):\n",
    "            if visited[i] is False:\n",
    "                self.__dfsHelper(i,visited)\n",
    "        \n",
    "    def getpath(self,v1,v2,visited):\n",
    "        ans = None\n",
    "        if v1 == v2:\n",
    "            #visited[v2] = True\n",
    "            return [v1]    \n",
    "            \n",
    "    \n",
    "        \n",
    "        for i in range(self.nVertices):\n",
    "            if self.AdjacenyMatrix[v1][i] > 0 and visited[i] == False:\n",
    "                visited[v1] = True\n",
    "                ans = self.getpath(i,v2,visited)\n",
    "                if ans is not None:    \n",
    "                    ans.append(v1)\n",
    "                    return ans\n",
    "                    \n",
    "\n",
    "         \n",
    "    def containedges(self,v1,v2):\n",
    "        return True if self.AdjacenyMatrix[v1][v2] == 1 else  False\n",
    "        \n",
    "    def __str__(self):\n",
    "        return str(self.AdjacenyMatrix)\n",
    "   \n",
    "\n",
    "VE = [int(i) for i in input().split()]\n",
    "n = VE[0]\n",
    "visited = [False for i in range(n)]\n",
    "e = VE[1]\n",
    "g = Graph(n)\n",
    "while e > 0:\n",
    "    edges = [int(i) for i in input().split()]\n",
    "    g.addentry(edges[0],edges[1])\n",
    "    e = e - 1\n",
    "path = [int(i) for i in input().split()]\n",
    "ans = g.getpath(path[0],path[1],visited)\n",
    "if ans is None:\n",
    "    print()\n",
    "else:\n",
    "    for i in range(len(ans)):\n",
    "        print(ans[i],end=' ')"
   ]
  }
 ],
 "metadata": {
  "kernelspec": {
   "display_name": "Python 3",
   "language": "python",
   "name": "python3"
  },
  "language_info": {
   "codemirror_mode": {
    "name": "ipython",
    "version": 3
   },
   "file_extension": ".py",
   "mimetype": "text/x-python",
   "name": "python",
   "nbconvert_exporter": "python",
   "pygments_lexer": "ipython3",
   "version": "3.9.0"
  }
 },
 "nbformat": 4,
 "nbformat_minor": 4
}
