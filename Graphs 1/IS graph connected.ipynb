{
 "cells": [
  {
   "cell_type": "code",
   "execution_count": 15,
   "metadata": {},
   "outputs": [
    {
     "name": "stdout",
     "output_type": "stream",
     "text": [
      "5 3\n",
      "0 1\n",
      "0 2\n",
      "3 4\n",
      "false\n"
     ]
    }
   ],
   "source": [
    "import queue\n",
    "q = queue.Queue()\n",
    "class Graph:\n",
    "    def __init__(self,nVertices):\n",
    "        self.nVertices = nVertices\n",
    "        self.AdjacenyMatrix = [[0 for i in range(self.nVertices)] for j in range(self.nVertices)]\n",
    "        \n",
    "    def addentry(self,v1,v2):\n",
    "        self.AdjacenyMatrix[v1][v2] = 1\n",
    "        self.AdjacenyMatrix[v2][v1] = 1\n",
    "        \n",
    "    def deleteentry(self,v1,v2):\n",
    "        if self.containedges(v1,v2) is False:\n",
    "            return\n",
    "        self.AdjacenyMatrix[v1][v2] = 0\n",
    "        self.AdjacenyMatrix[v2][v1] = 0\n",
    "        \n",
    "    def __dfsHelper(self,sv,visited):\n",
    "        \n",
    "        print(sv)\n",
    "        visited[sv] = True\n",
    "        for i in range(self.nVertices):\n",
    "            if self.AdjacenyMatrix[sv][i] > 0 and visited[i] == False:\n",
    "                self.__dfsHelper(i,visited)\n",
    "        \n",
    "    def dfs(self):\n",
    "        sv = 0\n",
    "        visited = [False for i in range(self.nVertices)]\n",
    "        self.__dfsHelper(sv,visited)\n",
    "        \n",
    "    def __bfsHelper(self,sv,visited): \n",
    "        q.put(sv)\n",
    "        visited[sv] = True\n",
    "        while q.empty() is False:\n",
    "            vertex = q.get()\n",
    "            print(vertex,end=' ')\n",
    "            for i in range(self.nVertices):\n",
    "                if self.AdjacenyMatrix[vertex][i] > 0 and visited[i] == False:\n",
    "                    q.put(i)\n",
    "                    visited[i] = True\n",
    "    \n",
    "    def bfs(self):\n",
    "        sv = 0\n",
    "        visited = [False for i in range(self.nVertices)]\n",
    "        for i in range(self.nVertices):\n",
    "            if visited[i] is False:\n",
    "                self.__bfsHelper(i,visited)\n",
    "        \n",
    "    def __isconnectedHelper(self,sv,visited):\n",
    "        q.put(sv)\n",
    "        visited[sv] = True\n",
    "        while q.empty() is False:\n",
    "            vertex = q.get()\n",
    "            for i in range(self.nVertices):\n",
    "                if self.AdjacenyMatrix[vertex][i] > 0 and visited[i] == False:\n",
    "                    q.put(i)\n",
    "                    visited[i] = True\n",
    "        \n",
    "    def isconnected(self):\n",
    "        sv = 0\n",
    "        visited = [False for i in range(self.nVertices)]\n",
    "        self.__isconnectedHelper(sv,visited)\n",
    "        for i in visited:\n",
    "            if i == False:\n",
    "                return False    \n",
    "        return True\n",
    "        \n",
    "    def containedges(self,v1,v2):\n",
    "        return True if self.AdjacenyMatrix[v1][v2] == 1 else  False\n",
    "        \n",
    "    def __str__(self):\n",
    "        return str(self.AdjacenyMatrix)\n",
    "    \n",
    "    \n",
    "\n",
    "VE = [int(i) for i in input().split()]\n",
    "n = VE[0]\n",
    "e = VE[1]\n",
    "if e == 0 and n == 0:\n",
    "    print('true')\n",
    "else:    \n",
    "    g = Graph(n)\n",
    "    while e > 0:\n",
    "        edges = [int(i) for i in input().split()]\n",
    "        g.addentry(edges[0],edges[1])\n",
    "        e = e - 1\n",
    "\n",
    "    ans = g.isconnected()\n",
    "    if ans:\n",
    "        print(\"true\")\n",
    "    else:\n",
    "        print(\"false\")"
   ]
  },
  {
   "cell_type": "code",
   "execution_count": 2,
   "metadata": {},
   "outputs": [
    {
     "name": "stdout",
     "output_type": "stream",
     "text": [
      "1\n",
      "2\n",
      "3\n"
     ]
    }
   ],
   "source": [
    "ar =[1,2,3]\n",
    "for i in ar:\n",
    "    print(i)"
   ]
  }
 ],
 "metadata": {
  "kernelspec": {
   "display_name": "Python 3",
   "language": "python",
   "name": "python3"
  },
  "language_info": {
   "codemirror_mode": {
    "name": "ipython",
    "version": 3
   },
   "file_extension": ".py",
   "mimetype": "text/x-python",
   "name": "python",
   "nbconvert_exporter": "python",
   "pygments_lexer": "ipython3",
   "version": "3.9.0"
  }
 },
 "nbformat": 4,
 "nbformat_minor": 4
}
