{
 "cells": [
  {
   "cell_type": "code",
   "execution_count": 24,
   "metadata": {},
   "outputs": [
    {
     "name": "stdout",
     "output_type": "stream",
     "text": [
      "6\n",
      "1 2 3 4 5 6\n",
      "6 5 4 3 2 1 "
     ]
    }
   ],
   "source": [
    "def percolatedown(i,arr,n):\n",
    "    parentindex = i\n",
    "    childindex1 = 2*parentindex + 1\n",
    "    childindex2 = 2*parentindex + 2\n",
    "    while childindex1 < n:\n",
    "        minindex = parentindex\n",
    "        if arr[minindex] > arr[childindex1]:\n",
    "            minindex = childindex1\n",
    "        if childindex2 < n and arr[minindex] > arr[childindex2]:\n",
    "            minindex = childindex2\n",
    "            \n",
    "        if parentindex == minindex:\n",
    "            break\n",
    "        arr[parentindex] , arr[minindex] = arr[minindex],arr[parentindex]\n",
    "        parentindex=minindex\n",
    "        childindex1 = 2*parentindex + 1\n",
    "        childindex2 = 2*parentindex + 2      \n",
    "\n",
    "def builheap(arr,n):\n",
    "    for i in range((len(arr)//2) -1 , -1,-1):\n",
    "        percolatedown(i,arr,n)\n",
    " \n",
    "def removemin(arr,n):\n",
    "    for i in range(n-1,-1,-1):\n",
    "        arr[0],arr[i] = arr[i],arr[0]\n",
    "        percolatedown(0,arr,i)\n",
    "\n",
    "def heapSort(arr):\n",
    "    n = len(arr)\n",
    "    builheap(arr,n)\n",
    "    removemin(arr,n)\n",
    "    return\n",
    "\n",
    "n = input()\n",
    "arr = [int(ele) for ele in input().split()]\n",
    "heapSort(arr)\n",
    "for ele in arr:\n",
    "    print(ele,end=' ')"
   ]
  },
  {
   "cell_type": "code",
   "execution_count": 17,
   "metadata": {},
   "outputs": [
    {
     "name": "stdout",
     "output_type": "stream",
     "text": [
      "4\n",
      "3\n",
      "2\n",
      "1\n"
     ]
    }
   ],
   "source": []
  }
 ],
 "metadata": {
  "kernelspec": {
   "display_name": "Python 3",
   "language": "python",
   "name": "python3"
  },
  "language_info": {
   "codemirror_mode": {
    "name": "ipython",
    "version": 3
   },
   "file_extension": ".py",
   "mimetype": "text/x-python",
   "name": "python",
   "nbconvert_exporter": "python",
   "pygments_lexer": "ipython3",
   "version": "3.9.0"
  }
 },
 "nbformat": 4,
 "nbformat_minor": 4
}
