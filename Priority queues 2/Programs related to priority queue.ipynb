{
 "cells": [
  {
   "cell_type": "code",
   "execution_count": 17,
   "metadata": {},
   "outputs": [
    {
     "name": "stdout",
     "output_type": "stream",
     "text": [
      "[9, 7, 2, 5]\n",
      "[2, 5, 9, 7, 6, 4, 3, 1]\n",
      "[7, 6, 2, 5]\n"
     ]
    }
   ],
   "source": [
    "import heapq\n",
    "arr=[2,5,9,7,6,4,3,1]\n",
    "ans = arr[0:4]\n",
    "#k=4\n",
    "heapq._heapify_max(ans)\n",
    "print(ans)\n",
    "print(arr)\n",
    "ans[0]\n",
    "heapq._heapreplace_max(ans,6)\n",
    "print(ans)"
   ]
  },
  {
   "cell_type": "code",
   "execution_count": null,
   "metadata": {},
   "outputs": [],
   "source": [
    "def ksmallestelement(arr,k):\n",
    "    ans = arr[0:k]\n",
    "    heapq._heapify_max(ans)\n",
    "    for i in range(k,len(arr)):\n",
    "        if ans[0] > arr[i]:\n",
    "            heapq._heapreplace_max(ans,arr[i])\n",
    "        else:\n",
    "            pass\n",
    "    return ans\n",
    "\n",
    "k = int(input())\n",
    "arr = [int(i) for i in input().split()]\n",
    "ans = ksmallestelement(arr,k)\n",
    "ans.sort()\n",
    "print(*ans, sep=' ')"
   ]
  },
  {
   "cell_type": "code",
   "execution_count": 31,
   "metadata": {},
   "outputs": [
    {
     "name": "stdout",
     "output_type": "stream",
     "text": [
      "2\n",
      "9 4 8 7 11 3\n",
      "9 11\n"
     ]
    }
   ],
   "source": [
    "def klargestelement(arr,k):\n",
    "    ans = arr[0:k]\n",
    "    heapq.heapify(ans)\n",
    "    for i in range(k,len(arr)):\n",
    "        if ans[0] < arr[i]:\n",
    "            heapq.heapreplace(ans,arr[i])\n",
    "        else:\n",
    "            pass\n",
    "    return ans\n",
    "k = int(input())\n",
    "arr = [int(i) for i in input().split()]\n",
    "ans = klargestelement(arr,k)\n",
    "ans.sort()\n",
    "print(*ans, sep=' ')"
   ]
  },
  {
   "cell_type": "code",
   "execution_count": 23,
   "metadata": {},
   "outputs": [
    {
     "name": "stdout",
     "output_type": "stream",
     "text": [
      "8\n",
      "4 20 18 6 14 11 9 42\n",
      "false\n"
     ]
    }
   ],
   "source": [
    "def checkmaxheap(arr):\n",
    "    n = len(arr)\n",
    "    for i in range(0,n):\n",
    "        leftchild = (2*i) + 1\n",
    "        rightchild = (2*i) + 2\n",
    "        if leftchild < n and arr[i] < arr[leftchild]:\n",
    "            return False\n",
    "            break\n",
    "        if rightchild < n and arr[i] < arr[rightchild]:\n",
    "            return False\n",
    "            break\n",
    "            \n",
    "    return True\n",
    "n=int(input())\n",
    "lst=list(int(i) for i in input().strip().split(' '))\n",
    "print('true') if checkmaxheap(lst) else print('false')"
   ]
  },
  {
   "cell_type": "code",
   "execution_count": null,
   "metadata": {},
   "outputs": [],
   "source": [
    "import heapq\n",
    "def kthLargest(arr, k):\n",
    "    ans = arr[0:k]\n",
    "    heapq.heapify(ans)\n",
    "    for i in range(k,len(arr)):\n",
    "        if ans[0] < arr[i]:\n",
    "            heapq.heapreplace(ans,arr[i])\n",
    "        else:\n",
    "            pass\n",
    "    return ans[0]\n",
    "\n",
    "\n",
    "n=int(input())\n",
    "lst=list(int(i) for i in input().strip().split(' '))\n",
    "k=int(input())\n",
    "ans=kthLargest(lst, k)\n",
    "\n",
    "print(ans)"
   ]
  },
  {
   "cell_type": "code",
   "execution_count": 36,
   "metadata": {},
   "outputs": [
    {
     "name": "stdout",
     "output_type": "stream",
     "text": [
      "5\n",
      "3\n",
      "2 3 2 2 4\n",
      "4\n"
     ]
    }
   ],
   "source": [
    "from sys import stdin\n",
    "import sys\n",
    "import heapq as heap\n",
    "\n",
    "class LinkedListNode :\n",
    "    def __init__(self, data) :\n",
    "        self.data = data\n",
    "        self.next = None\n",
    "        \n",
    "class Queue :\n",
    "    def __init__(self) :\n",
    "        self.head = None \n",
    "        self.tail = None\n",
    "        self.size = 0\n",
    "        \n",
    "    def enqueue(self, data) :\n",
    "        newNode = LinkedListNode(data)\n",
    "        if self.head is None :\n",
    "            self.head = self.tail = newNode\n",
    "        else :\n",
    "            self.tail.next = newNode\n",
    "            self.tail = newNode\n",
    "        self.size += 1\n",
    "        return\n",
    "        \n",
    "    def dequeue(self) :\n",
    "        if self.head is None :\n",
    "            return None\n",
    "        data = self.head.data\n",
    "        self.head = self.head.next\n",
    "        self.size -= 1\n",
    "        return data\n",
    "    \n",
    "    def getSize(self) :\n",
    "        return self.size\n",
    "    \n",
    "    def isEmpty(self) :\n",
    "        if self.head is None :\n",
    "            return True\n",
    "        return False\n",
    "    \n",
    "    def peek(self) :\n",
    "        if self.head is None :\n",
    "            return None\n",
    "        return self.head.data\n",
    "    \n",
    "def buyTicket(arr, n, k) : \n",
    "    queue = Queue()\n",
    "    priorityqueue = []\n",
    "    time = 0\n",
    "    for i in range(0,n):\n",
    "        queue.enqueue(i)\n",
    "        \n",
    "    for i in range(0,n):\n",
    "        priorityqueue.append(arr[i])\n",
    "\n",
    "    heap._heapify_max(priorityqueue)\n",
    "    while True:\n",
    "        index = queue.dequeue()\n",
    "        if arr[index] >= priorityqueue[0]:\n",
    "            time = time + 1\n",
    "            heap._heappop_max(priorityqueue)\n",
    "            heap._heapify_max(priorityqueue)\n",
    "            if index == k:\n",
    "                return time\n",
    "        if arr[index] < priorityqueue[0]:\n",
    "            queue.enqueue(index)\n",
    "\n",
    "\n",
    "\n",
    "n=int(input())\n",
    "k = int(input())\n",
    "arr = [int(i) for i in input().split()]\n",
    "print(buyTicket(arr, n, k))"
   ]
  },
  {
   "cell_type": "code",
   "execution_count": 33,
   "metadata": {},
   "outputs": [
    {
     "data": {
      "text/plain": [
       "[1, 2]"
      ]
     },
     "execution_count": 33,
     "metadata": {},
     "output_type": "execute_result"
    }
   ],
   "source": [
    "arr=[]\n",
    "arr.append(1)\n",
    "arr.append(2)\n",
    "arr"
   ]
  }
 ],
 "metadata": {
  "kernelspec": {
   "display_name": "Python 3",
   "language": "python",
   "name": "python3"
  },
  "language_info": {
   "codemirror_mode": {
    "name": "ipython",
    "version": 3
   },
   "file_extension": ".py",
   "mimetype": "text/x-python",
   "name": "python",
   "nbconvert_exporter": "python",
   "pygments_lexer": "ipython3",
   "version": "3.9.0"
  }
 },
 "nbformat": 4,
 "nbformat_minor": 4
}
