{
 "cells": [
  {
   "cell_type": "code",
   "execution_count": 15,
   "metadata": {},
   "outputs": [
    {
     "name": "stdout",
     "output_type": "stream",
     "text": [
      "14\n",
      "3\n",
      "14\n",
      "13\n",
      "12\n",
      "Hey! Stack is empty\n",
      "0\n"
     ]
    }
   ],
   "source": [
    "class Stack:\n",
    "    def __init__(self):\n",
    "        self.__data = []\n",
    "        \n",
    "    def push(self,item):\n",
    "        self.__data.append(item)\n",
    "        \n",
    "    def pop(self):\n",
    "        if self.isempty():\n",
    "            print(\"Hey! Stack is empty\")\n",
    "            return\n",
    "        return self.__data.pop()    \n",
    "    def top(self):\n",
    "        if self.isempty():\n",
    "            print(\"Hey! Stack is empty\")\n",
    "            return\n",
    "        return self.__data[len(self.__data) - 1]\n",
    "        \n",
    "    def size(self):\n",
    "        return len(self.__data)\n",
    "    def isempty(self):    \n",
    "        return self.size()==0\n",
    "         \n",
    "s=Stack()        \n",
    "s.push(12)\n",
    "s.push(13)\n",
    "s.push(14)\n",
    "print(s.top())\n",
    "print(s.size())\n",
    "while s.isempty() is False:\n",
    "    print(s.pop())\n",
    "s.top()\n",
    "print(s.size())"
   ]
  }
 ],
 "metadata": {
  "kernelspec": {
   "display_name": "Python 3",
   "language": "python",
   "name": "python3"
  },
  "language_info": {
   "codemirror_mode": {
    "name": "ipython",
    "version": 3
   },
   "file_extension": ".py",
   "mimetype": "text/x-python",
   "name": "python",
   "nbconvert_exporter": "python",
   "pygments_lexer": "ipython3",
   "version": "3.9.0"
  }
 },
 "nbformat": 4,
 "nbformat_minor": 4
}
