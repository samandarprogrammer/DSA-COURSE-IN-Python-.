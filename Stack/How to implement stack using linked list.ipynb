{
 "cells": [
  {
   "cell_type": "code",
   "execution_count": 21,
   "metadata": {},
   "outputs": [
    {
     "data": {
      "text/plain": [
       "3"
      ]
     },
     "execution_count": 21,
     "metadata": {},
     "output_type": "execute_result"
    }
   ],
   "source": [
    "class Node:\n",
    "    def __init__(self,data):\n",
    "        self.data = data\n",
    "        self.next=None\n",
    " \n",
    "\n",
    "class Stack:\n",
    "    def __init__(self):   #when we do call that class at once the constructor in init function is changed and for next call \n",
    "        self.__head = None  #we use that change constuctor values\n",
    "        self.__count = 0\n",
    "    \n",
    "    def push(self,item):\n",
    "        newnode = Node(item)\n",
    "        newnode.next = self.__head\n",
    "        self.__head = newnode\n",
    "        self.__count = self.__count + 1\n",
    "        \n",
    "    def pop(self):\n",
    "        self.__count = self.__count - 1\n",
    "        ele = self.__head.data\n",
    "        self.__head = self.__head.next\n",
    "        return ele\n",
    "    def top(self):\n",
    "        if self.size() == 0:\n",
    "            print(\"Hey ! Stack is empty\")\n",
    "            return\n",
    "        return self.__head.data\n",
    "    \n",
    "    def size(self):\n",
    "        return self.__count\n",
    "    \n",
    "    def isempty(self):\n",
    "        return self.size()==0\n",
    "        \n",
    "s=Stack()       \n",
    "s.push(1)\n",
    "s.push(2)\n",
    "s.push(3)\n",
    "s.top()"
   ]
  }
 ],
 "metadata": {
  "kernelspec": {
   "display_name": "Python 3",
   "language": "python",
   "name": "python3"
  },
  "language_info": {
   "codemirror_mode": {
    "name": "ipython",
    "version": 3
   },
   "file_extension": ".py",
   "mimetype": "text/x-python",
   "name": "python",
   "nbconvert_exporter": "python",
   "pygments_lexer": "ipython3",
   "version": "3.9.0"
  }
 },
 "nbformat": 4,
 "nbformat_minor": 4
}
