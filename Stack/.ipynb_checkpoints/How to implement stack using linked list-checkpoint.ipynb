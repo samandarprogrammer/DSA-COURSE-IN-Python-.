{
 "cells": [
  {
   "cell_type": "code",
   "execution_count": 9,
   "metadata": {},
   "outputs": [
    {
     "name": "stdout",
     "output_type": "stream",
     "text": [
      "3\n",
      "2\n",
      "1\n"
     ]
    }
   ],
   "source": [
    "class Node:\n",
    "    def __init__(self,data):\n",
    "        self.data = data\n",
    "        self.next=None\n",
    " \n",
    "\n",
    "class Stack:\n",
    "    def __init__(self):\n",
    "        self.__head = None\n",
    "        self.__count = 0\n",
    "    \n",
    "    def push(self,item):\n",
    "        newnode = Node(item)\n",
    "        newnode.next = self.__head\n",
    "        self.__head = newnode\n",
    "        self.__count = self.__count + 1\n",
    "        \n",
    "    def pop(self):\n",
    "        self.__count = self.__count - 1\n",
    "        ele = self.__head.data\n",
    "        self.__head = self.__head.next\n",
    "        return ele\n",
    "    def top(self):\n",
    "        if self.size() == 0:\n",
    "            print(\"Hey ! Stack is empty\")\n",
    "            return\n",
    "        return self.__head\n",
    "    \n",
    "    def size(self):\n",
    "        return self.__count\n",
    "    \n",
    "    def isempty(self):\n",
    "        return self.size()==0\n",
    "        \n",
    "s=Stack()       \n",
    "s.push(1)\n",
    "s.push(2)\n",
    "s.push(3)\n",
    "while s.\n",
    "print(s.pop())\n",
    "print(s.pop())\n",
    "print(s.pop())"
   ]
  }
 ],
 "metadata": {
  "kernelspec": {
   "display_name": "Python 3",
   "language": "python",
   "name": "python3"
  },
  "language_info": {
   "codemirror_mode": {
    "name": "ipython",
    "version": 3
   },
   "file_extension": ".py",
   "mimetype": "text/x-python",
   "name": "python",
   "nbconvert_exporter": "python",
   "pygments_lexer": "ipython3",
   "version": "3.9.0"
  }
 },
 "nbformat": 4,
 "nbformat_minor": 4
}
