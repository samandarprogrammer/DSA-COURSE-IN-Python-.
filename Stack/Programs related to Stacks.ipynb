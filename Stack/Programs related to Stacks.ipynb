{
 "cells": [
  {
   "cell_type": "markdown",
   "metadata": {},
   "source": [
    "Program for paranthesization balance"
   ]
  },
  {
   "cell_type": "code",
   "execution_count": 17,
   "metadata": {},
   "outputs": [
    {
     "name": "stdout",
     "output_type": "stream",
     "text": [
      "()()(()\n",
      "false\n"
     ]
    }
   ],
   "source": [
    "def isBalanced(expression) :\n",
    "    st =[]\n",
    "    for i in expression:\n",
    "        if i =='(':\n",
    "            st.append(i)\n",
    "        elif i == ')':\n",
    "            if len(st)==0:\n",
    "                return False            \n",
    "            if st[-1] == '(':\n",
    "                st.pop()                \n",
    "            else:\n",
    "                return False\n",
    "        else:\n",
    "            pass\n",
    "    if len(st) == 0:\n",
    "        return True\n",
    "    else:\n",
    "        return False\n",
    "\n",
    "\n",
    "\n",
    "expression=input()\n",
    "ans = isBalanced(expression)\n",
    "if ans: \n",
    "    print(\"true\")\n",
    "else:\n",
    "    print(\"false\")"
   ]
  },
  {
   "cell_type": "code",
   "execution_count": 26,
   "metadata": {},
   "outputs": [
    {
     "name": "stdout",
     "output_type": "stream",
     "text": [
      "1\n",
      "2\n",
      "3\n",
      "4\n"
     ]
    }
   ],
   "source": [
    "def reverseStack(inputStack, extraStack) :\n",
    "    n=len(inputStack)\n",
    "    if n == 1:\n",
    "        return inputStack\n",
    "    for i in range(n-1,0,-1):\n",
    "        extraStack.append(inputStack.pop())\n",
    "\n",
    "    ele = inputStack.pop()\n",
    "    for j in range(0,len(extraStack)):\n",
    "        inputStack.append(extraStack.pop())        \n",
    "\n",
    "    inputStack = reverseStack(inputStack,extraStack)\n",
    "    inputStack.append(ele)    \n",
    "    return inputStack\n",
    "\n",
    "\n",
    "inputStack=[1,2,3,4]\n",
    "extraStack=[]\n",
    "ans = reverseStack(inputStack,extraStack)\n",
    "while len(ans)!=0:\n",
    "    print(ans.pop())"
   ]
  },
  {
   "cell_type": "code",
   "execution_count": 32,
   "metadata": {},
   "outputs": [
    {
     "name": "stdout",
     "output_type": "stream",
     "text": [
      "((a+b))\n",
      "true\n"
     ]
    }
   ],
   "source": [
    "def checkRedundantBrackets(expression) :\n",
    "    st=[]\n",
    "    c=0\n",
    "    for i in expression:\n",
    "        if i==')':\n",
    "            while st.pop()!='(':\n",
    "                c=c+1\n",
    "            if c==1:\n",
    "                return True\n",
    "            if c !=0:\n",
    "                c=0\n",
    "                pass\n",
    "            else:\n",
    "                return True        \n",
    "        else:\n",
    "            st.append(i)\n",
    "    return False                \n",
    "\n",
    "expression=input()    \n",
    "ans = checkRedundantBrackets(expression)\n",
    "if ans:\n",
    "    print(\"true\")\n",
    "else:\n",
    "    print(\"false\")     "
   ]
  },
  {
   "cell_type": "code",
   "execution_count": 7,
   "metadata": {},
   "outputs": [
    {
     "name": "stdout",
     "output_type": "stream",
     "text": [
      "8\n",
      "[1, 2, 3, 4, 1, 1, 2, 8]\n"
     ]
    }
   ],
   "source": [
    "def stockSpan(price, n) :\n",
    "    op=[]\n",
    "    st=[]\n",
    "    i=0\n",
    "    while i<n:\n",
    "        if len(st) ==0:\n",
    "            op.append(i+1)\n",
    "            st.append(i)\n",
    "            i=i+1\n",
    "        elif price[i] > price[st[-1]]:\n",
    "            st.pop()\n",
    "        else:\n",
    "            op.append(i-st[-1])\n",
    "            st.append(i)\n",
    "            i=i+1\n",
    "    return op\n",
    "\n",
    "price=[60 ,70 ,80,100, 90, 75, 80 ,120]\n",
    "n=int(input())\n",
    "op=stockSpan(price,n)\n",
    "print(op)"
   ]
  },
  {
   "cell_type": "code",
   "execution_count": 24,
   "metadata": {},
   "outputs": [
    {
     "name": "stdout",
     "output_type": "stream",
     "text": [
      "{{\n",
      "1\n"
     ]
    }
   ],
   "source": [
    "def countBracketReversals(inputString) :\n",
    "    st=[]\n",
    "    count = 0\n",
    "    if len(inputString) %2 != 0:\n",
    "        return -1\n",
    "    else:\n",
    "        for i in inputString:\n",
    "            if i ==\"{\":\n",
    "                st.append(i)\n",
    "            else:\n",
    "                if len(st) == 0:\n",
    "                    st.append(i)\n",
    "                elif len(st) !=0 and st[-1] ==\"{\":\n",
    "                    st.pop()           \n",
    "                else:\n",
    "                    st.append(i)\n",
    "        while len(st) != 0:\n",
    "            c1 = st.pop()\n",
    "            c2 = st.pop() \n",
    "            if c1 == c2:\n",
    "                count = count + 1\n",
    "            else:\n",
    "                count = count + 2   \n",
    "              \n",
    "        return count     \n",
    "inputString= input()       \n",
    "ans = countBracketReversals(inputString)\n",
    "print(ans)"
   ]
  }
 ],
 "metadata": {
  "kernelspec": {
   "display_name": "Python 3",
   "language": "python",
   "name": "python3"
  },
  "language_info": {
   "codemirror_mode": {
    "name": "ipython",
    "version": 3
   },
   "file_extension": ".py",
   "mimetype": "text/x-python",
   "name": "python",
   "nbconvert_exporter": "python",
   "pygments_lexer": "ipython3",
   "version": "3.9.0"
  }
 },
 "nbformat": 4,
 "nbformat_minor": 4
}
