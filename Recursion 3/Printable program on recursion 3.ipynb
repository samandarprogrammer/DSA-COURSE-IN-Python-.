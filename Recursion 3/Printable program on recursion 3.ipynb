{
 "cells": [
  {
   "cell_type": "code",
   "execution_count": 3,
   "metadata": {},
   "outputs": [
    {
     "name": "stdout",
     "output_type": "stream",
     "text": [
      "5\n",
      "120\n"
     ]
    }
   ],
   "source": [
    "def printfactorial(n,ans):\n",
    "    if n == 0:\n",
    "        print(ans)\n",
    "        return\n",
    "    \n",
    "    ans = ans * n\n",
    "    printfactorial(n-1,ans)\n",
    "    \n",
    "n = int(input())    \n",
    "printfactorial(n,1)"
   ]
  },
  {
   "cell_type": "code",
   "execution_count": 4,
   "metadata": {},
   "outputs": [
    {
     "name": "stdout",
     "output_type": "stream",
     "text": [
      "2 4 3 5 6 -7 -77 \n",
      "-77\n"
     ]
    }
   ],
   "source": [
    "def printminofarray(arr,minans):\n",
    "    if len(arr) == 0:\n",
    "        print(minans)\n",
    "        return\n",
    "    \n",
    "    newmin = min(minans , arr[0])\n",
    "    printminofarray(arr[1:],newmin)\n",
    "\n",
    "    \n",
    "arr = [int(i) for i in input().split()]\n",
    "minans = 999999\n",
    "printminofarray(arr,minans)"
   ]
  },
  {
   "cell_type": "code",
   "execution_count": 7,
   "metadata": {},
   "outputs": [
    {
     "name": "stdout",
     "output_type": "stream",
     "text": [
      "abc\n",
      "\n",
      "c\n",
      "b\n",
      "bc\n",
      "a\n",
      "ac\n",
      "ab\n",
      "abc\n"
     ]
    }
   ],
   "source": [
    "def printsubsequences(string,output):\n",
    "    if len(string) == 0:\n",
    "        print(output)\n",
    "        return\n",
    "    \n",
    "    newoutput = output + string[0]\n",
    "    printsubsequences(string[1:],output)\n",
    "    printsubsequences(string[1:],newoutput)\n",
    "    \n",
    "    \n",
    "string = input()    \n",
    "printsubsequences(string,'')"
   ]
  },
  {
   "cell_type": "code",
   "execution_count": 11,
   "metadata": {},
   "outputs": [
    {
     "name": "stdout",
     "output_type": "stream",
     "text": [
      "23\n",
      "ad\n",
      "bd\n",
      "cd\n",
      "ae\n",
      "be\n",
      "ce\n",
      "af\n",
      "bf\n",
      "cf\n"
     ]
    }
   ],
   "source": [
    "def get_string(n):\n",
    "    if n==2:\n",
    "        return 'abc'\n",
    "    if n==3:\n",
    "        return 'def'\n",
    "    if n==4:\n",
    "        return 'ghi'    \n",
    "    if n==5:\n",
    "        return 'jkl'    \n",
    "    if n==6:\n",
    "        return 'mno'\n",
    "    if n==7:\n",
    "        return 'pqrs'\n",
    "    if n==8:\n",
    "        return 'tuv'\n",
    "    if n==9:\n",
    "        return 'wxyz'\n",
    "    \n",
    "    \n",
    "def printkeypadcomb(n,output):\n",
    "    if n ==  0:\n",
    "        print(output)\n",
    "        return\n",
    "    \n",
    "    stringforop = get_string(n%10)\n",
    "    small_input = n//10\n",
    "    for st in stringforop:\n",
    "        printkeypadcomb(small_input ,st+output)\n",
    "        \n",
    "        \n",
    "n = int(input())        \n",
    "output = ''\n",
    "printkeypadcomb(n,output)"
   ]
  }
 ],
 "metadata": {
  "kernelspec": {
   "display_name": "Python 3",
   "language": "python",
   "name": "python3"
  },
  "language_info": {
   "codemirror_mode": {
    "name": "ipython",
    "version": 3
   },
   "file_extension": ".py",
   "mimetype": "text/x-python",
   "name": "python",
   "nbconvert_exporter": "python",
   "pygments_lexer": "ipython3",
   "version": "3.9.0"
  }
 },
 "nbformat": 4,
 "nbformat_minor": 4
}
