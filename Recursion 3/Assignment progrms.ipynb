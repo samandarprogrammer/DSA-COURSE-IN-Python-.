{
 "cells": [
  {
   "cell_type": "code",
   "execution_count": 48,
   "metadata": {},
   "outputs": [
    {
     "name": "stdout",
     "output_type": "stream",
     "text": [
      "2 1 3 2\n",
      "4\n",
      "1 3 \n",
      "2 2 \n"
     ]
    }
   ],
   "source": [
    "def subset_to_k(arr,k,si):\n",
    "    if si == len(arr):\n",
    "        if k == 0:\n",
    "            return [[]]\n",
    "        else:\n",
    "            return []\n",
    "    op1 = subset_to_k(arr,k,si+1)\n",
    "    op2 = subset_to_k(arr,k-arr[si],si+1)\n",
    "    \n",
    "    output = (len(op1) + len(op2))*[0]\n",
    "    index = 0\n",
    "    for i in range(len(op1)):\n",
    "        output[index] = op1[i]\n",
    "        index += 1\n",
    "    \n",
    "    for i in range(len(op2)):\n",
    "        output[index] = (len(op2[i]) + 1) * [0]\n",
    "        output[index][0] = arr[si]\n",
    "        \n",
    "        for j in range(len(op2[i])):\n",
    "            output[index][j+1] = op2[i][j]\n",
    "        index +=1\n",
    "    return  output   \n",
    "    \n",
    "arr = [int(i) for i in input().split()]\n",
    "k = int(input())\n",
    "ans = subset_to_k(arr,k,0)\n",
    "for lis in ans:\n",
    "    for ele in lis:\n",
    "        print(ele,end= ' ')\n",
    "    print()    "
   ]
  },
  {
   "cell_type": "code",
   "execution_count": 10,
   "metadata": {},
   "outputs": [
    {
     "name": "stdout",
     "output_type": "stream",
     "text": [
      "15 20 12\n",
      "\n",
      "12 \n",
      "20 \n",
      "20 12 \n",
      "15 \n",
      "15 12 \n",
      "15 20 \n",
      "15 20 12 \n"
     ]
    }
   ],
   "source": [
    "def subset_of_array(arr):\n",
    "    if len(arr) == 0:\n",
    "        return [[]]\n",
    "    \n",
    "    small_output = subset_of_array(arr[1:])\n",
    "    \n",
    "    output =( 2 * len(small_output) ) * [0]\n",
    "    \n",
    "    index = 0\n",
    "    for i in range(len(small_output)):\n",
    "        output[index] = small_output[i]\n",
    "        index +=1\n",
    "     \n",
    "    for i in range(len(small_output)):\n",
    "        output[index] = (len(small_output[i]) + 1) * [0]\n",
    "        output[index][0] = arr[0]\n",
    "        for j in range(len(small_output[i])):\n",
    "            output[index][j+1] = small_output[i][j]\n",
    "        index += 1\n",
    "    return output\n",
    "\n",
    "arr = [int(i) for i in input().split()]\n",
    "ans = subset_of_array(arr)\n",
    "for ar in ans:\n",
    "    for ele in ar:\n",
    "        print(ele,end= ' ')\n",
    "    print()    "
   ]
  },
  {
   "cell_type": "code",
   "execution_count": 35,
   "metadata": {},
   "outputs": [
    {
     "name": "stdout",
     "output_type": "stream",
     "text": [
      "abc\n",
      "abc\n",
      "bac\n",
      "bca\n",
      "acb\n",
      "cab\n",
      "cba\n"
     ]
    }
   ],
   "source": [
    "def permutations_of_string(st):\n",
    "    if len(st) == 1:\n",
    "        return [st]\n",
    "    \n",
    "    small_output = permutations_of_string(st[1:])\n",
    "    \n",
    "    output = (len(small_output) * len(st)) * [0]   \n",
    "    index = 0 \n",
    "    for i in range(len(small_output)):\n",
    "        concat_str = small_output[i]\n",
    "        for j in range(len(concat_str)+1):\n",
    "            output[index] = concat_str[0:j] + st[0] + concat_str[j:]\n",
    "            index += 1\n",
    "        \n",
    "    return output\n",
    "\n",
    "st = input()\n",
    "ans = permutations_of_string(st)\n",
    "for ele in ans:\n",
    "    print(ele)"
   ]
  },
  {
   "cell_type": "code",
   "execution_count": 44,
   "metadata": {},
   "outputs": [
    {
     "name": "stdout",
     "output_type": "stream",
     "text": [
      "3\n",
      "15 20 12\n",
      "\n",
      "12 \n",
      "20 \n",
      "20 12 \n",
      "15 \n",
      "15 12 \n",
      "15 20 \n",
      "15 20 12 \n"
     ]
    }
   ],
   "source": [
    "def print_subset_of_array(arr,nested_list):\n",
    "    if len(arr) == 0:\n",
    "        for lis in nested_list:\n",
    "            for ele in lis:\n",
    "                print(ele,end=' ')\n",
    "            print()    \n",
    "        return\n",
    "    new_list = ( 2 * len(nested_list) ) * [0]    \n",
    "\n",
    "    index = 0\n",
    "    for i in range(len(nested_list)):\n",
    "        new_list[index] = nested_list[i]\n",
    "        index +=1\n",
    "  \n",
    "    for i in range(len(nested_list)):\n",
    "        new_list[index] = (len(nested_list[i]) + 1) * [0]\n",
    "        new_list[index][0] = arr[-1]\n",
    "        for j in range(len(nested_list[i])):\n",
    "            new_list[index][j+1] = nested_list[i][j]\n",
    "        index += 1\n",
    "    \n",
    "    print_subset_of_array(arr[:-1] , new_list)\n",
    "    \n",
    "n = int(input())    \n",
    "arr = [int(i) for i in input().split()]    \n",
    "print_subset_of_array(arr,[[]])"
   ]
  },
  {
   "cell_type": "code",
   "execution_count": 67,
   "metadata": {},
   "outputs": [
    {
     "name": "stdout",
     "output_type": "stream",
     "text": [
      "5 12 3 17 1 18 15 3 17 \n",
      "6\n",
      "5 1 \n",
      "3 3 \n"
     ]
    }
   ],
   "source": [
    "import sys\n",
    "sys.setrecursionlimit(10 ** 8)\n",
    "\n",
    "def print_subset_to_k(arr,k,lst):\n",
    "    if len(arr) == 0:\n",
    "        if k == 0:\n",
    "            for ele in lst:\n",
    "                print(ele,end=' ')\n",
    "            print()    \n",
    "            return\n",
    "        else:\n",
    "            return\n",
    "   \n",
    "    new_lst = lst + [arr[0]]\n",
    "    new_k = k - arr[0]\n",
    "    print_subset_to_k(arr[1:],new_k,new_lst)\n",
    "    print_subset_to_k(arr[1:],k,lst)\n",
    "    \n",
    "arr = [int(i) for i in input().split() ]    \n",
    "k = int(input())\n",
    "print_subset_to_k(arr,k,[])"
   ]
  },
  {
   "cell_type": "code",
   "execution_count": 74,
   "metadata": {},
   "outputs": [
    {
     "name": "stdout",
     "output_type": "stream",
     "text": [
      "abc\n",
      "abc\n",
      "acb\n",
      "bac\n",
      "bca\n",
      "cab\n",
      "cba\n"
     ]
    }
   ],
   "source": [
    "def print_permutation_of_string(st,ans):\n",
    "    if len(st) == 0:\n",
    "        print(ans)\n",
    "        return \n",
    "    \n",
    "    for i in range(len(st)):\n",
    "        print_permutation_of_string(st[0:i] + st[i+1:] , ans+st[i])\n",
    "     \n",
    "\n",
    "st = input()    \n",
    "print_permutation_of_string(st,'')"
   ]
  },
  {
   "cell_type": "code",
   "execution_count": 72,
   "metadata": {},
   "outputs": [
    {
     "name": "stdout",
     "output_type": "stream",
     "text": [
      "bc\n"
     ]
    }
   ],
   "source": [
    "st = 'abc'\n",
    "print(st[0:0] + st[1:])"
   ]
  }
 ],
 "metadata": {
  "kernelspec": {
   "display_name": "Python 3",
   "language": "python",
   "name": "python3"
  },
  "language_info": {
   "codemirror_mode": {
    "name": "ipython",
    "version": 3
   },
   "file_extension": ".py",
   "mimetype": "text/x-python",
   "name": "python",
   "nbconvert_exporter": "python",
   "pygments_lexer": "ipython3",
   "version": "3.9.0"
  }
 },
 "nbformat": 4,
 "nbformat_minor": 4
}
