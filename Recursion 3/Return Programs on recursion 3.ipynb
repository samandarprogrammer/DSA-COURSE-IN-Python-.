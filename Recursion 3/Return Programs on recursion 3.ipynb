{
 "cells": [
  {
   "cell_type": "code",
   "execution_count": 11,
   "metadata": {},
   "outputs": [
    {
     "name": "stdout",
     "output_type": "stream",
     "text": [
      "abc\n",
      "\n",
      "c\n",
      "b\n",
      "bc\n",
      "a\n",
      "ac\n",
      "ab\n",
      "abc\n"
     ]
    }
   ],
   "source": [
    "def subsequences(string):\n",
    "    if len(string) == 0:\n",
    "        return [\"\"]\n",
    "    \n",
    "    small_input = string[1:]\n",
    "    small_output = subsequences(small_input)\n",
    "    \n",
    "    output = list(small_output)\n",
    "    for ele in small_output:\n",
    "        output.append(string[0]+ele)\n",
    "       \n",
    "    return output\n",
    "\n",
    "\n",
    "string = input()\n",
    "ans = subsequences(string)\n",
    "for ele in ans:\n",
    "    print(ele)\n",
    "    "
   ]
  },
  {
   "cell_type": "code",
   "execution_count": 8,
   "metadata": {},
   "outputs": [
    {
     "name": "stdout",
     "output_type": "stream",
     "text": [
      "23\n",
      "ad\n",
      "ae\n",
      "af\n",
      "bd\n",
      "be\n",
      "bf\n",
      "cd\n",
      "ce\n",
      "cf\n"
     ]
    }
   ],
   "source": [
    "def get_string(n):\n",
    "    if n==2:\n",
    "        return 'abc'\n",
    "    if n==3:\n",
    "        return 'def'\n",
    "    if n==4:\n",
    "        return 'ghi'    \n",
    "    if n==5:\n",
    "        return 'jkl'    \n",
    "    if n==6:\n",
    "        return 'mno'\n",
    "    if n==7:\n",
    "        return 'pqrs'\n",
    "    if n==8:\n",
    "        return 'tuv'\n",
    "    if n==9:\n",
    "        return 'wxyz' \n",
    "    \n",
    "def keypad_combination(n):\n",
    "    if n==0:\n",
    "        return ['']\n",
    "    remaining_input = (n%10)    \n",
    "    small_input = (n//10)\n",
    "    small_output = keypad_combination(small_input)\n",
    "    \n",
    "    output=[]\n",
    "    string_correspond_to_number = get_string(remaining_input)\n",
    "    for ele in small_output:\n",
    "        for st in string_correspond_to_number:\n",
    "            output.append(ele + st)\n",
    "    return output\n",
    "\n",
    "n = int(input())\n",
    "ans = keypad_combination(n)\n",
    "for ele in ans:\n",
    "    print(ele)"
   ]
  }
 ],
 "metadata": {
  "kernelspec": {
   "display_name": "Python 3",
   "language": "python",
   "name": "python3"
  },
  "language_info": {
   "codemirror_mode": {
    "name": "ipython",
    "version": 3
   },
   "file_extension": ".py",
   "mimetype": "text/x-python",
   "name": "python",
   "nbconvert_exporter": "python",
   "pygments_lexer": "ipython3",
   "version": "3.9.0"
  }
 },
 "nbformat": 4,
 "nbformat_minor": 4
}
