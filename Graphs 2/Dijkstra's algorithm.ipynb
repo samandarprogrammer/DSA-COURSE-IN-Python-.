{
 "cells": [
  {
   "cell_type": "code",
   "execution_count": 9,
   "metadata": {},
   "outputs": [
    {
     "name": "stdout",
     "output_type": "stream",
     "text": [
      "4 4\n",
      "0 1 2\n",
      "0 3 3\n",
      "1 2 4\n",
      "2 3 5\n",
      "0 0\n",
      "1 2\n",
      "2 6\n",
      "3 3\n"
     ]
    }
   ],
   "source": [
    "import sys\n",
    "class Graph:\n",
    "    def __init__(self,nVertices):\n",
    "        self.nVertices = nVertices\n",
    "        self.AdjacenyMatrix = [[0 for i in range(self.nVertices)] for j in range(self.nVertices)]\n",
    "        \n",
    "    def addentry(self,v1,v2,wt):\n",
    "        self.AdjacenyMatrix[v1][v2] = wt\n",
    "        self.AdjacenyMatrix[v2][v1] = wt\n",
    "        \n",
    "    def deleteentry(self,v1,v2):\n",
    "        if self.containedges(v1,v2) is False:\n",
    "            return\n",
    "        self.AdjacenyMatrix[v1][v2] = 0\n",
    "        self.AdjacenyMatrix[v2][v1] = 0\n",
    "        \n",
    "    def containedges(self,v1,v2):\n",
    "        return True if self.AdjacenyMatrix[v1][v2] == 1 else  False\n",
    "        \n",
    "    def __str__(self):\n",
    "        return str(self.AdjacenyMatrix)\n",
    "    \n",
    "    def __getMinvertex(self,distance,visited):\n",
    "        minvertex = -1\n",
    "        \n",
    "        for i in range(self.nVertices):\n",
    "            if visited[i] == False and (minvertex == -1 or distance[minvertex] > distance[i]):\n",
    "                minvertex = i\n",
    "        return minvertex        \n",
    "    \n",
    "    def dijkstra(self):\n",
    "        distance = [sys.maxsize for i in range(self.nVertices)]\n",
    "        visited = [False for i in range(self.nVertices)]\n",
    "        distance[0] = 0\n",
    "        for i in range(self.nVertices - 1):\n",
    "            min_vertex = self.__getMinvertex(distance,visited)  \n",
    "            visited[min_vertex] = True               \n",
    "        \n",
    "            for j in range(self.nVertices):\n",
    "                if self.AdjacenyMatrix[min_vertex][j] > 0 and visited[j] == False:\n",
    "                    if distance[j] > distance[min_vertex] + self.AdjacenyMatrix[min_vertex][j]: \n",
    "                        distance[j] = distance[min_vertex] + self.AdjacenyMatrix[min_vertex][j]\n",
    "\n",
    "        print(str(0) + ' ' +str(distance[0]))#Here we first write the source and its disctance which is fixed.\n",
    "        for i in range(1,self.nVertices):\n",
    "            print(str(i)+' '+str(distance[i])) #Here we print all the destination from the source with its min. distance .\n",
    "        \n",
    "\n",
    "nv = [int(i) for i in input().split()]\n",
    "e = nv[1]\n",
    "g = Graph(nv[0])\n",
    "for i in range(e):\n",
    "    vw = [int(i) for i in input().split()]\n",
    "    g.addentry(vw[0],vw[1],vw[2])\n",
    "\n",
    "g.dijkstra()  "
   ]
  }
 ],
 "metadata": {
  "kernelspec": {
   "display_name": "Python 3",
   "language": "python",
   "name": "python3"
  },
  "language_info": {
   "codemirror_mode": {
    "name": "ipython",
    "version": 3
   },
   "file_extension": ".py",
   "mimetype": "text/x-python",
   "name": "python",
   "nbconvert_exporter": "python",
   "pygments_lexer": "ipython3",
   "version": "3.9.0"
  }
 },
 "nbformat": 4,
 "nbformat_minor": 4
}
