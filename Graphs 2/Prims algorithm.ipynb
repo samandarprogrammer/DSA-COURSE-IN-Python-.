{
 "cells": [
  {
   "cell_type": "code",
   "execution_count": 8,
   "metadata": {},
   "outputs": [
    {
     "name": "stdout",
     "output_type": "stream",
     "text": [
      "4 4\n",
      "0 1 2\n",
      "0 3 3\n",
      "1 2 4\n",
      "2 3 5\n",
      "0 1 2\n",
      "1 2 4\n",
      "0 3 3\n"
     ]
    }
   ],
   "source": [
    "import sys\n",
    "class Graph:\n",
    "    def __init__(self,nVertices):\n",
    "        self.nVertices = nVertices\n",
    "        self.AdjacenyMatrix = [[0 for i in range(self.nVertices)] for j in range(self.nVertices)]\n",
    "        \n",
    "    def addentry(self,v1,v2,wt):\n",
    "        self.AdjacenyMatrix[v1][v2] = wt\n",
    "        self.AdjacenyMatrix[v2][v1] = wt\n",
    "        \n",
    "    def deleteentry(self,v1,v2):\n",
    "        if self.containedges(v1,v2) is False:\n",
    "            return\n",
    "        self.AdjacenyMatrix[v1][v2] = 0\n",
    "        self.AdjacenyMatrix[v2][v1] = 0\n",
    "        \n",
    "    def containedges(self,v1,v2):\n",
    "        return True if self.AdjacenyMatrix[v1][v2] == 1 else  False\n",
    "        \n",
    "    def __str__(self):\n",
    "        return str(self.AdjacenyMatrix)\n",
    "    \n",
    "    def __getMinvertex(self,weight,visited):\n",
    "        minvertex = -1\n",
    "        \n",
    "        for i in range(self.nVertices):\n",
    "            if visited[i] == False and (minvertex == -1 or weight[minvertex] > weight[i]):\n",
    "                minvertex = i\n",
    "        return minvertex        \n",
    "    \n",
    "    def prims(self):\n",
    "        parent = [-1 for i in range(self.nVertices)]\n",
    "        weight = [sys.maxsize for i in range(self.nVertices)]\n",
    "        visited = [False for i in range(self.nVertices)]\n",
    "        weight[0] = 0\n",
    "        for i in range(self.nVertices - 1):#Here we do iteration only at n -1 vertices because it tells us for which vertex we  \n",
    "            min_vertex = self.__getMinvertex(weight,visited)  #have to explore if we go till n vertex then\n",
    "            visited[min_vertex] = True                        #we can't explore its vertex because it is the last vertex.\n",
    "            \n",
    "            \n",
    "            #After finding the minvertex we explore its neighbouring vertex update its parent as well as weight.\n",
    "            for j in range(self.nVertices):\n",
    "                if self.AdjacenyMatrix[min_vertex][j] > 0 and visited[j] == False:\n",
    "                    if weight[j] > self.AdjacenyMatrix[min_vertex][j]: \n",
    "                        weight[j] = self.AdjacenyMatrix[min_vertex][j]\n",
    "                        parent[j] = min_vertex\n",
    "    \n",
    "        for i in range(1,self.nVertices):\n",
    "            if i < parent[i]:\n",
    "                print(str(i) + ' ' + str(parent[i]) + \" \" + str(weight[i]) )\n",
    "            else:\n",
    "                print(str(parent[i]) + ' ' + str(i) + \" \" + str(weight[i]) )                     \n",
    "    \n",
    "nv = [int(i) for i in input().split()]\n",
    "e = nv[1]\n",
    "g = Graph(nv[0])\n",
    "for i in range(e):\n",
    "    vw = [int(i) for i in input().split()]\n",
    "    g.addentry(vw[0],vw[1],vw[2])\n",
    "\n",
    "g.prims()    "
   ]
  }
 ],
 "metadata": {
  "kernelspec": {
   "display_name": "Python 3",
   "language": "python",
   "name": "python3"
  },
  "language_info": {
   "codemirror_mode": {
    "name": "ipython",
    "version": 3
   },
   "file_extension": ".py",
   "mimetype": "text/x-python",
   "name": "python",
   "nbconvert_exporter": "python",
   "pygments_lexer": "ipython3",
   "version": "3.9.0"
  }
 },
 "nbformat": 4,
 "nbformat_minor": 4
}
