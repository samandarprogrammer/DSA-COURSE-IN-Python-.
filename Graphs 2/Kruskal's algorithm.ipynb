{
 "cells": [
  {
   "cell_type": "code",
   "execution_count": 11,
   "metadata": {},
   "outputs": [
    {
     "name": "stdout",
     "output_type": "stream",
     "text": [
      "4 4\n",
      "0 1 2\n",
      "0 3 3\n",
      "1 2 4\n",
      "2 3 5\n",
      "0 1 2\n",
      "0 3 3\n",
      "1 2 4\n"
     ]
    }
   ],
   "source": [
    "class Edge:\n",
    "    def __init__(self,v1,v2,weight):\n",
    "        self.v1 = v1 \n",
    "        self.v2 = v2\n",
    "        self.weight = weight\n",
    "        \n",
    "def union(v,parent):\n",
    "    if v == parent[v]:\n",
    "        return v\n",
    "    return union(parent[v],parent)\n",
    "        \n",
    "def kruskal(edges,nVertices):\n",
    "    parent = [i for i in range(nVertices)]\n",
    "    edges = sorted(edges,key= lambda edge:edge.weight)\n",
    "    count = 0\n",
    "    i = 0\n",
    "    output = []\n",
    "    while count < nVertices - 1:\n",
    "        current_edge = edges[i]\n",
    "        v1parent = union(current_edge.v1,parent)\n",
    "        v2parent = union(current_edge.v2,parent)\n",
    "        if v1parent!=v2parent:\n",
    "            parent[v1parent] = v2parent\n",
    "            output.append(current_edge)\n",
    "            count = count + 1\n",
    "            i = i + 1\n",
    "        else:\n",
    "            i = i + 1\n",
    "    return output    \n",
    "        \n",
    "ne = [int(i) for i in input().split()]\n",
    "nVertices = ne[0]\n",
    "e = ne[1]\n",
    "edges = []\n",
    "for i in range(e):\n",
    "    sdw = [int(i) for i in input().split()]\n",
    "    v1 = sdw[0]\n",
    "    v2 = sdw[1]\n",
    "    weight = sdw[2]\n",
    "    edge = Edge(v1,v2,weight)\n",
    "    edges.append(edge)\n",
    "    \n",
    "output = kruskal(edges,nVertices)    \n",
    "for edge in output:\n",
    "    if edge.v1 < edge.v2:\n",
    "        print(str(edge.v1) + ' ' + str(edge.v2)+  \" \" + str(edge.weight))\n",
    "    else:\n",
    "        print(str(edge.v2) + ' ' + str(edge.v1)+  \" \" + str(edge.weight))        "
   ]
  }
 ],
 "metadata": {
  "kernelspec": {
   "display_name": "Python 3",
   "language": "python",
   "name": "python3"
  },
  "language_info": {
   "codemirror_mode": {
    "name": "ipython",
    "version": 3
   },
   "file_extension": ".py",
   "mimetype": "text/x-python",
   "name": "python",
   "nbconvert_exporter": "python",
   "pygments_lexer": "ipython3",
   "version": "3.9.0"
  }
 },
 "nbformat": 4,
 "nbformat_minor": 4
}
