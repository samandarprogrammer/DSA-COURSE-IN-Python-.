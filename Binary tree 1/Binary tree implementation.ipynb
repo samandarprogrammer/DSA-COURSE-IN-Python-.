{
 "cells": [
  {
   "cell_type": "code",
   "execution_count": 4,
   "metadata": {},
   "outputs": [],
   "source": [
    "class binarytree:\n",
    "    def __init__(self,data):\n",
    "        self.data = data\n",
    "        self.left = None\n",
    "        self.right = None\n",
    "        "
   ]
  },
  {
   "cell_type": "code",
   "execution_count": 24,
   "metadata": {},
   "outputs": [],
   "source": [
    "def printbinarytree(root):\n",
    "    if root is None:\n",
    "        return\n",
    "    print(root.data,end=':')\n",
    "    if root.left != None:\n",
    "        print('L',root.left.data,',',end='')\n",
    "    if root.right !=None:\n",
    "        print('R',root.right.data,end='')\n",
    "    print()\n",
    "    printbinarytree(root.left)\n",
    "    printbinarytree(root.right)"
   ]
  },
  {
   "cell_type": "code",
   "execution_count": 27,
   "metadata": {},
   "outputs": [],
   "source": [
    "def taketreeinput():\n",
    "    rootdata = int(input())\n",
    "    if rootdata == -1:\n",
    "        return None\n",
    "    root = binarytree(rootdata)\n",
    "    leftsubtree = taketreeinput()\n",
    "    rightsubtree =  taketreeinput()\n",
    "    root.left = leftsubtree\n",
    "    root.right = rightsubtree\n",
    "    return root"
   ]
  },
  {
   "cell_type": "code",
   "execution_count": 28,
   "metadata": {},
   "outputs": [
    {
     "name": "stdout",
     "output_type": "stream",
     "text": [
      "1\n",
      "2\n",
      "-1\n",
      "-1\n",
      "3\n",
      "-1\n",
      "-1\n",
      "1:L 2 ,R 3\n",
      "2:\n",
      "3:\n"
     ]
    }
   ],
   "source": [
    "root = taketreeinput()\n",
    "printbinarytree(root)"
   ]
  }
 ],
 "metadata": {
  "kernelspec": {
   "display_name": "Python 3",
   "language": "python",
   "name": "python3"
  },
  "language_info": {
   "codemirror_mode": {
    "name": "ipython",
    "version": 3
   },
   "file_extension": ".py",
   "mimetype": "text/x-python",
   "name": "python",
   "nbconvert_exporter": "python",
   "pygments_lexer": "ipython3",
   "version": "3.9.0"
  }
 },
 "nbformat": 4,
 "nbformat_minor": 4
}
