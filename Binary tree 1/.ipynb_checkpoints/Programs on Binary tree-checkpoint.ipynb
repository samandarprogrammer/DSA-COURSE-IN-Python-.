{
 "cells": [
  {
   "cell_type": "markdown",
   "metadata": {},
   "source": [
    "Implementation of binary tree code"
   ]
  },
  {
   "cell_type": "code",
   "execution_count": 8,
   "metadata": {},
   "outputs": [],
   "source": [
    "class binarytree:\n",
    "    def __init__(self,data):\n",
    "        self.data = data\n",
    "        self.left = None\n",
    "        self.right = None\n",
    "        \n",
    "        \n",
    "def printbinarytree(root):\n",
    "    if root is None:\n",
    "        return\n",
    "    print(root.data,end=':')\n",
    "    if root.left != None:\n",
    "        print('L',root.left.data,',',end='')\n",
    "    if root.right !=None:\n",
    "        print('R',root.right.data,end='')\n",
    "    print()\n",
    "    printbinarytree(root.left)\n",
    "    printbinarytree(root.right)\n",
    "    \n",
    "def printbinarytree_postorder(root):\n",
    "    if root is None:\n",
    "        return\n",
    "    printbinarytree_postorder(root.left)\n",
    "    printbinarytree_postorder(root.right)\n",
    "    print(root.data)\n",
    "    \n",
    "def taketreeinput():\n",
    "    rootdata = int(input())\n",
    "    if rootdata == -1:\n",
    "        return None\n",
    "    root = binarytree(rootdata)\n",
    "    leftsubtree = taketreeinput()\n",
    "    rightsubtree =  taketreeinput()\n",
    "    root.left = leftsubtree\n",
    "    root.right = rightsubtree\n",
    "    return root    "
   ]
  },
  {
   "cell_type": "markdown",
   "metadata": {},
   "source": [
    "Program to find number of node present in our binary tree"
   ]
  },
  {
   "cell_type": "code",
   "execution_count": null,
   "metadata": {},
   "outputs": [],
   "source": [
    "def numberofnodes(root):\n",
    "    if root is None:\n",
    "        return 0\n",
    "    leftcount = numberofnodes(root.left)\n",
    "    rightcount = numberofnodes(root.right)\n",
    "    return 1 + leftcount + rightcount"
   ]
  },
  {
   "cell_type": "markdown",
   "metadata": {},
   "source": [
    "Program on Binary tree to give sum of all nodes"
   ]
  },
  {
   "cell_type": "code",
   "execution_count": null,
   "metadata": {},
   "outputs": [],
   "source": [
    "def getSum(root):\n",
    "    if root is None:\n",
    "        return 0\n",
    "    leftsum = getSum(root.left)\n",
    "    rightsum = getSum(root.right)\n",
    "    return root.data + leftsum + rightsum"
   ]
  },
  {
   "cell_type": "markdown",
   "metadata": {},
   "source": [
    "Program to find largest node in a binary tree"
   ]
  },
  {
   "cell_type": "code",
   "execution_count": 10,
   "metadata": {},
   "outputs": [],
   "source": [
    "def largestnode(root):\n",
    "    if root is None:\n",
    "        return -1 #ideally it should be -ve infinity\n",
    "    leftlargest = largestnode(root.left)\n",
    "    rightlargest = largestnode(root.right)\n",
    "    max_value = max(root.data , leftlargest , rightlargest)\n",
    "    return max_value"
   ]
  },
  {
   "cell_type": "markdown",
   "metadata": {},
   "source": [
    "Program to count nodes which is greater than x"
   ]
  },
  {
   "cell_type": "code",
   "execution_count": 12,
   "metadata": {},
   "outputs": [],
   "source": [
    "def countNodesGreaterThanX(root, x) :\n",
    "    count = 0\n",
    "    if root is None:\n",
    "        return 0\n",
    "    leftcount = countNodesGreaterThanX(root.left , x)\n",
    "    rightcount = countNodesGreaterThanX(root.right , x)\n",
    "    if root.data > x:\n",
    "        count = count + 1\n",
    "    count = count + leftcount + rightcount\n",
    "    return count \n",
    "    "
   ]
  },
  {
   "cell_type": "markdown",
   "metadata": {},
   "source": [
    "Program to find the height of a tree"
   ]
  },
  {
   "cell_type": "code",
   "execution_count": 17,
   "metadata": {},
   "outputs": [],
   "source": [
    "def heightoftree(root):\n",
    "    if root is None:\n",
    "        return 0\n",
    "    leftheight = heightoftree(root.left)\n",
    "    rightheight = heightoftree(root.right)\n",
    "    if leftheight > rightheight:\n",
    "        height = 1 + leftheight\n",
    "        return height\n",
    "    else:\n",
    "        height = 1 + rightheight \n",
    "        return height"
   ]
  },
  {
   "cell_type": "code",
   "execution_count": null,
   "metadata": {},
   "outputs": [],
   "source": [
    "Program to find number of leaf nodes"
   ]
  },
  {
   "cell_type": "code",
   "execution_count": 24,
   "metadata": {},
   "outputs": [],
   "source": [
    "def countleafnode(root):\n",
    "    if root is None:\n",
    "        return 0\n",
    "    if root.left is None and root.right is None:\n",
    "        return 1\n",
    "    leftleaf = countleafnode(root.left)\n",
    "    rightleaf = countleafnode(root.right)\n",
    "    return leftleaf + rightleaf"
   ]
  },
  {
   "cell_type": "markdown",
   "metadata": {},
   "source": [
    "program to print nodes at k depth"
   ]
  },
  {
   "cell_type": "code",
   "execution_count": 30,
   "metadata": {},
   "outputs": [],
   "source": [
    "def nodesatk(root,k):\n",
    "    if root is None:\n",
    "        return -1\n",
    "    if k==0:\n",
    "        print(root.data)\n",
    "        return\n",
    "    nodesatk(root.left,k-1)\n",
    "    nodesatk(root.right,k-1)"
   ]
  },
  {
   "cell_type": "markdown",
   "metadata": {},
   "source": [
    "same above code with different approch"
   ]
  },
  {
   "cell_type": "code",
   "execution_count": 31,
   "metadata": {},
   "outputs": [],
   "source": [
    "def nodesatk1(root,k,d):#Here we also pass d which gives us the current depth of the node and as default it is 0.\n",
    "    if root is None:\n",
    "        return -1\n",
    "    if k==d:\n",
    "        print(root.data)\n",
    "        return\n",
    "    nodesatk1(root.left,k,d+1)\n",
    "    nodesatk1(root.right,k,d+1)"
   ]
  },
  {
   "cell_type": "markdown",
   "metadata": {},
   "source": [
    "Program to change node data with its depth"
   ]
  },
  {
   "cell_type": "code",
   "execution_count": 41,
   "metadata": {},
   "outputs": [],
   "source": [
    "def changeToDepthTree(root,d) :\n",
    "    if root is None:\n",
    "        return \n",
    "    changeToDepthTree(root.left , d+1)\n",
    "    changeToDepthTree(root.right , d+1)\n",
    "    root.data = d\n",
    "    return root"
   ]
  },
  {
   "cell_type": "markdown",
   "metadata": {},
   "source": [
    "Program to find that a specified integer x is present in binary tree or not"
   ]
  },
  {
   "cell_type": "code",
   "execution_count": 42,
   "metadata": {},
   "outputs": [],
   "source": [
    "def isNodePresent(root, x) :\n",
    "    if root is None:\n",
    "        return False\n",
    "    leftflag = isNodePresent(root.left,x)\n",
    "    rightflag = isNodePresent(root.right,x)\n",
    "    if leftflag == True or  rightflag == True:\n",
    "        return True\n",
    "    else:\n",
    "        if root.data == x:\n",
    "            return True\n",
    "        else:\n",
    "            return False"
   ]
  },
  {
   "cell_type": "markdown",
   "metadata": {},
   "source": [
    "Program to print nodes having noi siblings"
   ]
  },
  {
   "cell_type": "code",
   "execution_count": 84,
   "metadata": {},
   "outputs": [],
   "source": [
    "def printNodesWithoutSibling(root) :\n",
    "    if root is None:\n",
    "        return\n",
    "    \n",
    "    if root.left == None and root.right == None:\n",
    "        pass\n",
    "    elif root.left !=None and root.right !=None:\n",
    "        pass\n",
    "    elif root.right !=None and root.left == None:\n",
    "        print(root.right.data,end=' ')\n",
    "    else:\n",
    "        print(root.left.data,end=' ')\n",
    "        \n",
    "    printNodesWithoutSibling(root.left)\n",
    "    printNodesWithoutSibling(root.right)  "
   ]
  },
  {
   "cell_type": "code",
   "execution_count": 85,
   "metadata": {
    "scrolled": false
   },
   "outputs": [
    {
     "name": "stdout",
     "output_type": "stream",
     "text": [
      "5\n",
      "6\n",
      "2\n",
      "-1\n",
      "-1\n",
      "3\n",
      "-1\n",
      "-1\n",
      "10\n",
      "9\n",
      "-1\n",
      "-1\n",
      "-1\n",
      "5:L 6 ,R 10\n",
      "6:L 2 ,R 3\n",
      "2:\n",
      "3:\n",
      "10:L 9 ,\n",
      "9:\n",
      "9"
     ]
    }
   ],
   "source": [
    "root = taketreeinput()\n",
    "printbinarytree(root)\n",
    "#printbinarytree_postorder(root)\n",
    "#print(numberofnodes(root))\n",
    "#print(getSum(root))\n",
    "#print(largestnode(root))\n",
    "#x= int(input())\n",
    "#print(countNodesGreaterThanX(root , x))\n",
    "#print(heightoftree(root))\n",
    "#print(countleafnode(root))\n",
    "#k= int(input())\n",
    "#nodesatk(root,k)\n",
    "#nodesatk1(root,k,0)#By default here d is 0\n",
    "#root = changeToDepthTree(root,0)\n",
    "#printbinarytree(root)\n",
    "# ans = isNodePresent(root , x)\n",
    "# if ans:\n",
    "#     print(\"true\")\n",
    "# else:\n",
    "#     print(\"false\")\n",
    "printNodesWithoutSibling(root)"
   ]
  },
  {
   "cell_type": "code",
   "execution_count": null,
   "metadata": {},
   "outputs": [],
   "source": []
  }
 ],
 "metadata": {
  "kernelspec": {
   "display_name": "Python 3",
   "language": "python",
   "name": "python3"
  },
  "language_info": {
   "codemirror_mode": {
    "name": "ipython",
    "version": 3
   },
   "file_extension": ".py",
   "mimetype": "text/x-python",
   "name": "python",
   "nbconvert_exporter": "python",
   "pygments_lexer": "ipython3",
   "version": "3.9.0"
  }
 },
 "nbformat": 4,
 "nbformat_minor": 4
}
