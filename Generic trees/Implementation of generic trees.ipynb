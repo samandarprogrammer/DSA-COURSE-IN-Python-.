{
 "cells": [
  {
   "cell_type": "code",
   "execution_count": 1,
   "metadata": {},
   "outputs": [],
   "source": [
    "class Treenode:\n",
    "    def __init__(self,data):\n",
    "        self.data = data\n",
    "        self.children = list()"
   ]
  },
  {
   "cell_type": "code",
   "execution_count": 2,
   "metadata": {},
   "outputs": [],
   "source": [
    "def printtree(root): #here we are printing in a preorder way\n",
    "    if root is None: #here it is not a base case it is an edge case to handle the None case.\n",
    "        return\n",
    "    \n",
    "    print(root.data)\n",
    "    for child in root.children:\n",
    "        printtree(child)\n",
    "        "
   ]
  },
  {
   "cell_type": "code",
   "execution_count": 13,
   "metadata": {},
   "outputs": [],
   "source": [
    "def printtreedetailed(root):\n",
    "    if root is None:\n",
    "        return\n",
    "    \n",
    "    print(root.data ,end=':')\n",
    "    for child in root.children:\n",
    "        print(child.data , end=',')\n",
    "    \n",
    "    print()\n",
    "    \n",
    "    for child in root.children:\n",
    "        printtreedetailed(child)\n",
    "        "
   ]
  },
  {
   "cell_type": "code",
   "execution_count": 16,
   "metadata": {},
   "outputs": [],
   "source": [
    "def taketreeinput():\n",
    "    print(\"Enter root data\")\n",
    "    rootdata = int(input())\n",
    "    if rootdata ==-1:\n",
    "        return None\n",
    "    root = Treenode(rootdata)\n",
    "    print(\"Enter number of children for root data\",rootdata)\n",
    "    countchild = int(input())\n",
    "    for i in range(countchild): #For proper understanding please dry run this and you get that.\n",
    "        child = taketreeinput()\n",
    "        root.children.append(child)\n",
    "        \n",
    "    return root    "
   ]
  },
  {
   "cell_type": "code",
   "execution_count": 18,
   "metadata": {},
   "outputs": [
    {
     "name": "stdout",
     "output_type": "stream",
     "text": [
      "Enter root data\n",
      "1\n",
      "Enter number of children for root data 1\n",
      "3\n",
      "Enter root data\n",
      "2\n",
      "Enter number of children for root data 2\n",
      "0\n",
      "Enter root data\n",
      "3\n",
      "Enter number of children for root data 3\n",
      "2\n",
      "Enter root data\n",
      "5\n",
      "Enter number of children for root data 5\n",
      "0\n",
      "Enter root data\n",
      "6\n",
      "Enter number of children for root data 6\n",
      "0\n",
      "Enter root data\n",
      "4\n",
      "Enter number of children for root data 4\n",
      "0\n",
      "1:2,3,4,\n",
      "2:\n",
      "3:5,6,\n",
      "5:\n",
      "6:\n",
      "4:\n"
     ]
    }
   ],
   "source": [
    "root=taketreeinput()\n",
    "printtreedetailed(root)"
   ]
  }
 ],
 "metadata": {
  "kernelspec": {
   "display_name": "Python 3",
   "language": "python",
   "name": "python3"
  },
  "language_info": {
   "codemirror_mode": {
    "name": "ipython",
    "version": 3
   },
   "file_extension": ".py",
   "mimetype": "text/x-python",
   "name": "python",
   "nbconvert_exporter": "python",
   "pygments_lexer": "ipython3",
   "version": "3.9.0"
  }
 },
 "nbformat": 4,
 "nbformat_minor": 4
}
