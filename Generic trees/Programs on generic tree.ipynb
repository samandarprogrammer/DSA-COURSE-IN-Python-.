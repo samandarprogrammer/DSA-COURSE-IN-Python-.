{
 "cells": [
  {
   "cell_type": "code",
   "execution_count": 3,
   "metadata": {},
   "outputs": [],
   "source": [
    "class Treenode:\n",
    "    def __init__(self,data):\n",
    "        self.data = data\n",
    "        self.children = list()\n",
    "        \n",
    "def printtreedetailed(root):\n",
    "    if root is None:\n",
    "        return\n",
    "    \n",
    "    print(root.data ,end=':')\n",
    "    for child in root.children:\n",
    "        print(child.data , end=',')\n",
    "    \n",
    "    print()\n",
    "    \n",
    "    for child in root.children:\n",
    "        printtreedetailed(child)\n",
    "        \n",
    "        \n",
    "def taketreeinput():\n",
    "    print(\"Enter root data\")\n",
    "    rootdata = int(input())\n",
    "    if rootdata ==-1:\n",
    "        return None\n",
    "    root = Treenode(rootdata)\n",
    "    print(\"Enter number of children for root data\",rootdata)\n",
    "    countchild = int(input())\n",
    "    for i in range(countchild):\n",
    "        child = taketreeinput()\n",
    "        root.children.append(child)\n",
    "        \n",
    "    return root    \n",
    "    \n"
   ]
  },
  {
   "cell_type": "markdown",
   "metadata": {},
   "source": [
    "program is to count number of nodes in a generic tree"
   ]
  },
  {
   "cell_type": "code",
   "execution_count": 7,
   "metadata": {},
   "outputs": [],
   "source": [
    "def numnodes(root):\n",
    "    if root is None:\n",
    "        return 0\n",
    "    count = 1\n",
    "    for child in root.children:\n",
    "        count = count + numnodes(child)\n",
    "    return count    "
   ]
  },
  {
   "cell_type": "markdown",
   "metadata": {},
   "source": [
    "Program to sum up all the nodes of a tree"
   ]
  },
  {
   "cell_type": "code",
   "execution_count": 8,
   "metadata": {},
   "outputs": [],
   "source": [
    "def sumupnode(root):\n",
    "    if root is None:\n",
    "        return 0\n",
    "    sums = root.data\n",
    "    for child in root.children:\n",
    "        sums = sums + sumupnode(child)\n",
    "        \n",
    "    return sums    "
   ]
  },
  {
   "cell_type": "markdown",
   "metadata": {},
   "source": [
    "Program to find the largest data node in a tree"
   ]
  },
  {
   "cell_type": "code",
   "execution_count": 29,
   "metadata": {},
   "outputs": [],
   "source": [
    "def largestnodedata(root):\n",
    "    if root is None:\n",
    "        return \n",
    "    maxnode = root.data\n",
    "    \n",
    "    for child in root.children:\n",
    "        childlargest = largestnodedata(child)\n",
    "        maxnode = max(childlargest , maxnode)\n",
    "    return maxnode"
   ]
  },
  {
   "cell_type": "markdown",
   "metadata": {},
   "source": [
    "Program to find the height of a tree"
   ]
  },
  {
   "cell_type": "code",
   "execution_count": 26,
   "metadata": {},
   "outputs": [],
   "source": [
    "def heightoftree(root):\n",
    "    if root is None:\n",
    "        return\n",
    "    maxheight = 0\n",
    "    for child in root.children:\n",
    "        childheight = heightoftree(child)\n",
    "        maxheight = max(childheight , maxheight)\n",
    "        \n",
    "    return maxheight + 1    "
   ]
  },
  {
   "cell_type": "markdown",
   "metadata": {},
   "source": [
    "Program to take input in the form of array"
   ]
  },
  {
   "cell_type": "code",
   "execution_count": 30,
   "metadata": {},
   "outputs": [],
   "source": [
    "def createLevelWiseTree(arr):\n",
    "    if len(arr) ==0:\n",
    "        return None\n",
    "    \n",
    "    root = Treenode(int(arr[0]))\n",
    "    q=[root] #Here we use that array to get parent so that we can connect the child with that.\n",
    "    size = len(arr)\n",
    "    i=1\n",
    "    while i < size:\n",
    "        parent = q.pop(0)\n",
    "        countchild = int(arr[i])\n",
    "        i+=1\n",
    "        \n",
    "        for j in range(0,countchild):\n",
    "            temp = Treenode(int(arr[i+j]))\n",
    "            parent.children.append(temp)\n",
    "            q.append(temp)\n",
    "        i+=countchild\n",
    "    return root    "
   ]
  },
  {
   "cell_type": "markdown",
   "metadata": {},
   "source": [
    "Program to print tree levelwise"
   ]
  },
  {
   "cell_type": "code",
   "execution_count": 45,
   "metadata": {},
   "outputs": [],
   "source": [
    "import queue\n",
    "def printLevelWiseTree(root):\n",
    "    if root is None:\n",
    "        return\n",
    "    q=queue.Queue()\n",
    "    q.put(root)\n",
    "    while not q.empty():\n",
    "        parent = q.get()\n",
    "        print(parent.data,end=\":\")\n",
    "        i=0\n",
    "        for child in parent.children:\n",
    "            if i==0:\n",
    "                print(str(child.data),end='')\n",
    "                i=i+1\n",
    "            else:    \n",
    "                print(','+str(child.data),end='')\n",
    "            q.put(child)\n",
    "        print()    "
   ]
  },
  {
   "cell_type": "code",
   "execution_count": 47,
   "metadata": {},
   "outputs": [
    {
     "name": "stdout",
     "output_type": "stream",
     "text": [
      "1 3 2 3 4 0 2 5 6 0\n",
      "1:2,3,4\n",
      "2:\n",
      "3:5,6\n",
      "4:\n",
      "5:\n",
      "6:\n"
     ]
    }
   ],
   "source": [
    "# root = taketreeinput()\n",
    "\n",
    "# #print(numnodes(root))\n",
    "# #print(sumupnode(root))\n",
    "# #print(largestnodedata(root))\n",
    "# print(heightoftree(root))\n",
    "arr = [int(i) for i in input().split()]\n",
    "root=createLevelWiseTree(arr)\n",
    "printLevelWiseTree(root)"
   ]
  }
 ],
 "metadata": {
  "kernelspec": {
   "display_name": "Python 3",
   "language": "python",
   "name": "python3"
  },
  "language_info": {
   "codemirror_mode": {
    "name": "ipython",
    "version": 3
   },
   "file_extension": ".py",
   "mimetype": "text/x-python",
   "name": "python",
   "nbconvert_exporter": "python",
   "pygments_lexer": "ipython3",
   "version": "3.9.0"
  }
 },
 "nbformat": 4,
 "nbformat_minor": 4
}
