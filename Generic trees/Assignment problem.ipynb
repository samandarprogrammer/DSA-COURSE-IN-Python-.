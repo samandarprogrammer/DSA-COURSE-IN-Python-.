{
 "cells": [
  {
   "cell_type": "code",
   "execution_count": 3,
   "metadata": {},
   "outputs": [],
   "source": [
    "class Treenode:\n",
    "    def __init__(self,data):\n",
    "        self.data = data\n",
    "        self.children = list()\n",
    "        \n",
    "def printtreedetailed(root):\n",
    "    if root is None:\n",
    "        return\n",
    "    \n",
    "    print(root.data ,end=':')\n",
    "    for child in root.children:\n",
    "        print(child.data , end=',')\n",
    "    \n",
    "    print()\n",
    "    \n",
    "    for child in root.children:\n",
    "        printtreedetailed(child)\n",
    "        \n",
    "        \n",
    "def taketreeinput():\n",
    "    print(\"Enter root data\")\n",
    "    rootdata = int(input())\n",
    "    if rootdata ==-1:\n",
    "        return None\n",
    "    root = Treenode(rootdata)\n",
    "    print(\"Enter number of children for root data\",rootdata)\n",
    "    countchild = int(input())\n",
    "    for i in range(countchild):\n",
    "        child = taketreeinput()\n",
    "        root.children.append(child)\n",
    "        \n",
    "    return root    \n",
    "\n",
    "def createLevelWiseTree(arr):\n",
    "    if len(arr) ==0:\n",
    "        return None\n",
    "    \n",
    "    root = Treenode(int(arr[0]))\n",
    "    q=[root] #Here we use that array to get parent so that we can connect the child with that.\n",
    "    size = len(arr)\n",
    "    i=1\n",
    "    while i < size:\n",
    "        parent = q.pop(0)\n",
    "        countchild = int(arr[i])\n",
    "        i+=1\n",
    "        \n",
    "        for j in range(0,countchild):\n",
    "            temp = Treenode(int(arr[i+j]))\n",
    "            parent.children.append(temp)\n",
    "            q.append(temp)\n",
    "        i+=countchild\n",
    "    return root "
   ]
  },
  {
   "cell_type": "markdown",
   "metadata": {},
   "source": [
    "Program to check whether a given integer is persent in tree or not"
   ]
  },
  {
   "cell_type": "code",
   "execution_count": 20,
   "metadata": {},
   "outputs": [],
   "source": [
    "def containsX(root, x):\n",
    "    flag = False\n",
    "    if root is None:\n",
    "        return False\n",
    "    \n",
    "    if root.data == x:\n",
    "        flag = True\n",
    "        return flag\n",
    "    \n",
    "    for child in root.children:\n",
    "        flag = containsX(child,x)\n",
    "        if flag is True:\n",
    "            return flag\n",
    "        else:\n",
    "            pass\n",
    "    return flag    "
   ]
  },
  {
   "cell_type": "markdown",
   "metadata": {},
   "source": [
    "Program to find the number of leaf nodes in a tree"
   ]
  },
  {
   "cell_type": "code",
   "execution_count": 43,
   "metadata": {},
   "outputs": [],
   "source": [
    "def leafNodeCount(root):\n",
    "    if root is None:\n",
    "        return\n",
    "    count = 0\n",
    "    if len(root.children) == 0:\n",
    "           return 1\n",
    "    for child in root.children:\n",
    "        count += leafNodeCount(child)\n",
    "    return count    "
   ]
  },
  {
   "cell_type": "markdown",
   "metadata": {},
   "source": [
    "Program to find node with maximum child."
   ]
  },
  {
   "cell_type": "code",
   "execution_count": 61,
   "metadata": {},
   "outputs": [],
   "source": [
    "def sum(root):\n",
    "    sums=0\n",
    "    for child in root.children:\n",
    "        sums = sums + child.data\n",
    "    return sums    \n",
    "\n",
    "def maxSumNode(root):\n",
    "    if root is None:\n",
    "        return\n",
    "    ans = root.data\n",
    "    nodesum = sum(root) + ans\n",
    "    \n",
    "    for child in root.children:\n",
    "        childans , childsum = maxSumNode(child)\n",
    "        if childsum > nodesum:\n",
    "            nodesum = childsum\n",
    "            ans = childans\n",
    "            \n",
    "    return ans, nodesum        "
   ]
  },
  {
   "cell_type": "markdown",
   "metadata": {},
   "source": [
    "Program to check whether the two tree is identical within its structure and value."
   ]
  },
  {
   "cell_type": "code",
   "execution_count": 29,
   "metadata": {},
   "outputs": [],
   "source": [
    "def isIdentical(root1, root2):\n",
    "    flag = False\n",
    "    if root1 is None or root2 is None:\n",
    "        return None\n",
    "    \n",
    "    if root1.data  == root2.data:\n",
    "        flag = True\n",
    "    elif len(root1.children) != len(root2.children):\n",
    "        flag =False\n",
    "        return flag\n",
    "    else:\n",
    "        flag = False\n",
    "        return flag\n",
    "        \n",
    "    for child1 , child2 in zip(root1.children , root2.children):\n",
    "        flag = isIdentical(child1,child2)\n",
    "        if flag:\n",
    "            pass\n",
    "        else:\n",
    "            return flag\n",
    "    return flag\n"
   ]
  },
  {
   "cell_type": "markdown",
   "metadata": {},
   "source": [
    "Program to find the largest value which we get first in our tree levelwise than a given integer n in a tree"
   ]
  },
  {
   "cell_type": "code",
   "execution_count": 38,
   "metadata": {},
   "outputs": [],
   "source": [
    "import queue\n",
    "def nextLargest(root, n):\n",
    "    if root is None:\n",
    "        return None\n",
    "    q = queue.Queue()\n",
    "    q.put(root)\n",
    "    \n",
    "    while not q.empty():\n",
    "        parent = q.get()\n",
    "        if parent.data > n:\n",
    "            return parent.data\n",
    "        \n",
    "        for child in parent.children:\n",
    "            q.put(child)\n",
    "    return None        "
   ]
  },
  {
   "cell_type": "markdown",
   "metadata": {},
   "source": [
    "In that program we actually give the next largest to the given integer."
   ]
  },
  {
   "cell_type": "code",
   "execution_count": 43,
   "metadata": {},
   "outputs": [],
   "source": [
    "def nextLargest1(root, n):\n",
    "    if root is None:\n",
    "        return None\n",
    "    if root.data > n:\n",
    "        ans = root.data\n",
    "    else:\n",
    "        ans = None\n",
    "        \n",
    "    for child in root.children:\n",
    "        temp = nextLargest1(child,n)\n",
    "        if ans is None:\n",
    "            ans = temp\n",
    "        else:\n",
    "            if temp < ans:\n",
    "                ans = temp\n",
    "                \n",
    "    return ans            "
   ]
  },
  {
   "cell_type": "markdown",
   "metadata": {},
   "source": [
    "Program for a generic tree where we replace our tree data with its depth"
   ]
  },
  {
   "cell_type": "code",
   "execution_count": 52,
   "metadata": {},
   "outputs": [],
   "source": [
    "def replacewithdepth(root,d):\n",
    "    if root is None:\n",
    "        return\n",
    "    root.data = d\n",
    "    for child in root.children:\n",
    "        replacewithdepth(child,d +1)    "
   ]
  },
  {
   "cell_type": "code",
   "execution_count": 51,
   "metadata": {
    "scrolled": false
   },
   "outputs": [
    {
     "name": "stdout",
     "output_type": "stream",
     "text": [
      "10 3 20 30 40 2 19 50 0 0 0 0 \n",
      "10:20,30,40,\n",
      "20:19,50,\n",
      "19:\n",
      "50:\n",
      "30:\n",
      "40:\n",
      "0:1,1,1,\n",
      "1:2,2,\n",
      "2:\n",
      "2:\n",
      "1:\n",
      "1:\n"
     ]
    }
   ],
   "source": [
    "arr = [int(i) for i in input().split()]\n",
    "# arr2 = [int(i) for i in input().split()]\n",
    "root = createLevelWiseTree(arr)\n",
    "# root2 = createLevelWiseTree(arr2)\n",
    "printtreedetailed(root)\n",
    "#printtreedetailed(root)\n",
    "#containsX(root,40)\n",
    "#leafNodeCount(root)\n",
    "# ans,nodesum = maxSumNode(root)\n",
    "# print(ans)\n",
    "#isIdentical(root1 , root2)\n",
    "#print(nextLargest1(root , 18))\n",
    "replacewithdepth(root,0)\n",
    "printtreedetailed(root)"
   ]
  },
  {
   "cell_type": "code",
   "execution_count": 47,
   "metadata": {},
   "outputs": [
    {
     "data": {
      "text/plain": [
       "6"
      ]
     },
     "execution_count": 47,
     "metadata": {},
     "output_type": "execute_result"
    }
   ],
   "source": [
    "c=[1,2,3]\n",
    "sum(c)"
   ]
  }
 ],
 "metadata": {
  "kernelspec": {
   "display_name": "Python 3",
   "language": "python",
   "name": "python3"
  },
  "language_info": {
   "codemirror_mode": {
    "name": "ipython",
    "version": 3
   },
   "file_extension": ".py",
   "mimetype": "text/x-python",
   "name": "python",
   "nbconvert_exporter": "python",
   "pygments_lexer": "ipython3",
   "version": "3.9.0"
  }
 },
 "nbformat": 4,
 "nbformat_minor": 4
}
